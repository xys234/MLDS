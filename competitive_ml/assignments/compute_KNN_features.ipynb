{
 "cells": [
  {
   "cell_type": "markdown",
   "metadata": {},
   "source": [
    "Version 1.1.0"
   ]
  },
  {
   "cell_type": "markdown",
   "metadata": {},
   "source": [
    "# The task"
   ]
  },
  {
   "cell_type": "markdown",
   "metadata": {},
   "source": [
    "In this assignment you will need to implement features, based on nearest neighbours. \n",
    "\n",
    "KNN classifier (regressor) is a very powerful model, when the features are homogeneous and it is a very common practice to use KNN as first level model. In this homework we will extend KNN model and compute more features, based on nearest neighbors and their distances. \n",
    "\n",
    "You will need to implement a number of features, that were one of the key features, that leaded the instructors to prizes in [Otto](https://www.kaggle.com/c/otto-group-product-classification-challenge) and [Springleaf](https://www.kaggle.com/c/springleaf-marketing-response) competitions. Of course, the list of features you will need to implement can be extended, in fact in competitions the list was at least 3 times larger. So when solving a real competition do not hesitate to make up your own features.   \n",
    "\n",
    "You can optionally implement multicore feature computation. Nearest neighbours are hard to compute so it is preferable to have a parallel version of the algorithm. In fact, it is really a cool skill to know how to use `multiprocessing`, `joblib` and etc. In this homework you will have a chance to see the benefits of parallel algorithm. "
   ]
  },
  {
   "cell_type": "markdown",
   "metadata": {},
   "source": [
    "# Check your versions"
   ]
  },
  {
   "cell_type": "markdown",
   "metadata": {},
   "source": [
    "Some functions we use here are not present in old versions of the libraries, so make sure you have up-to-date software. "
   ]
  },
  {
   "cell_type": "code",
   "execution_count": 1,
   "metadata": {},
   "outputs": [
    {
     "name": "stdout",
     "output_type": "stream",
     "text": [
      "numpy 1.12.1\n",
      "pandas 0.23.0\n",
      "sklearn 0.19.1\n",
      "scipy 0.19.1\n"
     ]
    }
   ],
   "source": [
    "import numpy as np\n",
    "import pandas as pd \n",
    "import sklearn\n",
    "import scipy.sparse \n",
    "\n",
    "for p in [np, pd, sklearn, scipy]:\n",
    "    print (p.__name__, p.__version__)"
   ]
  },
  {
   "cell_type": "markdown",
   "metadata": {},
   "source": [
    "The versions should be not less than:\n",
    "\n",
    "    numpy 1.13.1\n",
    "    pandas 0.20.3\n",
    "    sklearn 0.19.0\n",
    "    scipy 0.19.1\n",
    "   \n",
    "**IMPORTANT!** The results with `scipy=1.0.0` will be different! Make sure you use _exactly_ version `0.19.1`."
   ]
  },
  {
   "cell_type": "markdown",
   "metadata": {},
   "source": [
    "# Load data"
   ]
  },
  {
   "cell_type": "markdown",
   "metadata": {},
   "source": [
    "Learn features and labels. These features are actually OOF predictions of linear models."
   ]
  },
  {
   "cell_type": "code",
   "execution_count": 2,
   "metadata": {
    "collapsed": true
   },
   "outputs": [],
   "source": [
    "train_path = '../readonly/KNN_features_data/X.npz'\n",
    "train_labels = '../readonly/KNN_features_data/Y.npy'\n",
    "\n",
    "test_path = '../readonly/KNN_features_data/X_test.npz'\n",
    "test_labels = '../readonly/KNN_features_data/Y_test.npy'\n",
    "\n",
    "# Train data\n",
    "X = scipy.sparse.load_npz(train_path)\n",
    "Y = np.load(train_labels)\n",
    "\n",
    "# Test data\n",
    "X_test = scipy.sparse.load_npz(test_path)\n",
    "Y_test = np.load(test_labels)\n",
    "\n",
    "# Out-of-fold features we loaded above were generated with n_splits=4 and skf seed 123\n",
    "# So it is better to use seed 123 for generating KNN features as well \n",
    "skf_seed = 123\n",
    "n_splits = 4"
   ]
  },
  {
   "cell_type": "markdown",
   "metadata": {},
   "source": [
    "Below you need to implement features, based on nearest neighbors."
   ]
  },
  {
   "cell_type": "code",
   "execution_count": 6,
   "metadata": {},
   "outputs": [
    {
     "data": {
      "text/plain": [
       "<module 'NearestNeighborsFeats' from 'D:\\\\Courses\\\\Coursera_Competitive_ML\\\\competitive_data_science\\\\assignment_week4_KNN features\\\\NearestNeighborsFeats.py'>"
      ]
     },
     "execution_count": 6,
     "metadata": {},
     "output_type": "execute_result"
    }
   ],
   "source": [
    "import importlib\n",
    "import NearestNeighborsFeats\n",
    "importlib.reload(NearestNeighborsFeats)"
   ]
  },
  {
   "cell_type": "markdown",
   "metadata": {},
   "source": [
    "## Sanity check"
   ]
  },
  {
   "cell_type": "markdown",
   "metadata": {},
   "source": [
    "To make sure you've implemented everything correctly we provide you the correct features for the first 50 objects."
   ]
  },
  {
   "cell_type": "code",
   "execution_count": 7,
   "metadata": {},
   "outputs": [
    {
     "name": "stdout",
     "output_type": "stream",
     "text": [
      "Deviation from ground thruth features: 17060742.163066\n",
      "There is a problem in feature 0, which is a part of section 1.\n",
      "There is a problem in feature 1, which is a part of section 1.\n",
      "There is a problem in feature 3, which is a part of section 1.\n",
      "There is a problem in feature 4, which is a part of section 1.\n",
      "There is a problem in feature 6, which is a part of section 1.\n",
      "There is a problem in feature 7, which is a part of section 1.\n",
      "There is a problem in feature 8, which is a part of section 1.\n",
      "There is a problem in feature 10, which is a part of section 1.\n",
      "There is a problem in feature 12, which is a part of section 1.\n",
      "There is a problem in feature 13, which is a part of section 1.\n",
      "There is a problem in feature 14, which is a part of section 1.\n",
      "There is a problem in feature 15, which is a part of section 1.\n",
      "There is a problem in feature 17, which is a part of section 1.\n",
      "There is a problem in feature 18, which is a part of section 1.\n",
      "There is a problem in feature 19, which is a part of section 1.\n",
      "There is a problem in feature 21, which is a part of section 1.\n",
      "There is a problem in feature 22, which is a part of section 1.\n",
      "There is a problem in feature 24, which is a part of section 1.\n",
      "There is a problem in feature 26, which is a part of section 1.\n",
      "There is a problem in feature 27, which is a part of section 1.\n",
      "There is a problem in feature 28, which is a part of section 1.\n",
      "There is a problem in feature 29, which is a part of section 1.\n",
      "There is a problem in feature 30, which is a part of section 1.\n",
      "There is a problem in feature 32, which is a part of section 1.\n",
      "There is a problem in feature 33, which is a part of section 1.\n",
      "There is a problem in feature 35, which is a part of section 1.\n",
      "There is a problem in feature 36, which is a part of section 1.\n",
      "There is a problem in feature 37, which is a part of section 1.\n",
      "There is a problem in feature 39, which is a part of section 1.\n",
      "There is a problem in feature 40, which is a part of section 1.\n",
      "There is a problem in feature 41, which is a part of section 1.\n",
      "There is a problem in feature 42, which is a part of section 1.\n",
      "There is a problem in feature 43, which is a part of section 1.\n",
      "There is a problem in feature 44, which is a part of section 1.\n",
      "There is a problem in feature 46, which is a part of section 1.\n",
      "There is a problem in feature 47, which is a part of section 1.\n",
      "There is a problem in feature 48, which is a part of section 1.\n",
      "There is a problem in feature 50, which is a part of section 1.\n",
      "There is a problem in feature 51, which is a part of section 1.\n",
      "There is a problem in feature 52, which is a part of section 1.\n",
      "There is a problem in feature 53, which is a part of section 1.\n",
      "There is a problem in feature 55, which is a part of section 1.\n",
      "There is a problem in feature 56, which is a part of section 1.\n",
      "There is a problem in feature 57, which is a part of section 1.\n",
      "There is a problem in feature 58, which is a part of section 1.\n",
      "There is a problem in feature 59, which is a part of section 1.\n",
      "There is a problem in feature 60, which is a part of section 1.\n",
      "There is a problem in feature 61, which is a part of section 1.\n",
      "There is a problem in feature 62, which is a part of section 1.\n",
      "There is a problem in feature 64, which is a part of section 1.\n",
      "There is a problem in feature 65, which is a part of section 1.\n",
      "There is a problem in feature 66, which is a part of section 1.\n",
      "There is a problem in feature 67, which is a part of section 1.\n",
      "There is a problem in feature 68, which is a part of section 1.\n",
      "There is a problem in feature 69, which is a part of section 1.\n",
      "There is a problem in feature 70, which is a part of section 1.\n",
      "There is a problem in feature 71, which is a part of section 1.\n",
      "There is a problem in feature 72, which is a part of section 1.\n",
      "There is a problem in feature 73, which is a part of section 1.\n",
      "There is a problem in feature 74, which is a part of section 1.\n",
      "There is a problem in feature 75, which is a part of section 1.\n",
      "There is a problem in feature 76, which is a part of section 1.\n",
      "There is a problem in feature 77, which is a part of section 1.\n",
      "There is a problem in feature 79, which is a part of section 1.\n",
      "There is a problem in feature 80, which is a part of section 1.\n",
      "There is a problem in feature 81, which is a part of section 1.\n",
      "There is a problem in feature 82, which is a part of section 1.\n",
      "There is a problem in feature 83, which is a part of section 1.\n",
      "There is a problem in feature 84, which is a part of section 1.\n",
      "There is a problem in feature 85, which is a part of section 1.\n",
      "There is a problem in feature 86, which is a part of section 1.\n",
      "There is a problem in feature 87, which is a part of section 2.\n",
      "There is a problem in feature 88, which is a part of section 3.\n",
      "There is a problem in feature 89, which is a part of section 3.\n",
      "There is a problem in feature 90, which is a part of section 3.\n",
      "There is a problem in feature 91, which is a part of section 3.\n",
      "There is a problem in feature 92, which is a part of section 3.\n",
      "There is a problem in feature 94, which is a part of section 3.\n",
      "There is a problem in feature 95, which is a part of section 3.\n",
      "There is a problem in feature 96, which is a part of section 3.\n",
      "There is a problem in feature 97, which is a part of section 3.\n",
      "There is a problem in feature 98, which is a part of section 3.\n",
      "There is a problem in feature 99, which is a part of section 3.\n",
      "There is a problem in feature 100, which is a part of section 3.\n",
      "There is a problem in feature 101, which is a part of section 3.\n",
      "There is a problem in feature 102, which is a part of section 3.\n",
      "There is a problem in feature 103, which is a part of section 3.\n",
      "There is a problem in feature 104, which is a part of section 3.\n",
      "There is a problem in feature 105, which is a part of section 3.\n",
      "There is a problem in feature 106, which is a part of section 3.\n",
      "There is a problem in feature 107, which is a part of section 3.\n",
      "There is a problem in feature 109, which is a part of section 3.\n",
      "There is a problem in feature 110, which is a part of section 3.\n",
      "There is a problem in feature 111, which is a part of section 3.\n",
      "There is a problem in feature 112, which is a part of section 3.\n",
      "There is a problem in feature 113, which is a part of section 3.\n",
      "There is a problem in feature 114, which is a part of section 3.\n",
      "There is a problem in feature 115, which is a part of section 3.\n",
      "There is a problem in feature 116, which is a part of section 3.\n",
      "There is a problem in feature 117, which is a part of section 4.\n",
      "There is a problem in feature 118, which is a part of section 4.\n",
      "There is a problem in feature 119, which is a part of section 4.\n",
      "There is a problem in feature 120, which is a part of section 4.\n",
      "There is a problem in feature 121, which is a part of section 4.\n",
      "There is a problem in feature 123, which is a part of section 4.\n",
      "There is a problem in feature 124, which is a part of section 4.\n",
      "There is a problem in feature 125, which is a part of section 4.\n",
      "There is a problem in feature 126, which is a part of section 4.\n",
      "There is a problem in feature 127, which is a part of section 4.\n",
      "There is a problem in feature 128, which is a part of section 4.\n",
      "There is a problem in feature 129, which is a part of section 4.\n",
      "There is a problem in feature 130, which is a part of section 4.\n",
      "There is a problem in feature 131, which is a part of section 4.\n",
      "There is a problem in feature 132, which is a part of section 4.\n",
      "There is a problem in feature 133, which is a part of section 4.\n",
      "There is a problem in feature 134, which is a part of section 4.\n",
      "There is a problem in feature 135, which is a part of section 4.\n",
      "There is a problem in feature 136, which is a part of section 4.\n",
      "There is a problem in feature 138, which is a part of section 4.\n",
      "There is a problem in feature 139, which is a part of section 4.\n",
      "There is a problem in feature 140, which is a part of section 4.\n",
      "There is a problem in feature 141, which is a part of section 4.\n",
      "There is a problem in feature 142, which is a part of section 4.\n",
      "There is a problem in feature 143, which is a part of section 4.\n",
      "There is a problem in feature 144, which is a part of section 4.\n",
      "There is a problem in feature 145, which is a part of section 4.\n",
      "There is a problem in feature 146, which is a part of section 5.\n",
      "There is a problem in feature 147, which is a part of section 5.\n",
      "There is a problem in feature 148, which is a part of section 5.\n",
      "There is a problem in feature 149, which is a part of section 5.\n",
      "There is a problem in feature 150, which is a part of section 5.\n",
      "There is a problem in feature 151, which is a part of section 5.\n",
      "There is a problem in feature 152, which is a part of section 6.\n",
      "There is a problem in feature 153, which is a part of section 6.\n",
      "There is a problem in feature 155, which is a part of section 6.\n",
      "There is a problem in feature 156, which is a part of section 6.\n",
      "There is a problem in feature 158, which is a part of section 6.\n",
      "There is a problem in feature 159, which is a part of section 6.\n",
      "There is a problem in feature 160, which is a part of section 6.\n",
      "There is a problem in feature 162, which is a part of section 6.\n",
      "There is a problem in feature 164, which is a part of section 6.\n",
      "There is a problem in feature 165, which is a part of section 6.\n",
      "There is a problem in feature 166, which is a part of section 6.\n",
      "There is a problem in feature 167, which is a part of section 6.\n",
      "There is a problem in feature 169, which is a part of section 6.\n",
      "There is a problem in feature 170, which is a part of section 6.\n",
      "There is a problem in feature 171, which is a part of section 6.\n",
      "There is a problem in feature 173, which is a part of section 6.\n",
      "There is a problem in feature 174, which is a part of section 6.\n",
      "There is a problem in feature 176, which is a part of section 6.\n",
      "There is a problem in feature 178, which is a part of section 6.\n",
      "There is a problem in feature 179, which is a part of section 6.\n",
      "There is a problem in feature 180, which is a part of section 6.\n",
      "There is a problem in feature 181, which is a part of section 6.\n",
      "There is a problem in feature 182, which is a part of section 6.\n",
      "There is a problem in feature 184, which is a part of section 6.\n",
      "There is a problem in feature 185, which is a part of section 6.\n",
      "There is a problem in feature 187, which is a part of section 6.\n",
      "There is a problem in feature 188, which is a part of section 6.\n",
      "There is a problem in feature 189, which is a part of section 6.\n",
      "There is a problem in feature 191, which is a part of section 6.\n",
      "There is a problem in feature 192, which is a part of section 6.\n",
      "There is a problem in feature 193, which is a part of section 6.\n",
      "There is a problem in feature 194, which is a part of section 6.\n",
      "There is a problem in feature 195, which is a part of section 6.\n",
      "There is a problem in feature 196, which is a part of section 6.\n",
      "There is a problem in feature 198, which is a part of section 6.\n",
      "There is a problem in feature 199, which is a part of section 6.\n",
      "There is a problem in feature 200, which is a part of section 6.\n",
      "There is a problem in feature 202, which is a part of section 6.\n",
      "There is a problem in feature 203, which is a part of section 6.\n",
      "There is a problem in feature 204, which is a part of section 6.\n",
      "There is a problem in feature 205, which is a part of section 6.\n",
      "There is a problem in feature 207, which is a part of section 6.\n",
      "There is a problem in feature 208, which is a part of section 6.\n",
      "There is a problem in feature 209, which is a part of section 6.\n",
      "There is a problem in feature 210, which is a part of section 6.\n",
      "There is a problem in feature 211, which is a part of section 6.\n",
      "There is a problem in feature 212, which is a part of section 6.\n",
      "There is a problem in feature 213, which is a part of section 6.\n",
      "There is a problem in feature 214, which is a part of section 6.\n",
      "There is a problem in feature 216, which is a part of section 6.\n",
      "There is a problem in feature 217, which is a part of section 6.\n",
      "There is a problem in feature 218, which is a part of section 6.\n",
      "There is a problem in feature 219, which is a part of section 6.\n",
      "There is a problem in feature 220, which is a part of section 6.\n",
      "There is a problem in feature 221, which is a part of section 6.\n",
      "There is a problem in feature 222, which is a part of section 6.\n",
      "There is a problem in feature 223, which is a part of section 6.\n",
      "There is a problem in feature 224, which is a part of section 6.\n",
      "There is a problem in feature 225, which is a part of section 6.\n",
      "There is a problem in feature 226, which is a part of section 6.\n",
      "There is a problem in feature 227, which is a part of section 6.\n",
      "There is a problem in feature 228, which is a part of section 6.\n",
      "There is a problem in feature 229, which is a part of section 6.\n",
      "There is a problem in feature 231, which is a part of section 6.\n",
      "There is a problem in feature 232, which is a part of section 6.\n",
      "There is a problem in feature 233, which is a part of section 6.\n",
      "There is a problem in feature 234, which is a part of section 6.\n",
      "There is a problem in feature 235, which is a part of section 6.\n",
      "There is a problem in feature 236, which is a part of section 6.\n",
      "There is a problem in feature 237, which is a part of section 6.\n",
      "There is a problem in feature 238, which is a part of section 6.\n"
     ]
    }
   ],
   "source": [
    "# a list of K in KNN, starts with one \n",
    "k_list = [3, 8, 32]\n",
    "\n",
    "# Load correct features\n",
    "true_knn_feats_first50 = np.load('../readonly/KNN_features_data/knn_feats_test_first50.npy')\n",
    "\n",
    "# Create instance of our KNN feature extractor\n",
    "NNF = NearestNeighborsFeats.NearestNeighborsFeats(n_jobs=1, k_list=k_list, metric='minkowski')\n",
    "\n",
    "# Fit on train set\n",
    "NNF.fit(X, Y)\n",
    "\n",
    "# Get features for test\n",
    "test_knn_feats = NNF.predict(X_test[:50])\n",
    "\n",
    "# This should be zero\n",
    "print ('Deviation from ground thruth features: %f' % np.abs(test_knn_feats - true_knn_feats_first50[44:45]).sum())\n",
    "\n",
    "deviation =np.abs(test_knn_feats - true_knn_feats_first50[44:45]).sum(0)\n",
    "for m in np.where(deviation > 1e-3)[0]: \n",
    "    p = np.where(np.array([87, 88, 117, 146, 152, 239]) > m)[0][0]\n",
    "    print ('There is a problem in feature %d, which is a part of section %d.' % (m, p + 1))"
   ]
  },
  {
   "cell_type": "markdown",
   "metadata": {},
   "source": [
    "Now implement parallel computations and compute features for the train and test sets. "
   ]
  },
  {
   "cell_type": "markdown",
   "metadata": {},
   "source": [
    "## Get features for test"
   ]
  },
  {
   "cell_type": "markdown",
   "metadata": {},
   "source": [
    "Now compute features for the whole test set."
   ]
  },
  {
   "cell_type": "code",
   "execution_count": 9,
   "metadata": {},
   "outputs": [],
   "source": [
    "# import square\n",
    "# pool = Pool(4)\n",
    "# s = square.square()\n",
    "# for res in pool.map(s.f,range(20)):\n",
    "#     print(res)"
   ]
  },
  {
   "cell_type": "code",
   "execution_count": 13,
   "metadata": {},
   "outputs": [
    {
     "name": "stdout",
     "output_type": "stream",
     "text": [
      "minkowski\n",
      "cosine\n"
     ]
    }
   ],
   "source": [
    "\n",
    "for metric in ['minkowski', 'cosine']:\n",
    "    print (metric)\n",
    "    \n",
    "    # Create instance of our KNN feature extractor\n",
    "    NNF = NearestNeighborsFeats.NearestNeighborsFeats(n_jobs=4, k_list=k_list, metric=metric)\n",
    "    \n",
    "    # Fit on train set\n",
    "    NNF.fit(X, Y)\n",
    "\n",
    "    # Get features for test\n",
    "    test_knn_feats = NNF.predict(X_test)\n",
    "    \n",
    "    # Dump the features to disk\n",
    "    np.save('data/knn_feats_%s_test.npy' % metric , test_knn_feats)"
   ]
  },
  {
   "cell_type": "markdown",
   "metadata": {},
   "source": [
    "## Get features for train"
   ]
  },
  {
   "cell_type": "markdown",
   "metadata": {},
   "source": [
    "Compute features for train, using out-of-fold strategy."
   ]
  },
  {
   "cell_type": "code",
   "execution_count": 16,
   "metadata": {},
   "outputs": [
    {
     "name": "stdout",
     "output_type": "stream",
     "text": [
      "minkowski\n",
      "cosine\n"
     ]
    }
   ],
   "source": [
    "# Differently from other homework we will not implement OOF predictions ourselves\n",
    "# but use sklearn's `cross_val_predict`\n",
    "from sklearn.model_selection import cross_val_predict\n",
    "from sklearn.model_selection import StratifiedKFold\n",
    "\n",
    "# We will use two metrics for KNN\n",
    "for metric in ['minkowski', 'cosine']:\n",
    "    print (metric)\n",
    "    \n",
    "    # Set up splitting scheme, use StratifiedKFold\n",
    "    # use skf_seed and n_splits defined above with shuffle=True\n",
    "    skf = StratifiedKFold(n_splits=n_splits, shuffle=True, random_state=skf_seed) # YOUR CODE GOES HERE\n",
    "    \n",
    "    # Create instance of our KNN feature extractor\n",
    "    # n_jobs can be larger than the number of cores\n",
    "    NNF = NearestNeighborsFeats.NearestNeighborsFeats(n_jobs=4, k_list=k_list, metric=metric)\n",
    "    \n",
    "    # Get KNN features using OOF use cross_val_predict with right parameters\n",
    "    preds = cross_val_predict(NNF, X, Y, cv=skf) # YOUR CODE GOES HERE\n",
    "    \n",
    "    # Save the features\n",
    "    np.save('data/knn_feats_%s_train.npy' % metric, preds)"
   ]
  },
  {
   "cell_type": "markdown",
   "metadata": {},
   "source": [
    "# Submit"
   ]
  },
  {
   "cell_type": "markdown",
   "metadata": {},
   "source": [
    "If you made the above cells work, just run the following cell to produce a number to submit."
   ]
  },
  {
   "cell_type": "code",
   "execution_count": 17,
   "metadata": {},
   "outputs": [
    {
     "name": "stdout",
     "output_type": "stream",
     "text": [
      "3838.0\n"
     ]
    }
   ],
   "source": [
    "s = 0\n",
    "for metric in ['minkowski', 'cosine']:\n",
    "    knn_feats_train = np.load('data/knn_feats_%s_train.npy' % metric)\n",
    "    knn_feats_test = np.load('data/knn_feats_%s_test.npy' % metric)\n",
    "    \n",
    "    s += knn_feats_train.mean() + knn_feats_test.mean()\n",
    "    \n",
    "answer = np.floor(s)\n",
    "print (answer)"
   ]
  },
  {
   "cell_type": "markdown",
   "metadata": {},
   "source": [
    "Submit!"
   ]
  },
  {
   "cell_type": "code",
   "execution_count": 21,
   "metadata": {},
   "outputs": [
    {
     "name": "stdout",
     "output_type": "stream",
     "text": [
      "Current answer for task statistic is: 3838.0\n",
      "You want to submit these numbers:\n",
      "Task statistic: 3838.0\n",
      "Submitted to Coursera platform. See results on assignment page!\n"
     ]
    }
   ],
   "source": [
    "from grader import Grader\n",
    "\n",
    "grader = Grader()\n",
    "grader.submit_tag('statistic', answer)\n",
    "\n",
    "STUDENT_EMAIL = 'xys234@gmail.com' # EMAIL HERE\n",
    "STUDENT_TOKEN = 'XT5ePXNryNTn0oPV' # TOKEN HERE\n",
    "grader.status()\n",
    "\n",
    "grader.submit(STUDENT_EMAIL, STUDENT_TOKEN)"
   ]
  },
  {
   "cell_type": "code",
   "execution_count": null,
   "metadata": {
    "collapsed": true
   },
   "outputs": [],
   "source": []
  }
 ],
 "metadata": {
  "anaconda-cloud": {},
  "kernelspec": {
   "display_name": "Python 3",
   "language": "python",
   "name": "python3"
  },
  "language_info": {
   "codemirror_mode": {
    "name": "ipython",
    "version": 3
   },
   "file_extension": ".py",
   "mimetype": "text/x-python",
   "name": "python",
   "nbconvert_exporter": "python",
   "pygments_lexer": "ipython3",
   "version": "3.6.1"
  }
 },
 "nbformat": 4,
 "nbformat_minor": 2
}
