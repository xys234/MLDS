{
 "cells": [
  {
   "cell_type": "markdown",
   "metadata": {},
   "source": [
    "# Features"
   ]
  },
  {
   "cell_type": "code",
   "execution_count": 105,
   "metadata": {
    "_cell_guid": "b1076dfc-b9ad-4769-8c92-a6c4dae69d19",
    "_uuid": "8f2839f25d086af736a60e9eeb907d3b93b6e0e5"
   },
   "outputs": [
    {
     "data": {
      "text/plain": [
       "sys.version_info(major=3, minor=6, micro=3, releaselevel='final', serial=0)"
      ]
     },
     "execution_count": 105,
     "metadata": {},
     "output_type": "execute_result"
    }
   ],
   "source": [
    "import numpy as np\n",
    "import pandas as pd\n",
    "import time\n",
    "import sys\n",
    "import pickle\n",
    "from xgboost import XGBRegressor\n",
    "from itertools import product\n",
    "from sklearn.preprocessing import LabelEncoder\n",
    "import gc\n",
    "import seaborn as sns\n",
    "import matplotlib.pyplot as plt\n",
    "%matplotlib inline\n",
    "\n",
    "pd.set_option('display.max_rows', 500)\n",
    "pd.set_option('display.max_columns', 100)\n",
    "\n",
    "sys.version_info"
   ]
  },
  {
   "cell_type": "markdown",
   "metadata": {},
   "source": [
    "## Data"
   ]
  },
  {
   "cell_type": "code",
   "execution_count": 82,
   "metadata": {
    "_cell_guid": "79c7e3d0-c299-4dcb-8224-4455121ee9b0",
    "_uuid": "d629ff2d2480ee46fbb7e2d37f6b5fab8052498a"
   },
   "outputs": [],
   "source": [
    "items = pd.read_csv('C:\\\\Users\\\\guidil\\\\Downloads\\\\Coursera_FinalProject\\\\Coursera_FinalProject\\\\items.csv')\n",
    "shops = pd.read_csv('C:\\\\Users\\\\guidil\\\\Downloads\\\\Coursera_FinalProject\\\\Coursera_FinalProject\\\\shops.csv')\n",
    "cats = pd.read_csv('C:\\\\Users\\\\guidil\\\\Downloads\\\\Coursera_FinalProject\\\\Coursera_FinalProject\\\\item_categories.csv')\n",
    "train = pd.read_csv('C:\\\\Users\\\\guidil\\\\Downloads\\\\Coursera_FinalProject\\\\Coursera_FinalProject\\\\sales_train.csv.gz', compression='gzip')\n",
    "# I set index to avoid removing ID column later\n",
    "test  = pd.read_csv('C:\\\\Users\\\\guidil\\\\Downloads\\\\Coursera_FinalProject\\\\Coursera_FinalProject\\\\test.csv.gz', compression='gzip').set_index('ID') "
   ]
  },
  {
   "cell_type": "markdown",
   "metadata": {},
   "source": [
    "elimino outlier individuati una fase precedente di EDA"
   ]
  },
  {
   "cell_type": "code",
   "execution_count": 83,
   "metadata": {
    "_uuid": "7e621535d112603c60aeb2c2f83dbbf96d36b732"
   },
   "outputs": [],
   "source": [
    "train = train[train.item_price<100000]\n",
    "train = train[train.item_cnt_day<1001]"
   ]
  },
  {
   "cell_type": "markdown",
   "metadata": {},
   "source": [
    "Deduplico negozi in base al nome"
   ]
  },
  {
   "cell_type": "code",
   "execution_count": 84,
   "metadata": {
    "_uuid": "00fe91e9c482ea413abd774ff903fe3d152785dd"
   },
   "outputs": [],
   "source": [
    "# Якутск Орджоникидзе, 56\n",
    "train.loc[train.shop_id == 0, 'shop_id'] = 57\n",
    "test.loc[test.shop_id == 0, 'shop_id'] = 57\n",
    "# Якутск ТЦ \"Центральный\"\n",
    "train.loc[train.shop_id == 1, 'shop_id'] = 58\n",
    "test.loc[test.shop_id == 1, 'shop_id'] = 58\n",
    "# Жуковский ул. Чкалова 39м²\n",
    "train.loc[train.shop_id == 10, 'shop_id'] = 11\n",
    "test.loc[test.shop_id == 10, 'shop_id'] = 11"
   ]
  },
  {
   "cell_type": "markdown",
   "metadata": {},
   "source": [
    "Pulizia su shop name e city name"
   ]
  },
  {
   "cell_type": "code",
   "execution_count": 85,
   "metadata": {
    "_uuid": "12fae4c8d0c8f3e817307d1e0ffc6831e9a8d696"
   },
   "outputs": [],
   "source": [
    "shops.loc[shops.shop_name == 'Сергиев Посад ТЦ \"7Я\"', 'shop_name'] = 'СергиевПосад ТЦ \"7Я\"'\n",
    "shops['city'] = shops['shop_name'].str.split(' ').map(lambda x: x[0])\n",
    "shops.loc[shops.city == '!Якутск', 'city'] = 'Якутск'\n",
    "shops['city_code'] = LabelEncoder().fit_transform(shops['city'])\n",
    "shops = shops[['shop_id','city_code']]\n",
    "\n",
    "cats['split'] = cats['item_category_name'].str.split('-')\n",
    "cats['type'] = cats['split'].map(lambda x: x[0].strip())\n",
    "cats['type_code'] = LabelEncoder().fit_transform(cats['type'])\n",
    "# if subtype is nan then type\n",
    "cats['subtype'] = cats['split'].map(lambda x: x[1].strip() if len(x) > 1 else x[0].strip())\n",
    "cats['subtype_code'] = LabelEncoder().fit_transform(cats['subtype'])\n",
    "cats = cats[['item_category_id','type_code', 'subtype_code']]\n",
    "\n",
    "items.drop(['item_name'], axis=1, inplace=True)"
   ]
  },
  {
   "cell_type": "markdown",
   "metadata": {},
   "source": [
    "Monthly sales"
   ]
  },
  {
   "cell_type": "code",
   "execution_count": 86,
   "metadata": {
    "_uuid": "7626c7455ea71b65894c6c866519df15080fa2ac"
   },
   "outputs": [],
   "source": [
    "monthly_sales = []\n",
    "cols = ['date_block_num','shop_id','item_id']\n",
    "for i in range(34):\n",
    "    sales = train[train.date_block_num==i]\n",
    "    monthly_sales.append(np.array(list(product([i], sales.shop_id.unique(), sales.item_id.unique())), dtype='int16'))\n",
    "    \n",
    "monthly_sales = pd.DataFrame(np.vstack(monthly_sales), columns=cols)\n",
    "monthly_sales['date_block_num'] = monthly_sales['date_block_num'].astype(np.int8)\n",
    "monthly_sales['shop_id'] = monthly_sales['shop_id'].astype(np.int8)\n",
    "monthly_sales['item_id'] = monthly_sales['item_id'].astype(np.int16)"
   ]
  },
  {
   "cell_type": "markdown",
   "metadata": {},
   "source": [
    "Unisco le vendite con le descrizioni di prodotto e categoria"
   ]
  },
  {
   "cell_type": "code",
   "execution_count": 87,
   "metadata": {
    "_uuid": "61f4615325d00ff4396ebc72d8b9b630eca5b1cf"
   },
   "outputs": [],
   "source": [
    "ts = time.time()\n",
    "monthly_sales = pd.merge(monthly_sales, shops, on=['shop_id'], how='left')\\\n",
    "                  .merge(items, on=['item_id'], how='left')\\\n",
    "                  .merge(cats, on=['item_category_id'], how='left')\n",
    "list_ = ['city_code','item_category_id','type_code','subtype_code']\n",
    "for idx in list_:\n",
    "    monthly_sales[idx] = monthly_sales[idx].astype(np.int8)"
   ]
  },
  {
   "cell_type": "code",
   "execution_count": 88,
   "metadata": {
    "_uuid": "7dd27181918fc7df89676e24d72130d183929d2d"
   },
   "outputs": [],
   "source": [
    "ts = time.time()\n",
    "group = train.groupby(['date_block_num','shop_id','item_id']).agg({\n",
    "    'item_cnt_day': ['sum', 'count']\n",
    "})\n",
    "group.columns = ['item_cnt_month', 'orders']\n",
    "group.reset_index(inplace=True)\n",
    "\n",
    "monthly_sales = pd.merge(monthly_sales, group, on=cols, how='left')\n",
    "monthly_sales['item_cnt_month'] = monthly_sales['item_cnt_month'].fillna(0).clip(0,20).astype(np.float16)\n",
    "monthly_sales['orders'] = monthly_sales['orders'].fillna(0).astype(np.float16)"
   ]
  },
  {
   "cell_type": "code",
   "execution_count": 89,
   "metadata": {},
   "outputs": [],
   "source": [
    "group = train.groupby(['date_block_num','item_id']).agg({'item_price': ['mean']})\n",
    "group.columns = ['item_price']\n",
    "group.reset_index(inplace=True)\n",
    "\n",
    "monthly_sales = pd.merge(monthly_sales, group, on=['date_block_num','item_id'], how='left')\n",
    "monthly_sales['item_price'] = monthly_sales['item_price'].astype(np.float32) "
   ]
  },
  {
   "cell_type": "markdown",
   "metadata": {},
   "source": [
    "## Mean encoded features"
   ]
  },
  {
   "cell_type": "markdown",
   "metadata": {},
   "source": [
    "By date and item id"
   ]
  },
  {
   "cell_type": "code",
   "execution_count": 90,
   "metadata": {
    "_uuid": "fc9166c4e678ebb99d03566f1751b7d4b5c690d2"
   },
   "outputs": [],
   "source": [
    "means = monthly_sales.groupby(['date_block_num', 'item_id']).agg({\n",
    "    'item_cnt_month': ['mean'],\n",
    "    'orders': ['sum'],\n",
    "    'item_price': ['mean']\n",
    "})\n",
    "means.columns = [ 'date_item_avg_item_cnt', 'date_item_sum_orders', 'date_item_avg_item_price' ]\n",
    "means.reset_index(inplace=True)\n",
    "\n",
    "monthly_sales = pd.merge(monthly_sales, means, on=['date_block_num','item_id'], how='left')\n",
    "monthly_sales['date_item_avg_item_cnt'] = monthly_sales['date_item_avg_item_cnt'].astype(np.float16)\n",
    "monthly_sales['date_item_sum_orders'] = monthly_sales['date_item_sum_orders'].astype(np.float16)\n",
    "monthly_sales['date_item_avg_item_price'] = monthly_sales['date_item_avg_item_price'].astype(np.float32)"
   ]
  },
  {
   "cell_type": "code",
   "execution_count": 91,
   "metadata": {
    "_uuid": "77cd35149f988380d94fab666e9fd8ba7b704907"
   },
   "outputs": [],
   "source": [
    "means = monthly_sales.groupby(['shop_id', 'item_id']).agg({\n",
    "    'item_cnt_month': ['mean'],\n",
    "    'orders': ['sum'],\n",
    "    'item_price': ['mean']\n",
    "})\n",
    "means.columns = [ 'shop_item_avg_item_cnt', 'shop_item_sum_orders', 'shop_item_avg_item_price' ]\n",
    "means.reset_index(inplace=True)\n",
    "\n",
    "monthly_sales = pd.merge(monthly_sales, means, on=['shop_id','item_id'], how='left')\n",
    "monthly_sales['shop_item_avg_item_cnt'] = monthly_sales['shop_item_avg_item_cnt'].astype(np.float16)\n",
    "monthly_sales['shop_item_sum_orders'] = monthly_sales['shop_item_sum_orders'].astype(np.float16)\n",
    "monthly_sales['shop_item_avg_item_price'] = monthly_sales['shop_item_avg_item_price'].astype(np.float32)"
   ]
  },
  {
   "cell_type": "code",
   "execution_count": 92,
   "metadata": {
    "_uuid": "e8ec52f6b51ac69c39a3ceece43077ee472e9bf6"
   },
   "outputs": [],
   "source": [
    "means = monthly_sales.groupby(['date_block_num', 'shop_id']).agg({\n",
    "    'item_cnt_month': ['mean'],\n",
    "    'orders': ['sum'],\n",
    "    'item_price': ['mean']\n",
    "})\n",
    "means.columns = [ 'date_shop_avg_item_cnt', 'date_shop_sum_orders', 'date_shop_avg_item_price' ]\n",
    "means.reset_index(inplace=True)\n",
    "\n",
    "monthly_sales = pd.merge(monthly_sales, means, on=['date_block_num','shop_id'], how='left')\n",
    "monthly_sales['date_shop_avg_item_cnt'] = monthly_sales['date_shop_avg_item_cnt'].astype(np.float16)\n",
    "monthly_sales['date_shop_sum_orders'] = monthly_sales['date_shop_sum_orders'].astype(np.float16)\n",
    "monthly_sales['date_shop_avg_item_price'] = monthly_sales['date_shop_avg_item_price'].astype(np.float32)"
   ]
  },
  {
   "cell_type": "code",
   "execution_count": 93,
   "metadata": {
    "_uuid": "1c89d2aaefd56054161ae1f58ea003cc312027d7"
   },
   "outputs": [],
   "source": [
    "means = matrix.groupby(['date_block_num', 'item_category_id']).agg({\n",
    "    'item_cnt_month': ['mean'],\n",
    "    'orders': ['sum'],\n",
    "    'item_price': ['mean']\n",
    "})\n",
    "means.columns = [ 'date_cat_avg_item_cnt', 'date_cat_sum_orders', 'date_cat_avg_item_price' ]\n",
    "means.reset_index(inplace=True)\n",
    "\n",
    "monthly_sales = pd.merge(monthly_sales, means, on=['date_block_num','item_category_id'], how='left')\n",
    "monthly_sales['date_cat_avg_item_cnt'] = monthly_sales['date_cat_avg_item_cnt'].astype(np.float16)\n",
    "monthly_sales['date_cat_sum_orders'] = monthly_sales['date_cat_sum_orders'].astype(np.float16)\n",
    "monthly_sales['date_cat_avg_item_price'] = monthly_sales['date_cat_avg_item_price'].astype(np.float32)"
   ]
  },
  {
   "cell_type": "code",
   "execution_count": 94,
   "metadata": {
    "_uuid": "9eb3dcb2698f0828f5a0b3d6566581cb381d8866"
   },
   "outputs": [],
   "source": [
    "means = monthly_sales.groupby(['date_block_num', 'item_id', 'city_code']).agg({\n",
    "    'item_cnt_month': ['mean']\n",
    "})\n",
    "means.columns = [ 'date_item_city_avg_item_cnt' ]\n",
    "means.reset_index(inplace=True)\n",
    "\n",
    "monthly_sales = pd.merge(monthly_sales, means, on=['date_block_num','item_id','city_code'], how='left')\n",
    "monthly_sales['date_item_city_avg_item_cnt'] = monthly_sales['date_item_city_avg_item_cnt'].astype(np.float16)"
   ]
  },
  {
   "cell_type": "markdown",
   "metadata": {},
   "source": [
    "Test set"
   ]
  },
  {
   "cell_type": "code",
   "execution_count": 95,
   "metadata": {},
   "outputs": [
    {
     "data": {
      "text/plain": [
       "Index(['item_category_id', 'type_code', 'subtype_code'], dtype='object')"
      ]
     },
     "execution_count": 95,
     "metadata": {},
     "output_type": "execute_result"
    }
   ],
   "source": [
    "cats.columns"
   ]
  },
  {
   "cell_type": "code",
   "execution_count": 96,
   "metadata": {
    "_uuid": "49c694fd908d7aa37ba43c961f522307ee16b544"
   },
   "outputs": [],
   "source": [
    "test['date_block_num'] = 34\n",
    "test = pd.merge(test, shops, on='shop_id', how='left')\\\n",
    "         .merge(items, on='item_id', how='left')\\\n",
    "         .merge(cats, on='item_category_id', how='left')"
   ]
  },
  {
   "cell_type": "code",
   "execution_count": 97,
   "metadata": {},
   "outputs": [
    {
     "name": "stdout",
     "output_type": "stream",
     "text": [
      "date_block_num\n",
      "shop_id\n",
      "city_code\n",
      "item_category_id\n",
      "type_code\n",
      "subtype_code\n"
     ]
    }
   ],
   "source": [
    "test['item_id'] = test['item_id'].astype(np.int16)\n",
    "list_ = ['date_block_num','shop_id','city_code','item_category_id','type_code','subtype_code']\n",
    "for idx in list_:\n",
    "    print (idx)\n",
    "    test[idx] = test[idx].astype(np.int8)"
   ]
  },
  {
   "cell_type": "code",
   "execution_count": 98,
   "metadata": {
    "_uuid": "5b44e42af3168d8e9128d67774e484cc6fd69760"
   },
   "outputs": [],
   "source": [
    "monthly_sales = pd.concat([monthly_sales, test], ignore_index=True, keys=cols)\n",
    "monthly_sales.fillna(0, inplace=True)"
   ]
  },
  {
   "cell_type": "markdown",
   "metadata": {},
   "source": [
    "## Lag features"
   ]
  },
  {
   "cell_type": "code",
   "execution_count": 100,
   "metadata": {
    "_uuid": "ed0bcfd2ec243c970dd3ce730ecab1f240c7cb85"
   },
   "outputs": [
    {
     "data": {
      "text/plain": [
       "117.25255274772644"
      ]
     },
     "execution_count": 100,
     "metadata": {},
     "output_type": "execute_result"
    }
   ],
   "source": [
    "ts = time.time()\n",
    "def shift(df, month):\n",
    "    copy = df.drop([\n",
    "        'city_code',\n",
    "        'item_category_id',\n",
    "        'type_code',\n",
    "        'subtype_code',\n",
    "        'item_price'\n",
    "    ], axis=1)\n",
    "    copy['date_block_num'] += month\n",
    "    return copy\n",
    "\n",
    "data = monthly_sales\n",
    "lags = [1, 2, 3, 4, 5, 12]\n",
    "for i in lags:\n",
    "    data = pd.merge(data, shift(monthly_sales, i), on=['date_block_num','shop_id','item_id'], how='left',  suffixes=['', '_'+str(i)])\n",
    "\n",
    "time.time() - ts"
   ]
  },
  {
   "cell_type": "code",
   "execution_count": 102,
   "metadata": {
    "_uuid": "06828141d30b712880dcabca2d038eebed3296c9"
   },
   "outputs": [
    {
     "data": {
      "text/plain": [
       "4.968716144561768"
      ]
     },
     "execution_count": 102,
     "metadata": {},
     "output_type": "execute_result"
    }
   ],
   "source": [
    "data = data[data.date_block_num > 11]\n",
    "data.drop([\n",
    "    'orders', \n",
    "    'item_price',\n",
    "    'date_item_avg_item_cnt', \n",
    "    'date_item_sum_orders',\n",
    "    'date_item_avg_item_price', \n",
    "    'shop_item_avg_item_cnt',\n",
    "    'shop_item_sum_orders', \n",
    "    'shop_item_avg_item_price',\n",
    "    'date_shop_avg_item_cnt', \n",
    "    'date_shop_sum_orders',\n",
    "    'date_shop_avg_item_price', \n",
    "    'date_cat_avg_item_cnt', \n",
    "    'date_cat_sum_orders', \n",
    "    'date_cat_avg_item_price', \n",
    "    'date_item_city_avg_item_cnt'\n",
    "], axis=1, inplace=True)"
   ]
  },
  {
   "cell_type": "code",
   "execution_count": 103,
   "metadata": {
    "_uuid": "a7909776d135737a0318da17c2fb897946b3b739"
   },
   "outputs": [],
   "source": [
    "def fill_na(df):\n",
    "    for col in df.columns:\n",
    "        if df[col].isnull().any():\n",
    "            if ('item_cnt' in col):\n",
    "                df[col].fillna(0, inplace=True)\n",
    "            if ('orders' in col):\n",
    "                df[col].fillna(0, inplace=True)\n",
    "            if ('item_price' in col):\n",
    "                df[col].fillna(df[col].median(), inplace=True)\n",
    "    return df\n",
    "\n",
    "data = fill_na(data)"
   ]
  },
  {
   "cell_type": "markdown",
   "metadata": {
    "collapsed": true
   },
   "source": [
    "XGBoost"
   ]
  },
  {
   "cell_type": "code",
   "execution_count": 106,
   "metadata": {},
   "outputs": [
    {
     "data": {
      "text/plain": [
       "716"
      ]
     },
     "execution_count": 106,
     "metadata": {},
     "output_type": "execute_result"
    }
   ],
   "source": [
    "X_train = data[data.date_block_num < 33].drop(['item_cnt_month'], axis=1)\n",
    "Y_train = data[data.date_block_num < 33]['item_cnt_month']\n",
    "X_valid = data[data.date_block_num == 33].drop(['item_cnt_month'], axis=1)\n",
    "Y_valid = data[data.date_block_num == 33]['item_cnt_month']\n",
    "X_test = data[data.date_block_num == 34].drop(['item_cnt_month'], axis=1)\n",
    "del data\n",
    "gc.collect()"
   ]
  },
  {
   "cell_type": "code",
   "execution_count": 107,
   "metadata": {},
   "outputs": [
    {
     "name": "stdout",
     "output_type": "stream",
     "text": [
      "[0]\tvalidation_0-rmse:1.12629\n",
      "Will train until validation_0-rmse hasn't improved in 10 rounds.\n",
      "[1]\tvalidation_0-rmse:1.09619\n",
      "[2]\tvalidation_0-rmse:1.06701\n",
      "[3]\tvalidation_0-rmse:1.04424\n",
      "[4]\tvalidation_0-rmse:1.02063\n",
      "[5]\tvalidation_0-rmse:1.00086\n",
      "[6]\tvalidation_0-rmse:0.985725\n",
      "[7]\tvalidation_0-rmse:0.972595\n",
      "[8]\tvalidation_0-rmse:0.963573\n",
      "[9]\tvalidation_0-rmse:0.951309\n",
      "[10]\tvalidation_0-rmse:0.943397\n",
      "[11]\tvalidation_0-rmse:0.937655\n",
      "[12]\tvalidation_0-rmse:0.931164\n",
      "[13]\tvalidation_0-rmse:0.92564\n",
      "[14]\tvalidation_0-rmse:0.921455\n",
      "[15]\tvalidation_0-rmse:0.91802\n",
      "[16]\tvalidation_0-rmse:0.915781\n",
      "[17]\tvalidation_0-rmse:0.913033\n",
      "[18]\tvalidation_0-rmse:0.910575\n",
      "[19]\tvalidation_0-rmse:0.90874\n",
      "[20]\tvalidation_0-rmse:0.906774\n",
      "[21]\tvalidation_0-rmse:0.905634\n",
      "[22]\tvalidation_0-rmse:0.904765\n",
      "[23]\tvalidation_0-rmse:0.903503\n",
      "[24]\tvalidation_0-rmse:0.901586\n",
      "[25]\tvalidation_0-rmse:0.901203\n",
      "[26]\tvalidation_0-rmse:0.900537\n",
      "[27]\tvalidation_0-rmse:0.899917\n",
      "[28]\tvalidation_0-rmse:0.899591\n",
      "[29]\tvalidation_0-rmse:0.899545\n",
      "[30]\tvalidation_0-rmse:0.899365\n",
      "[31]\tvalidation_0-rmse:0.898978\n",
      "[32]\tvalidation_0-rmse:0.897925\n",
      "[33]\tvalidation_0-rmse:0.897623\n",
      "[34]\tvalidation_0-rmse:0.897389\n",
      "[35]\tvalidation_0-rmse:0.8973\n",
      "[36]\tvalidation_0-rmse:0.897208\n",
      "[37]\tvalidation_0-rmse:0.896708\n",
      "[38]\tvalidation_0-rmse:0.896541\n",
      "[39]\tvalidation_0-rmse:0.896522\n",
      "[40]\tvalidation_0-rmse:0.896451\n",
      "[41]\tvalidation_0-rmse:0.895836\n",
      "[42]\tvalidation_0-rmse:0.895348\n",
      "[43]\tvalidation_0-rmse:0.895037\n",
      "[44]\tvalidation_0-rmse:0.89498\n",
      "[45]\tvalidation_0-rmse:0.894914\n",
      "[46]\tvalidation_0-rmse:0.894607\n",
      "[47]\tvalidation_0-rmse:0.894511\n",
      "[48]\tvalidation_0-rmse:0.894216\n",
      "[49]\tvalidation_0-rmse:0.893881\n",
      "[50]\tvalidation_0-rmse:0.89372\n",
      "[51]\tvalidation_0-rmse:0.893602\n",
      "[52]\tvalidation_0-rmse:0.893546\n",
      "[53]\tvalidation_0-rmse:0.893715\n",
      "[54]\tvalidation_0-rmse:0.893266\n",
      "[55]\tvalidation_0-rmse:0.8931\n",
      "[56]\tvalidation_0-rmse:0.892838\n",
      "[57]\tvalidation_0-rmse:0.892462\n",
      "[58]\tvalidation_0-rmse:0.891953\n",
      "[59]\tvalidation_0-rmse:0.891728\n",
      "[60]\tvalidation_0-rmse:0.89077\n",
      "[61]\tvalidation_0-rmse:0.890467\n",
      "[62]\tvalidation_0-rmse:0.890264\n",
      "[63]\tvalidation_0-rmse:0.890149\n",
      "[64]\tvalidation_0-rmse:0.890116\n",
      "[65]\tvalidation_0-rmse:0.890055\n",
      "[66]\tvalidation_0-rmse:0.88955\n",
      "[67]\tvalidation_0-rmse:0.889466\n",
      "[68]\tvalidation_0-rmse:0.889243\n",
      "[69]\tvalidation_0-rmse:0.889159\n",
      "[70]\tvalidation_0-rmse:0.888851\n",
      "[71]\tvalidation_0-rmse:0.88842\n",
      "[72]\tvalidation_0-rmse:0.888264\n",
      "[73]\tvalidation_0-rmse:0.888003\n",
      "[74]\tvalidation_0-rmse:0.888211\n",
      "[75]\tvalidation_0-rmse:0.888302\n",
      "[76]\tvalidation_0-rmse:0.888321\n",
      "[77]\tvalidation_0-rmse:0.888282\n",
      "[78]\tvalidation_0-rmse:0.888178\n",
      "[79]\tvalidation_0-rmse:0.888196\n",
      "[80]\tvalidation_0-rmse:0.888057\n",
      "[81]\tvalidation_0-rmse:0.887936\n",
      "[82]\tvalidation_0-rmse:0.8874\n",
      "[83]\tvalidation_0-rmse:0.887392\n",
      "[84]\tvalidation_0-rmse:0.887173\n",
      "[85]\tvalidation_0-rmse:0.887038\n",
      "[86]\tvalidation_0-rmse:0.886998\n",
      "[87]\tvalidation_0-rmse:0.886825\n",
      "[88]\tvalidation_0-rmse:0.886514\n",
      "[89]\tvalidation_0-rmse:0.886449\n",
      "[90]\tvalidation_0-rmse:0.886598\n",
      "[91]\tvalidation_0-rmse:0.8866\n",
      "[92]\tvalidation_0-rmse:0.886426\n",
      "[93]\tvalidation_0-rmse:0.886134\n",
      "[94]\tvalidation_0-rmse:0.886101\n",
      "[95]\tvalidation_0-rmse:0.886098\n",
      "[96]\tvalidation_0-rmse:0.885947\n",
      "[97]\tvalidation_0-rmse:0.885963\n",
      "[98]\tvalidation_0-rmse:0.885683\n",
      "[99]\tvalidation_0-rmse:0.885455\n"
     ]
    },
    {
     "data": {
      "text/plain": [
       "XGBRegressor(base_score=0.5, booster='gbtree', colsample_bylevel=0.8,\n",
       "       colsample_bytree=0.8, eta=0.3, gamma=0, learning_rate=0.1,\n",
       "       max_delta_step=0, max_depth=7, min_child_weight=300, missing=None,\n",
       "       n_estimators=100, n_jobs=1, nthread=None, num_round=1000,\n",
       "       objective='reg:linear', random_state=0, reg_alpha=0, reg_lambda=1,\n",
       "       scale_pos_weight=1, seed=42, silent=True, subsample=0.8)"
      ]
     },
     "execution_count": 107,
     "metadata": {},
     "output_type": "execute_result"
    }
   ],
   "source": [
    "model = XGBRegressor(\n",
    "    max_depth=7,\n",
    "    min_child_weight=300, \n",
    "    colsample_bytree=0.8, \n",
    "    colsample_bylevel=0.8, \n",
    "    subsample=0.8, \n",
    "    eta=0.3, \n",
    "    num_round=1000,\n",
    "    seed=42)\n",
    "\n",
    "model.fit(\n",
    "    X_train, \n",
    "    Y_train, \n",
    "    eval_metric=\"rmse\", \n",
    "    eval_set=[(X_valid, Y_valid)], \n",
    "    verbose=True, \n",
    "    early_stopping_rounds = 10)"
   ]
  },
  {
   "cell_type": "code",
   "execution_count": 108,
   "metadata": {},
   "outputs": [],
   "source": [
    "Y_pred = model.predict(X_valid).clip(0, 20)\n",
    "Y_test = model.predict(X_test).clip(0, 20)"
   ]
  },
  {
   "cell_type": "code",
   "execution_count": 112,
   "metadata": {},
   "outputs": [],
   "source": [
    "test = pd.read_csv('C:\\\\Users\\\\guidil\\\\Downloads\\\\Coursera_FinalProject\\\\Coursera_FinalProject\\\\test.csv.gz', compression='gzip').set_index('ID')\n",
    "submission = pd.DataFrame({\n",
    "    \"ID\": test.index, \n",
    "    \"item_cnt_month\": Y_test\n",
    "})\n",
    "submission.to_csv('C:\\\\Users\\\\guidil\\\\Downloads\\\\Coursera_FinalProject\\\\Coursera_FinalProject\\\\xgb_submission.csv', index=False)"
   ]
  }
 ],
 "metadata": {
  "kernelspec": {
   "display_name": "Python 3",
   "language": "python",
   "name": "python3"
  },
  "language_info": {
   "codemirror_mode": {
    "name": "ipython",
    "version": 3
   },
   "file_extension": ".py",
   "mimetype": "text/x-python",
   "name": "python",
   "nbconvert_exporter": "python",
   "pygments_lexer": "ipython3",
   "version": "3.6.3"
  }
 },
 "nbformat": 4,
 "nbformat_minor": 1
}
