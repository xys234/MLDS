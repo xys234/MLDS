{
 "cells": [
  {
   "cell_type": "code",
   "execution_count": 1,
   "metadata": {
    "_cell_guid": "b1076dfc-b9ad-4769-8c92-a6c4dae69d19",
    "_uuid": "8f2839f25d086af736a60e9eeb907d3b93b6e0e5"
   },
   "outputs": [
    {
     "name": "stdout",
     "output_type": "stream",
     "text": [
      "numpy 1.14.3\n",
      "pandas 0.23.0\n",
      "xgboost 0.72\n",
      "sklearn 0.19.1\n"
     ]
    }
   ],
   "source": [
    "import numpy as np\n",
    "import pandas as pd \n",
    "import xgboost as xgb\n",
    "import sklearn\n",
    "\n",
    "import matplotlib.pyplot as plt\n",
    "\n",
    "for p in [np, pd, xgb, sklearn]:\n",
    "    print (p.__name__, p.__version__)"
   ]
  },
  {
   "cell_type": "code",
   "execution_count": 58,
   "metadata": {
    "_cell_guid": "79c7e3d0-c299-4dcb-8224-4455121ee9b0",
    "_uuid": "d629ff2d2480ee46fbb7e2d37f6b5fab8052498a"
   },
   "outputs": [],
   "source": [
    "from sklearn.base import TransformerMixin\n",
    "from sklearn.pipeline import Pipeline\n",
    "from sklearn.model_selection import PredefinedSplit, cross_val_score, GridSearchCV\n",
    "\n",
    "from sklearn.linear_model import Lasso, Ridge\n",
    "from sklearn.ensemble import RandomForestRegressor\n",
    "from sklearn.metrics import mean_absolute_error, make_scorer"
   ]
  },
  {
   "cell_type": "code",
   "execution_count": 3,
   "metadata": {
    "_uuid": "61252fda3dc0f9da853960bb3ea85954d11097b3"
   },
   "outputs": [],
   "source": [
    "RANDOM_STATE = 71"
   ]
  },
  {
   "cell_type": "code",
   "execution_count": 4,
   "metadata": {
    "_uuid": "00cb3e0e90b2028f8bcbdae97cb02761f5eedbe5"
   },
   "outputs": [],
   "source": [
    "# Evaluation criterion\n",
    "def smape(pred, actual):\n",
    "    \"\"\"\n",
    "    pred: a numpy array of predictions\n",
    "    actual: a numpy array of actual values\n",
    "    \n",
    "    for a perfectly predicted zero observation, the smape is defined to be 0. \n",
    "    \n",
    "    \"\"\"\n",
    "    \n",
    "    selector = ~((pred == 0) & (actual == 0))\n",
    "    numerator = np.abs(pred-actual)\n",
    "    denom = (np.abs(pred) + np.abs(actual)) / 2\n",
    "    return 100*np.sum((numerator[selector] / denom[selector])) / pred.shape[0]\n",
    "\n",
    "smape_scorer = make_scorer(smape, greater_is_better=False)"
   ]
  },
  {
   "cell_type": "code",
   "execution_count": 5,
   "metadata": {
    "_uuid": "116700728b81cfb860671df95dce74cbbdf09b3b"
   },
   "outputs": [
    {
     "name": "stdout",
     "output_type": "stream",
     "text": [
      "7.142857142857142\n",
      "71.2121212121212\n",
      "85.85858585858585\n"
     ]
    }
   ],
   "source": [
    "# Test cases\n",
    "for actual, pred in zip([np.array([1,4,0,5])]*3, \n",
    "                        [np.array([1,3,0,5]), np.array([0.5,4,1,6]), np.array([2,7,-1,4])]):\n",
    "    print(smape(pred, actual))"
   ]
  },
  {
   "cell_type": "code",
   "execution_count": 6,
   "metadata": {
    "_uuid": "602f4c8732d84447cd31d111767cf22850bbb4c7"
   },
   "outputs": [],
   "source": [
    "train = pd.read_csv(\"../input/train.csv.zip\")\n",
    "test = pd.read_csv(\"../input/test.csv.zip\")\n",
    "sample_submission = pd.read_csv(\"../input/sample_submission.csv.zip\")"
   ]
  },
  {
   "cell_type": "code",
   "execution_count": 7,
   "metadata": {
    "_uuid": "89f4ceea57b94303b9f1cf40da1ad07dbaa780b4"
   },
   "outputs": [],
   "source": [
    "# Convert the date field\n",
    "train.loc[:,'date'] = pd.to_datetime(train.date)\n",
    "test.loc[:,'date'] = pd.to_datetime(test.date)"
   ]
  },
  {
   "cell_type": "code",
   "execution_count": 8,
   "metadata": {
    "_uuid": "6a0feb728d049552f79c8619256f998419bd4db1"
   },
   "outputs": [],
   "source": [
    "data = pd.concat([train, test], sort=False).fillna(0)   # test data has id column"
   ]
  },
  {
   "cell_type": "code",
   "execution_count": 9,
   "metadata": {
    "_uuid": "9afeb53e1b99486eb03691c5b29067302b2a6e3b"
   },
   "outputs": [],
   "source": [
    "def downcast_dtypes(df):\n",
    "    '''\n",
    "        Changes column types in the dataframe: \n",
    "                \n",
    "                `float64` type to `float32`\n",
    "                `int64`   type to `int32`\n",
    "    '''\n",
    "    \n",
    "    # Select columns to downcast\n",
    "    float_cols = [c for c in df if df[c].dtype == \"float64\"]\n",
    "    int_cols =   [c for c in df if df[c].dtype == \"int64\"]\n",
    "    \n",
    "    # Downcast\n",
    "    df[float_cols] = df[float_cols].astype(np.float32)\n",
    "    df[int_cols]   = df[int_cols].astype(np.int32)\n",
    "    \n",
    "    return df"
   ]
  },
  {
   "cell_type": "code",
   "execution_count": 10,
   "metadata": {
    "_uuid": "5dd99d8242f016adccfc241858774b60baf71bfa"
   },
   "outputs": [],
   "source": [
    "data = downcast_dtypes(data)"
   ]
  },
  {
   "cell_type": "code",
   "execution_count": 11,
   "metadata": {
    "_uuid": "0add3eed85dbdd45a1ad38e968c9868a3f8c19bf"
   },
   "outputs": [],
   "source": [
    "# Lag featurizer\n",
    "class Lag_Featurizer(TransformerMixin):\n",
    "    def __init__(self, index_col, time_col, value_col, output_col, output_time_index=False, shift=0, freq='1D'):\n",
    "        self.index_col = index_col\n",
    "        self.time_col = time_col\n",
    "        self.value_col = value_col\n",
    "        self.output_col = output_col\n",
    "        self.output_time_index=output_time_index\n",
    "        self.shift = shift\n",
    "        self.freq = freq\n",
    "        \n",
    "    def fit(self, X):                \n",
    "        pass\n",
    "    \n",
    "    def transform(self, X):\n",
    "        assert isinstance(self.index_col, list)\n",
    "        \n",
    "        time_key = pd.Grouper(freq=self.freq)      \n",
    "        time_index = self.index_col + [time_key]\n",
    "        resampled = X.groupby(time_index)[self.value_col].sum().reset_index().set_index(self.time_col)\n",
    "        shifted= resampled.groupby(self.index_col).shift(self.shift, freq=self.freq).drop(self.index_col, axis=1).reset_index().rename(columns={self.value_col:self.output_col})\n",
    "        merged = pd.merge(X, shifted, how='left',left_on=self.index_col + [self.time_col], right_on=self.index_col + [self.time_col])\n",
    "        if self.output_time_index:\n",
    "            return merged.set_index(self.time_col)\n",
    "        else:\n",
    "            return merged"
   ]
  },
  {
   "cell_type": "markdown",
   "metadata": {},
   "source": [
    "#### "
   ]
  },
  {
   "cell_type": "markdown",
   "metadata": {
    "_uuid": "2d835b173562a5bef8510cb55f96ccfb9df752a7",
    "collapsed": true
   },
   "source": [
    "#### Add lag features\n",
    "Store-item lag sales\n",
    "\n",
    "store lag sales\n",
    "\n",
    "item lag sales\n",
    "\n",
    "lag periods (days): 1, 2, 3, 4, 7, 14, 21, 28,  84, 168, 336"
   ]
  },
  {
   "cell_type": "code",
   "execution_count": 12,
   "metadata": {
    "_uuid": "34ef65e0d276829a6e89e885e0458577f1157730"
   },
   "outputs": [],
   "source": [
    "data = data.set_index('date')"
   ]
  },
  {
   "cell_type": "markdown",
   "metadata": {
    "_uuid": "5837183b6b5ded61904711f333c448b6238011cd",
    "collapsed": true
   },
   "source": [
    "#### Add lag features"
   ]
  },
  {
   "cell_type": "code",
   "execution_count": 13,
   "metadata": {
    "_uuid": "4e2faa663393437cf13a0daab21c98fd2a410e2b"
   },
   "outputs": [],
   "source": [
    "# 2018-01 ~ 2018-03, a total of 92 days\n",
    "lag_feature_pipeline = Pipeline(\n",
    "[\n",
    "    # lag store, item sales\n",
    "    \n",
    "    ('store_item_lag_3m',   Lag_Featurizer(index_col=['store', 'item'],time_col='date',value_col='sales',output_col='sales_3m',   output_time_index=True, shift=98)),\n",
    "    ('store_item_lag_3m_1', Lag_Featurizer(index_col=['store', 'item'],time_col='date',value_col='sales',output_col='sales_3m_1', output_time_index=True, shift=99)),\n",
    "    ('store_item_lag_3m_2', Lag_Featurizer(index_col=['store', 'item'],time_col='date',value_col='sales',output_col='sales_3m_2', output_time_index=True, shift=100)),\n",
    "    ('store_item_lag_3m_3', Lag_Featurizer(index_col=['store', 'item'],time_col='date',value_col='sales',output_col='sales_3m_3', output_time_index=True, shift=101)),\n",
    "    ('store_item_lag_3m_4', Lag_Featurizer(index_col=['store', 'item'],time_col='date',value_col='sales',output_col='sales_3m_4', output_time_index=True, shift=102)),\n",
    "    ('store_item_lag_3m_5', Lag_Featurizer(index_col=['store', 'item'],time_col='date',value_col='sales',output_col='sales_3m_5', output_time_index=True, shift=103)),\n",
    "    ('store_item_lag_3m_6', Lag_Featurizer(index_col=['store', 'item'],time_col='date',value_col='sales',output_col='sales_3m_6', output_time_index=True, shift=104)),   \n",
    "    ('store_item_lag_4m', Lag_Featurizer(index_col=['store', 'item'],time_col='date',value_col='sales',  output_col='sales_4m',     output_time_index=True, shift=112)),\n",
    "    ('store_item_lag_5m', Lag_Featurizer(index_col=['store', 'item'],time_col='date',value_col='sales',  output_col='sales_5m',     output_time_index=True, shift=140)),\n",
    "    ('store_item_lag_6m', Lag_Featurizer(index_col=['store', 'item'],time_col='date',value_col='sales',  output_col='sales_6m',     output_time_index=True, shift=168)),\n",
    "    ('store_item_lag_9m', Lag_Featurizer(index_col=['store', 'item'],time_col='date',value_col='sales',  output_col='sales_9m',     output_time_index=True, shift=252)),\n",
    "    ('store_item_lag_1y', Lag_Featurizer(index_col=['store', 'item'],time_col='date',value_col='sales',  output_col='sales_1y',     output_time_index=True, shift=336)),\n",
    "    \n",
    "    #lag store sales\n",
    "    ('store_lag_3m',   Lag_Featurizer(index_col=['store'],time_col='date',value_col='sales',output_col='store_sales_3m',   output_time_index=True, shift=98)),\n",
    "    ('store_lag_3m_1', Lag_Featurizer(index_col=['store'],time_col='date',value_col='sales',output_col='store_sales_3m_1', output_time_index=True, shift=99)),\n",
    "    ('store_lag_3m_2', Lag_Featurizer(index_col=['store'],time_col='date',value_col='sales',output_col='store_sales_3m_2', output_time_index=True, shift=100)),\n",
    "    ('store_lag_3m_3', Lag_Featurizer(index_col=['store'],time_col='date',value_col='sales',output_col='store_sales_3m_3', output_time_index=True, shift=101)),\n",
    "    ('store_lag_3m_4', Lag_Featurizer(index_col=['store'],time_col='date',value_col='sales',output_col='store_sales_3m_4', output_time_index=True, shift=102)),\n",
    "    ('store_lag_3m_5', Lag_Featurizer(index_col=['store'],time_col='date',value_col='sales',output_col='store_sales_3m_5', output_time_index=True, shift=103)),\n",
    "    ('store_lag_3m_6', Lag_Featurizer(index_col=['store'],time_col='date',value_col='sales',output_col='store_sales_3m_6', output_time_index=True, shift=104)),   \n",
    "    ('store_lag_4m', Lag_Featurizer(index_col=['store'],time_col='date',value_col='sales', output_col='store_sales_4m',    output_time_index=True, shift=112)),\n",
    "    ('store_lag_5m', Lag_Featurizer(index_col=['store'],time_col='date',value_col='sales', output_col='store_sales_5m',    output_time_index=True, shift=140)),\n",
    "    ('store_lag_6m', Lag_Featurizer(index_col=['store'],time_col='date',value_col='sales', output_col='store_sales_6m',    output_time_index=True, shift=168)),\n",
    "    ('store_lag_9m', Lag_Featurizer(index_col=['store'],time_col='date',value_col='sales', output_col='store_sales_9m',    output_time_index=True, shift=252)),\n",
    "    ('store_lag_1y', Lag_Featurizer(index_col=['store'],time_col='date',value_col='sales', output_col='store_sales_1y',    output_time_index=True, shift=336)),\n",
    "    \n",
    "    # lag item sales\n",
    "    ('item_lag_3m',   Lag_Featurizer(index_col=['item'],time_col='date',value_col='sales',output_col='item_sales_3m',   output_time_index=True, shift=98)),\n",
    "    ('item_lag_3m_1', Lag_Featurizer(index_col=['item'],time_col='date',value_col='sales',output_col='item_sales_3m_1', output_time_index=True, shift=99)),\n",
    "    ('item_lag_3m_2', Lag_Featurizer(index_col=['item'],time_col='date',value_col='sales',output_col='item_sales_3m_2', output_time_index=True, shift=100)),\n",
    "    ('item_lag_3m_3', Lag_Featurizer(index_col=['item'],time_col='date',value_col='sales',output_col='item_sales_3m_3', output_time_index=True, shift=101)),\n",
    "    ('item_lag_3m_4', Lag_Featurizer(index_col=['item'],time_col='date',value_col='sales',output_col='item_sales_3m_4', output_time_index=True, shift=102)),\n",
    "    ('item_lag_3m_5', Lag_Featurizer(index_col=['item'],time_col='date',value_col='sales',output_col='item_sales_3m_5', output_time_index=True, shift=103)),\n",
    "    ('item_lag_3m_6', Lag_Featurizer(index_col=['item'],time_col='date',value_col='sales',output_col='item_sales_3m_6', output_time_index=True, shift=104)),   \n",
    "    ('item_lag_4m', Lag_Featurizer(index_col=['item'],time_col='date',value_col='sales',  output_col='item_sales_4m',   output_time_index=True, shift=112)),\n",
    "    ('item_lag_5m', Lag_Featurizer(index_col=['item'],time_col='date',value_col='sales',  output_col='item_sales_5m',   output_time_index=True, shift=140)),\n",
    "    ('item_lag_6m', Lag_Featurizer(index_col=['item'],time_col='date',value_col='sales',  output_col='item_sales_6m',   output_time_index=True, shift=168)),\n",
    "    ('item_lag_9m', Lag_Featurizer(index_col=['item'],time_col='date',value_col='sales',  output_col='item_sales_9m',   output_time_index=True, shift=252)),\n",
    "    ('item_lag_1y', Lag_Featurizer(index_col=['item'],time_col='date',value_col='sales',  output_col='item_sales_1y',   output_time_index=True, shift=336)),\n",
    "\n",
    "]\n",
    ")"
   ]
  },
  {
   "cell_type": "code",
   "execution_count": 14,
   "metadata": {
    "_uuid": "a3639a5c941fcf30092b88e36fc5753c70c276fd"
   },
   "outputs": [
    {
     "name": "stdout",
     "output_type": "stream",
     "text": [
      "Wall time: 46.5 s\n"
     ]
    }
   ],
   "source": [
    "%time data = lag_feature_pipeline.transform(data)"
   ]
  },
  {
   "cell_type": "code",
   "execution_count": 15,
   "metadata": {
    "_uuid": "5ebf0d59adda02e012d05a94caab6ebbab6e93d5"
   },
   "outputs": [],
   "source": [
    "# drop all rows with nulls. Part of 2013 data is kept since the maximum lag is 336 days. \n",
    "data.dropna(inplace=True)\n",
    "data.loc[:,'weekend'] = ((data.index.weekday == 5) |  (data.index.weekday == 6)) + 0"
   ]
  },
  {
   "cell_type": "code",
   "execution_count": 16,
   "metadata": {
    "_uuid": "54898dc541df267606d7b51b2fac1d67cd3692e8"
   },
   "outputs": [],
   "source": [
    "cols = [\n",
    "    \n",
    "    'sales',\n",
    "\n",
    "    'sales_3m',  \n",
    "    'sales_3m_1',\n",
    "    'sales_3m_2',\n",
    "    'sales_3m_3',\n",
    "    'sales_3m_4',\n",
    "    'sales_3m_5',\n",
    "    'sales_3m_6',\n",
    "    'sales_4m',  \n",
    "    'sales_5m',  \n",
    "    'sales_6m',  \n",
    "    'sales_9m',  \n",
    "    'sales_1y',  \n",
    "\n",
    "    'store_sales_3m',  \n",
    "    'store_sales_3m_1',\n",
    "    'store_sales_3m_2',\n",
    "    'store_sales_3m_3',\n",
    "    'store_sales_3m_4',\n",
    "    'store_sales_3m_5',\n",
    "    'store_sales_3m_6',\n",
    "    'store_sales_4m',\n",
    "    'store_sales_5m',\n",
    "    'store_sales_6m',\n",
    "    'store_sales_9m',\n",
    "    'store_sales_1y',\n",
    "\n",
    "    'item_sales_3m',  \n",
    "    'item_sales_3m_1',\n",
    "    'item_sales_3m_2',\n",
    "    'item_sales_3m_3',\n",
    "    'item_sales_3m_4',\n",
    "    'item_sales_3m_5',\n",
    "    'item_sales_3m_6',\n",
    "    'item_sales_4m',  \n",
    "    'item_sales_5m',  \n",
    "    'item_sales_6m',  \n",
    "    'item_sales_9m',  \n",
    "    'item_sales_1y',  \n",
    "\n",
    "    'weekend'\n",
    "]"
   ]
  },
  {
   "cell_type": "code",
   "execution_count": 17,
   "metadata": {
    "_uuid": "377610ab8c61f6ffde84ae89a6c842ca3172a64e"
   },
   "outputs": [],
   "source": [
    "training = data.loc['2016-01':'2017-03',cols]\n",
    "validation_split = np.where((training.index >= pd.Timestamp(2017,1,1)) & (training.index <= pd.Timestamp(2017,3,31)), 0, -1)"
   ]
  },
  {
   "cell_type": "code",
   "execution_count": 18,
   "metadata": {
    "_uuid": "4b18946c6a48b81cce5d16ba02441859919adbc3"
   },
   "outputs": [
    {
     "name": "stdout",
     "output_type": "stream",
     "text": [
      "Number of training instances = 45000\n",
      "Number of features           = 37\n",
      "Date range = 2017-01-01 to 2017-03-31\n"
     ]
    }
   ],
   "source": [
    "# Validation data\n",
    "X_validation = training.loc[validation_split == 0, cols[1:]]\n",
    "y_validation = training.loc[validation_split == 0, 'sales']\n",
    "print('Number of training instances = {0:d}'.format(X_validation.shape[0]))\n",
    "print('Number of features           = {0:d}'.format(X_validation.shape[1]))\n",
    "print('Date range = {0} to {1}'.format(X_validation.index[0].strftime('%Y-%m-%d'), X_validation.index[-1].strftime('%Y-%m-%d')))"
   ]
  },
  {
   "cell_type": "code",
   "execution_count": 19,
   "metadata": {
    "_uuid": "22bbb7470d0f6240e469f2e96482aa9eff35d9f3"
   },
   "outputs": [
    {
     "name": "stdout",
     "output_type": "stream",
     "text": [
      "Number of training instances = 228000\n",
      "Number of features           = 37\n",
      "Date range = 2016-01-01 to 2017-03-31\n"
     ]
    }
   ],
   "source": [
    "# training matrices\n",
    "X_training = training.loc[:,cols[1:]]\n",
    "y_training = training.loc[:,'sales']\n",
    "print('Number of training instances = {0:d}'.format(X_training.shape[0]))\n",
    "print('Number of features           = {0:d}'.format(X_training.shape[1]))\n",
    "print('Date range = {0} to {1}'.format(training.index[0].strftime('%Y-%m-%d'), training.index[-1].strftime('%Y-%m-%d')))"
   ]
  },
  {
   "cell_type": "code",
   "execution_count": 20,
   "metadata": {
    "_uuid": "0d82bc77f7b6c34e08a6d46735297b7d72e34e38"
   },
   "outputs": [
    {
     "name": "stdout",
     "output_type": "stream",
     "text": [
      "Number of test instances = 45000\n",
      "Number of features       = 37\n",
      "Date range = 2018-01-01 to 2018-03-31\n"
     ]
    }
   ],
   "source": [
    "testing = data.loc['2018-01':,cols]\n",
    "X_testing = testing.loc[:,cols[1:]]\n",
    "y_testing = testing.loc[:,'sales']\n",
    "print('Number of test instances = {0:d}'.format(X_testing.shape[0]))\n",
    "print('Number of features       = {0:d}'.format(X_testing.shape[1]))\n",
    "print('Date range = {0} to {1}'.format(testing.index[0].strftime('%Y-%m-%d'), testing.index[-1].strftime('%Y-%m-%d')))"
   ]
  },
  {
   "cell_type": "code",
   "execution_count": 21,
   "metadata": {
    "_uuid": "9e17ed0f3480b7a84e2363285ea08bfc9f971694"
   },
   "outputs": [
    {
     "name": "stdout",
     "output_type": "stream",
     "text": [
      "Number of training instances = 745000\n",
      "Number of features           = 37\n",
      "Date range = 2013-12-03 to 2017-12-31\n"
     ]
    }
   ],
   "source": [
    "training_full = data.loc[:'2017-12',cols]\n",
    "X_training_full = training_full.loc[:,cols[1:]]\n",
    "y_training_full = training_full.loc[:,'sales']\n",
    "print('Number of training instances = {0:d}'.format(X_training_full.shape[0]))\n",
    "print('Number of features           = {0:d}'.format(X_training_full.shape[1]))\n",
    "print('Date range = {0} to {1}'.format(training_full.index[0].strftime('%Y-%m-%d'), training_full.index[-1].strftime('%Y-%m-%d')))"
   ]
  },
  {
   "cell_type": "code",
   "execution_count": 46,
   "metadata": {
    "_uuid": "52ec46c84777b28a8fc38416049aeed376cb8c58"
   },
   "outputs": [],
   "source": [
    "# Lasso\n",
    "lasso = Lasso(random_state=RANDOM_STATE, max_iter=2000)\n",
    "lasso_params = {'alpha': np.logspace(-3,3,7)}"
   ]
  },
  {
   "cell_type": "code",
   "execution_count": 47,
   "metadata": {
    "_uuid": "eb31ba69aaf25fb758faf8f8c0f3f30dfd1b56db"
   },
   "outputs": [],
   "source": [
    "reg = GridSearchCV(lasso, lasso_params, scoring='neg_mean_absolute_error', n_jobs=8, cv=PredefinedSplit(validation_split), verbose=20)"
   ]
  },
  {
   "cell_type": "code",
   "execution_count": 48,
   "metadata": {
    "_uuid": "81a70ee23ebca2caaee0574b003d5379fdbfa4f9"
   },
   "outputs": [
    {
     "name": "stdout",
     "output_type": "stream",
     "text": [
      "Fitting 1 folds for each of 7 candidates, totalling 7 fits\n"
     ]
    },
    {
     "name": "stderr",
     "output_type": "stream",
     "text": [
      "[Parallel(n_jobs=8)]: Done   1 tasks      | elapsed:   21.9s\n",
      "[Parallel(n_jobs=8)]: Done   2 out of   7 | elapsed:   24.7s remaining:  1.0min\n",
      "[Parallel(n_jobs=8)]: Done   3 out of   7 | elapsed:   30.2s remaining:   40.3s\n",
      "[Parallel(n_jobs=8)]: Done   4 out of   7 | elapsed:   33.1s remaining:   24.8s\n",
      "[Parallel(n_jobs=8)]: Done   5 out of   7 | elapsed:   54.2s remaining:   21.6s\n",
      "[Parallel(n_jobs=8)]: Done   7 out of   7 | elapsed:   58.2s remaining:    0.0s\n",
      "[Parallel(n_jobs=8)]: Done   7 out of   7 | elapsed:   58.2s finished\n"
     ]
    },
    {
     "data": {
      "text/plain": [
       "GridSearchCV(cv=PredefinedSplit(test_fold=array([-1, -1, ...,  0,  0])),\n",
       "       error_score='raise',\n",
       "       estimator=Lasso(alpha=1.0, copy_X=True, fit_intercept=True, max_iter=2000,\n",
       "   normalize=False, positive=False, precompute=False, random_state=71,\n",
       "   selection='cyclic', tol=0.0001, warm_start=False),\n",
       "       fit_params=None, iid=True, n_jobs=8,\n",
       "       param_grid={'alpha': array([1.e-03, 1.e-02, 1.e-01, 1.e+00, 1.e+01, 1.e+02, 1.e+03])},\n",
       "       pre_dispatch='2*n_jobs', refit=True, return_train_score='warn',\n",
       "       scoring='neg_mean_absolute_error', verbose=20)"
      ]
     },
     "execution_count": 48,
     "metadata": {},
     "output_type": "execute_result"
    }
   ],
   "source": [
    "reg.fit(X_training,y_training)"
   ]
  },
  {
   "cell_type": "code",
   "execution_count": 49,
   "metadata": {
    "_uuid": "30f6af1f528fabba450473c2c8296f0f0adfd952"
   },
   "outputs": [
    {
     "name": "stdout",
     "output_type": "stream",
     "text": [
      "Best score = 9.0651; Best Parameter = {'alpha': 0.1}\n"
     ]
    }
   ],
   "source": [
    "print('Best score = {0:.4f}; Best Parameter = {1}'.format(-reg.best_score_, reg.best_params_)) # Score is the negative because large score indicates better fit"
   ]
  },
  {
   "cell_type": "code",
   "execution_count": 52,
   "metadata": {
    "_uuid": "7b82b2df06269bd41b6dd95b6fba95d970e9fec8"
   },
   "outputs": [
    {
     "name": "stdout",
     "output_type": "stream",
     "text": [
      "16.94179893432121\n"
     ]
    }
   ],
   "source": [
    "pred_validation_lasso = reg.predict(X_validation)\n",
    "print(smape(pred_validation_lasso, y_validation.values))"
   ]
  },
  {
   "cell_type": "code",
   "execution_count": 62,
   "metadata": {},
   "outputs": [],
   "source": [
    "reg_best = reg.best_estimator_\n",
    "# reg_best.fit(X_training_full, y_training_full)"
   ]
  },
  {
   "cell_type": "code",
   "execution_count": 63,
   "metadata": {
    "_uuid": "05603c273dd138b66acd72131012271d5eddc369"
   },
   "outputs": [],
   "source": [
    "pred_reg_best = reg_best.predict(X_testing)"
   ]
  },
  {
   "cell_type": "code",
   "execution_count": 84,
   "metadata": {
    "_uuid": "4b6ca3a13f58c44aa11abb457fff0cba5b1be462"
   },
   "outputs": [],
   "source": [
    "# Make predictions and a submission: 18.15; Use smape_scorer = 18.65; somehow best score = 19.39\n",
    "submission_lasso = pd.DataFrame({'Id': sample_submission.id, 'sales': pred_reg_best})\n",
    "submission_lasso.to_csv('submission_lasso.csv', index=False)"
   ]
  },
  {
   "cell_type": "markdown",
   "metadata": {
    "_uuid": "91bbde6ddff4b223a7c2399db48c374247f89c7d"
   },
   "source": [
    "#### Random Forest Model"
   ]
  },
  {
   "cell_type": "code",
   "execution_count": 22,
   "metadata": {
    "_uuid": "f2f2a07c6201fb3979ecf17bb73952579a7462a8"
   },
   "outputs": [],
   "source": [
    "# rf = RandomForestRegressor(random_state=RANDOM_STATE, criterion='mae')"
   ]
  },
  {
   "cell_type": "code",
   "execution_count": 24,
   "metadata": {
    "_uuid": "aa96e3ba81c031dd9347800628cae49936823b6a"
   },
   "outputs": [],
   "source": [
    "# rf_params = {\"n_estimators\": np.arange(100, 510, 100),\n",
    "#               \"max_depth\": np.arange(4, 10, 1)\n",
    "#               \"min_samples_split\": np.arange(10,110,10),\n",
    "#               \"min_samples_leaf\": np.arange(5,10,1),\n",
    "#               \"max_leaf_nodes\": np.arange(5,15,1)\n",
    "#             }"
   ]
  },
  {
   "cell_type": "code",
   "execution_count": 25,
   "metadata": {
    "_uuid": "4840eaccb98a9686b1401360e2ef6bb102a3892a"
   },
   "outputs": [],
   "source": [
    "# rf = GridSearchCV(rf, rf_params, scoring=smape_scorer, n_jobs=1, cv=PredefinedSplit(validation_split), verbose=50)"
   ]
  },
  {
   "cell_type": "code",
   "execution_count": null,
   "metadata": {
    "_uuid": "a33084e1dc480a883b8833ee34b105d920b19954"
   },
   "outputs": [],
   "source": [
    "# %time rf.fit(X_training,y_training)"
   ]
  },
  {
   "cell_type": "code",
   "execution_count": 89,
   "metadata": {
    "_uuid": "a33d62340634b96a87cc75c2f855429daa4f8f54"
   },
   "outputs": [],
   "source": [
    "# print('Best score = {0:.4f}; Best Parameter = {1}'.format(-rf.best_score_, rf.best_params_))"
   ]
  },
  {
   "cell_type": "code",
   "execution_count": 90,
   "metadata": {
    "_uuid": "1ceca08049f80a25819851d38b2f70b32f9c5cb6"
   },
   "outputs": [],
   "source": [
    "# rf_best = rf.best_estimator_\n",
    "# rf_best.fit(X_training_full, y_training_full)\n",
    "# pred_rf_best = rf_best.predict(X_testing)\n",
    "# submission_rf = pd.DataFrame({'Id': sample_submission.id, 'sales': pred_rf_best})\n",
    "# submission_rf.to_csv('../output/submission_rf.csv', index=False)"
   ]
  },
  {
   "cell_type": "markdown",
   "metadata": {
    "_uuid": "58ce745cf8aaaf3f56e7acbbd2622a9fb7f3c1fb"
   },
   "source": [
    "#### xgboost Model"
   ]
  },
  {
   "cell_type": "code",
   "execution_count": 36,
   "metadata": {},
   "outputs": [],
   "source": [
    "reg_xgb = xgb.XGBRegressor(objective='reg:linear', booster='gbtree', n_jobs=8)"
   ]
  },
  {
   "cell_type": "code",
   "execution_count": 37,
   "metadata": {},
   "outputs": [],
   "source": [
    "xgb_params = {\n",
    "                'n_estimators': np.arange(50,200,50),\n",
    "                'min_child_weight': np.arange(10,100,10), \n",
    "                'learning_rate': [0.1], \n",
    "                'colsample_bytree': np.arange(0.8,1.0,0.1), \n",
    "                'max_depth': np.arange(1,10,2),\n",
    "                'subsample': [0.9], \n",
    "                'reg_lambda': [1.]\n",
    "}\n",
    "\n",
    "fit_params={\"early_stopping_rounds\":50, \n",
    "            \"eval_metric\" : \"mae\", \n",
    "            \"eval_set\" : [[X_validation.values, y_validation.values]]}\n"
   ]
  },
  {
   "cell_type": "code",
   "execution_count": 38,
   "metadata": {},
   "outputs": [],
   "source": [
    "grid_xgb = GridSearchCV(reg_xgb, xgb_params, scoring=None, n_jobs=8, cv=PredefinedSplit(validation_split), verbose=30, fit_params=fit_params, verbose=50)"
   ]
  },
  {
   "cell_type": "code",
   "execution_count": 40,
   "metadata": {
    "collapsed": true
   },
   "outputs": [
    {
     "name": "stderr",
     "output_type": "stream",
     "text": [
      "C:\\Anaconda3\\lib\\site-packages\\sklearn\\model_selection\\_search.py:584: DeprecationWarning: \"fit_params\" as a constructor argument was deprecated in version 0.19 and will be removed in version 0.21. Pass fit parameters to the \"fit\" method instead.\n",
      "  '\"fit\" method instead.', DeprecationWarning)\n"
     ]
    },
    {
     "name": "stdout",
     "output_type": "stream",
     "text": [
      "Fitting 1 folds for each of 270 candidates, totalling 270 fits\n"
     ]
    },
    {
     "name": "stderr",
     "output_type": "stream",
     "text": [
      "[Parallel(n_jobs=8)]: Done   1 tasks      | elapsed:   17.4s\n",
      "[Parallel(n_jobs=8)]: Done   2 tasks      | elapsed:   19.2s\n",
      "[Parallel(n_jobs=8)]: Done   3 tasks      | elapsed:   21.1s\n",
      "[Parallel(n_jobs=8)]: Done   4 tasks      | elapsed:   25.5s\n",
      "[Parallel(n_jobs=8)]: Done   5 tasks      | elapsed:   28.4s\n",
      "[Parallel(n_jobs=8)]: Done   6 tasks      | elapsed:   32.4s\n",
      "[Parallel(n_jobs=8)]: Done   7 tasks      | elapsed:   35.1s\n",
      "[Parallel(n_jobs=8)]: Done   8 tasks      | elapsed:   38.8s\n",
      "[Parallel(n_jobs=8)]: Done   9 tasks      | elapsed:   44.8s\n",
      "[Parallel(n_jobs=8)]: Done  10 tasks      | elapsed:   48.0s\n",
      "[Parallel(n_jobs=8)]: Done  11 tasks      | elapsed:   56.8s\n",
      "[Parallel(n_jobs=8)]: Done  12 tasks      | elapsed:   58.8s\n",
      "[Parallel(n_jobs=8)]: Done  13 tasks      | elapsed:  1.1min\n",
      "[Parallel(n_jobs=8)]: Done  14 tasks      | elapsed:  1.2min\n",
      "[Parallel(n_jobs=8)]: Done  15 tasks      | elapsed:  1.2min\n",
      "[Parallel(n_jobs=8)]: Done  16 tasks      | elapsed:  1.3min\n",
      "[Parallel(n_jobs=8)]: Done  17 tasks      | elapsed:  1.4min\n",
      "[Parallel(n_jobs=8)]: Done  18 tasks      | elapsed:  1.5min\n",
      "[Parallel(n_jobs=8)]: Done  19 tasks      | elapsed:  1.5min\n",
      "[Parallel(n_jobs=8)]: Done  20 tasks      | elapsed:  1.7min\n",
      "[Parallel(n_jobs=8)]: Done  21 tasks      | elapsed:  1.7min\n",
      "[Parallel(n_jobs=8)]: Done  22 tasks      | elapsed:  1.8min\n",
      "[Parallel(n_jobs=8)]: Done  23 tasks      | elapsed:  2.0min\n",
      "[Parallel(n_jobs=8)]: Done  24 tasks      | elapsed:  2.0min\n",
      "[Parallel(n_jobs=8)]: Done  25 tasks      | elapsed:  2.0min\n",
      "[Parallel(n_jobs=8)]: Done  26 tasks      | elapsed:  2.2min\n",
      "[Parallel(n_jobs=8)]: Done  27 tasks      | elapsed:  2.3min\n",
      "[Parallel(n_jobs=8)]: Done  28 tasks      | elapsed:  2.9min\n",
      "[Parallel(n_jobs=8)]: Done  29 tasks      | elapsed:  3.2min\n",
      "[Parallel(n_jobs=8)]: Done  30 tasks      | elapsed:  3.3min\n",
      "[Parallel(n_jobs=8)]: Done  31 tasks      | elapsed:  3.4min\n",
      "[Parallel(n_jobs=8)]: Done  32 tasks      | elapsed:  3.4min\n",
      "[Parallel(n_jobs=8)]: Done  33 tasks      | elapsed:  3.6min\n",
      "[Parallel(n_jobs=8)]: Done  34 tasks      | elapsed:  3.6min\n",
      "[Parallel(n_jobs=8)]: Done  35 tasks      | elapsed:  3.9min\n",
      "[Parallel(n_jobs=8)]: Done  36 tasks      | elapsed:  4.4min\n",
      "[Parallel(n_jobs=8)]: Done  37 tasks      | elapsed:  4.5min\n",
      "[Parallel(n_jobs=8)]: Done  38 tasks      | elapsed:  4.6min\n",
      "[Parallel(n_jobs=8)]: Done  39 tasks      | elapsed:  4.9min\n",
      "[Parallel(n_jobs=8)]: Done  40 tasks      | elapsed:  4.9min\n",
      "[Parallel(n_jobs=8)]: Done  41 tasks      | elapsed:  5.1min\n",
      "[Parallel(n_jobs=8)]: Done  42 tasks      | elapsed:  5.1min\n",
      "[Parallel(n_jobs=8)]: Done  43 tasks      | elapsed:  5.2min\n",
      "[Parallel(n_jobs=8)]: Done  44 tasks      | elapsed:  5.8min\n",
      "[Parallel(n_jobs=8)]: Done  45 tasks      | elapsed:  6.0min\n",
      "[Parallel(n_jobs=8)]: Done  46 tasks      | elapsed:  6.1min\n",
      "[Parallel(n_jobs=8)]: Done  47 tasks      | elapsed:  6.3min\n",
      "[Parallel(n_jobs=8)]: Done  48 tasks      | elapsed:  6.4min\n",
      "[Parallel(n_jobs=8)]: Done  49 tasks      | elapsed:  6.5min\n",
      "[Parallel(n_jobs=8)]: Done  50 tasks      | elapsed:  6.7min\n",
      "[Parallel(n_jobs=8)]: Done  51 tasks      | elapsed:  6.8min\n",
      "[Parallel(n_jobs=8)]: Done  52 tasks      | elapsed:  7.0min\n",
      "[Parallel(n_jobs=8)]: Done  53 tasks      | elapsed:  7.5min\n",
      "[Parallel(n_jobs=8)]: Done  54 tasks      | elapsed:  7.5min\n",
      "[Parallel(n_jobs=8)]: Done  55 tasks      | elapsed:  8.3min\n",
      "[Parallel(n_jobs=8)]: Done  56 tasks      | elapsed:  8.6min\n",
      "[Parallel(n_jobs=8)]: Done  57 tasks      | elapsed:  9.1min\n",
      "[Parallel(n_jobs=8)]: Done  58 tasks      | elapsed:  9.1min\n",
      "[Parallel(n_jobs=8)]: Done  59 tasks      | elapsed:  9.4min\n",
      "[Parallel(n_jobs=8)]: Done  60 tasks      | elapsed:  9.5min\n",
      "[Parallel(n_jobs=8)]: Done  61 tasks      | elapsed:  9.6min\n",
      "[Parallel(n_jobs=8)]: Done  62 tasks      | elapsed: 10.2min\n",
      "[Parallel(n_jobs=8)]: Done  63 tasks      | elapsed: 10.4min\n",
      "[Parallel(n_jobs=8)]: Done  64 tasks      | elapsed: 10.9min\n",
      "[Parallel(n_jobs=8)]: Done  65 tasks      | elapsed: 11.2min\n",
      "[Parallel(n_jobs=8)]: Done  66 tasks      | elapsed: 11.7min\n",
      "[Parallel(n_jobs=8)]: Done  67 tasks      | elapsed: 11.8min\n",
      "[Parallel(n_jobs=8)]: Done  68 tasks      | elapsed: 12.0min\n",
      "[Parallel(n_jobs=8)]: Done  69 tasks      | elapsed: 12.1min\n",
      "[Parallel(n_jobs=8)]: Done  70 tasks      | elapsed: 12.2min\n",
      "[Parallel(n_jobs=8)]: Done  71 tasks      | elapsed: 12.9min\n",
      "[Parallel(n_jobs=8)]: Done  72 tasks      | elapsed: 13.1min\n",
      "[Parallel(n_jobs=8)]: Done  73 tasks      | elapsed: 13.6min\n",
      "[Parallel(n_jobs=8)]: Done  74 tasks      | elapsed: 13.9min\n",
      "[Parallel(n_jobs=8)]: Done  75 tasks      | elapsed: 14.2min\n",
      "[Parallel(n_jobs=8)]: Done  76 tasks      | elapsed: 14.3min\n",
      "[Parallel(n_jobs=8)]: Done  77 tasks      | elapsed: 14.6min\n",
      "[Parallel(n_jobs=8)]: Done  78 tasks      | elapsed: 14.6min\n",
      "[Parallel(n_jobs=8)]: Done  79 tasks      | elapsed: 14.8min\n",
      "[Parallel(n_jobs=8)]: Done  80 tasks      | elapsed: 15.5min\n",
      "[Parallel(n_jobs=8)]: Done  81 tasks      | elapsed: 15.8min\n",
      "[Parallel(n_jobs=8)]: Done  82 tasks      | elapsed: 16.9min\n",
      "[Parallel(n_jobs=8)]: Done  83 tasks      | elapsed: 17.1min\n",
      "[Parallel(n_jobs=8)]: Done  84 tasks      | elapsed: 18.1min\n",
      "[Parallel(n_jobs=8)]: Done  85 tasks      | elapsed: 18.1min\n",
      "[Parallel(n_jobs=8)]: Done  86 tasks      | elapsed: 18.4min\n",
      "[Parallel(n_jobs=8)]: Done  87 tasks      | elapsed: 18.6min\n",
      "[Parallel(n_jobs=8)]: Done  88 tasks      | elapsed: 18.7min\n",
      "[Parallel(n_jobs=8)]: Done  89 tasks      | elapsed: 19.4min\n",
      "[Parallel(n_jobs=8)]: Done  90 tasks      | elapsed: 19.6min\n",
      "[Parallel(n_jobs=8)]: Done  91 tasks      | elapsed: 20.7min\n",
      "[Parallel(n_jobs=8)]: Done  92 tasks      | elapsed: 21.1min\n",
      "[Parallel(n_jobs=8)]: Done  93 tasks      | elapsed: 21.7min\n",
      "[Parallel(n_jobs=8)]: Done  94 tasks      | elapsed: 21.9min\n",
      "[Parallel(n_jobs=8)]: Done  95 tasks      | elapsed: 22.0min\n",
      "[Parallel(n_jobs=8)]: Done  96 tasks      | elapsed: 22.4min\n",
      "[Parallel(n_jobs=8)]: Done  97 tasks      | elapsed: 22.6min\n",
      "[Parallel(n_jobs=8)]: Done  98 tasks      | elapsed: 23.4min\n",
      "[Parallel(n_jobs=8)]: Done  99 tasks      | elapsed: 23.8min\n",
      "[Parallel(n_jobs=8)]: Done 100 tasks      | elapsed: 24.5min\n",
      "[Parallel(n_jobs=8)]: Done 101 tasks      | elapsed: 24.7min\n",
      "[Parallel(n_jobs=8)]: Done 102 tasks      | elapsed: 25.1min\n",
      "[Parallel(n_jobs=8)]: Done 103 tasks      | elapsed: 25.5min\n",
      "[Parallel(n_jobs=8)]: Done 104 tasks      | elapsed: 26.0min\n",
      "[Parallel(n_jobs=8)]: Done 105 tasks      | elapsed: 26.1min\n",
      "[Parallel(n_jobs=8)]: Done 106 tasks      | elapsed: 26.2min\n",
      "[Parallel(n_jobs=8)]: Done 107 tasks      | elapsed: 27.2min\n",
      "[Parallel(n_jobs=8)]: Done 108 tasks      | elapsed: 27.9min\n",
      "[Parallel(n_jobs=8)]: Done 109 tasks      | elapsed: 28.8min\n",
      "[Parallel(n_jobs=8)]: Done 110 tasks      | elapsed: 29.7min\n",
      "[Parallel(n_jobs=8)]: Done 111 tasks      | elapsed: 29.8min\n",
      "[Parallel(n_jobs=8)]: Done 112 tasks      | elapsed: 30.8min\n",
      "[Parallel(n_jobs=8)]: Done 113 tasks      | elapsed: 31.0min\n",
      "[Parallel(n_jobs=8)]: Done 114 tasks      | elapsed: 31.5min\n",
      "[Parallel(n_jobs=8)]: Done 115 tasks      | elapsed: 31.6min\n",
      "[Parallel(n_jobs=8)]: Done 116 tasks      | elapsed: 32.6min\n",
      "[Parallel(n_jobs=8)]: Done 117 tasks      | elapsed: 33.0min\n",
      "[Parallel(n_jobs=8)]: Done 118 tasks      | elapsed: 33.9min\n",
      "[Parallel(n_jobs=8)]: Done 119 tasks      | elapsed: 34.5min\n",
      "[Parallel(n_jobs=8)]: Done 120 tasks      | elapsed: 34.9min\n",
      "[Parallel(n_jobs=8)]: Done 121 tasks      | elapsed: 35.6min\n",
      "[Parallel(n_jobs=8)]: Done 122 tasks      | elapsed: 36.0min\n",
      "[Parallel(n_jobs=8)]: Done 123 tasks      | elapsed: 36.6min\n",
      "[Parallel(n_jobs=8)]: Done 124 tasks      | elapsed: 36.7min\n",
      "[Parallel(n_jobs=8)]: Done 125 tasks      | elapsed: 38.0min\n",
      "[Parallel(n_jobs=8)]: Done 126 tasks      | elapsed: 38.1min\n",
      "[Parallel(n_jobs=8)]: Done 127 tasks      | elapsed: 39.1min\n",
      "[Parallel(n_jobs=8)]: Done 128 tasks      | elapsed: 39.6min\n",
      "[Parallel(n_jobs=8)]: Done 129 tasks      | elapsed: 39.8min\n",
      "[Parallel(n_jobs=8)]: Done 130 tasks      | elapsed: 39.9min\n",
      "[Parallel(n_jobs=8)]: Done 131 tasks      | elapsed: 40.1min\n",
      "[Parallel(n_jobs=8)]: Done 132 tasks      | elapsed: 40.3min\n",
      "[Parallel(n_jobs=8)]: Done 133 tasks      | elapsed: 40.4min\n",
      "[Parallel(n_jobs=8)]: Done 134 tasks      | elapsed: 40.5min\n",
      "[Parallel(n_jobs=8)]: Done 135 tasks      | elapsed: 40.7min\n"
     ]
    },
    {
     "name": "stderr",
     "output_type": "stream",
     "text": [
      "[Parallel(n_jobs=8)]: Done 136 tasks      | elapsed: 40.9min\n",
      "[Parallel(n_jobs=8)]: Done 137 tasks      | elapsed: 40.9min\n",
      "[Parallel(n_jobs=8)]: Done 138 tasks      | elapsed: 41.2min\n",
      "[Parallel(n_jobs=8)]: Done 139 tasks      | elapsed: 41.3min\n",
      "[Parallel(n_jobs=8)]: Done 140 tasks      | elapsed: 41.4min\n",
      "[Parallel(n_jobs=8)]: Done 141 tasks      | elapsed: 41.6min\n",
      "[Parallel(n_jobs=8)]: Done 142 tasks      | elapsed: 41.8min\n",
      "[Parallel(n_jobs=8)]: Done 143 tasks      | elapsed: 41.8min\n",
      "[Parallel(n_jobs=8)]: Done 144 tasks      | elapsed: 42.0min\n",
      "[Parallel(n_jobs=8)]: Done 145 tasks      | elapsed: 42.2min\n",
      "[Parallel(n_jobs=8)]: Done 146 tasks      | elapsed: 42.2min\n",
      "[Parallel(n_jobs=8)]: Done 147 tasks      | elapsed: 42.3min\n",
      "[Parallel(n_jobs=8)]: Done 148 tasks      | elapsed: 42.4min\n",
      "[Parallel(n_jobs=8)]: Done 149 tasks      | elapsed: 42.4min\n",
      "[Parallel(n_jobs=8)]: Done 150 tasks      | elapsed: 42.6min\n",
      "[Parallel(n_jobs=8)]: Done 151 tasks      | elapsed: 42.7min\n",
      "[Parallel(n_jobs=8)]: Done 152 tasks      | elapsed: 42.7min\n",
      "[Parallel(n_jobs=8)]: Done 153 tasks      | elapsed: 42.9min\n",
      "[Parallel(n_jobs=8)]: Done 154 tasks      | elapsed: 42.9min\n",
      "[Parallel(n_jobs=8)]: Done 155 tasks      | elapsed: 43.0min\n",
      "[Parallel(n_jobs=8)]: Done 156 tasks      | elapsed: 43.2min\n",
      "[Parallel(n_jobs=8)]: Done 157 tasks      | elapsed: 43.3min\n",
      "[Parallel(n_jobs=8)]: Done 158 tasks      | elapsed: 43.4min\n",
      "[Parallel(n_jobs=8)]: Done 159 tasks      | elapsed: 43.6min\n",
      "[Parallel(n_jobs=8)]: Done 160 tasks      | elapsed: 43.6min\n",
      "[Parallel(n_jobs=8)]: Done 161 tasks      | elapsed: 44.1min\n",
      "[Parallel(n_jobs=8)]: Done 162 tasks      | elapsed: 44.5min\n",
      "[Parallel(n_jobs=8)]: Done 163 tasks      | elapsed: 44.6min\n",
      "[Parallel(n_jobs=8)]: Done 164 tasks      | elapsed: 44.7min\n",
      "[Parallel(n_jobs=8)]: Done 165 tasks      | elapsed: 45.0min\n",
      "[Parallel(n_jobs=8)]: Done 166 tasks      | elapsed: 45.1min\n",
      "[Parallel(n_jobs=8)]: Done 167 tasks      | elapsed: 45.1min\n",
      "[Parallel(n_jobs=8)]: Done 168 tasks      | elapsed: 45.2min\n",
      "[Parallel(n_jobs=8)]: Done 169 tasks      | elapsed: 45.9min\n",
      "[Parallel(n_jobs=8)]: Done 170 tasks      | elapsed: 46.0min\n",
      "[Parallel(n_jobs=8)]: Done 171 tasks      | elapsed: 46.1min\n",
      "[Parallel(n_jobs=8)]: Done 172 tasks      | elapsed: 46.3min\n",
      "[Parallel(n_jobs=8)]: Done 173 tasks      | elapsed: 46.6min\n",
      "[Parallel(n_jobs=8)]: Done 174 tasks      | elapsed: 46.6min\n",
      "[Parallel(n_jobs=8)]: Done 175 tasks      | elapsed: 46.8min\n",
      "[Parallel(n_jobs=8)]: Done 176 tasks      | elapsed: 47.1min\n",
      "[Parallel(n_jobs=8)]: Done 177 tasks      | elapsed: 47.2min\n",
      "[Parallel(n_jobs=8)]: Done 178 tasks      | elapsed: 47.4min\n",
      "[Parallel(n_jobs=8)]: Done 179 tasks      | elapsed: 47.7min\n",
      "[Parallel(n_jobs=8)]: Done 180 tasks      | elapsed: 47.8min\n",
      "[Parallel(n_jobs=8)]: Done 181 tasks      | elapsed: 47.9min\n",
      "[Parallel(n_jobs=8)]: Done 182 tasks      | elapsed: 48.2min\n",
      "[Parallel(n_jobs=8)]: Done 183 tasks      | elapsed: 48.3min\n",
      "[Parallel(n_jobs=8)]: Done 184 tasks      | elapsed: 48.4min\n",
      "[Parallel(n_jobs=8)]: Done 185 tasks      | elapsed: 48.8min\n",
      "[Parallel(n_jobs=8)]: Done 186 tasks      | elapsed: 48.9min\n",
      "[Parallel(n_jobs=8)]: Done 187 tasks      | elapsed: 48.9min\n",
      "[Parallel(n_jobs=8)]: Done 188 tasks      | elapsed: 49.4min\n",
      "[Parallel(n_jobs=8)]: Done 189 tasks      | elapsed: 49.4min\n",
      "[Parallel(n_jobs=8)]: Done 190 tasks      | elapsed: 50.3min\n",
      "[Parallel(n_jobs=8)]: Done 191 tasks      | elapsed: 50.8min\n",
      "[Parallel(n_jobs=8)]: Done 192 tasks      | elapsed: 51.1min\n",
      "[Parallel(n_jobs=8)]: Done 193 tasks      | elapsed: 51.3min\n",
      "[Parallel(n_jobs=8)]: Done 194 tasks      | elapsed: 51.3min\n",
      "[Parallel(n_jobs=8)]: Done 195 tasks      | elapsed: 51.6min\n",
      "[Parallel(n_jobs=8)]: Done 196 tasks      | elapsed: 51.6min\n",
      "[Parallel(n_jobs=8)]: Done 197 tasks      | elapsed: 52.1min\n",
      "[Parallel(n_jobs=8)]: Done 198 tasks      | elapsed: 52.7min\n",
      "[Parallel(n_jobs=8)]: Done 199 tasks      | elapsed: 53.1min\n",
      "[Parallel(n_jobs=8)]: Done 200 tasks      | elapsed: 53.3min\n",
      "[Parallel(n_jobs=8)]: Done 201 tasks      | elapsed: 53.8min\n",
      "[Parallel(n_jobs=8)]: Done 202 tasks      | elapsed: 54.0min\n",
      "[Parallel(n_jobs=8)]: Done 203 tasks      | elapsed: 54.1min\n",
      "[Parallel(n_jobs=8)]: Done 204 tasks      | elapsed: 54.2min\n",
      "[Parallel(n_jobs=8)]: Done 205 tasks      | elapsed: 54.3min\n",
      "[Parallel(n_jobs=8)]: Done 206 tasks      | elapsed: 55.2min\n",
      "[Parallel(n_jobs=8)]: Done 207 tasks      | elapsed: 55.4min\n",
      "[Parallel(n_jobs=8)]: Done 208 tasks      | elapsed: 55.8min\n",
      "[Parallel(n_jobs=8)]: Done 209 tasks      | elapsed: 56.0min\n",
      "[Parallel(n_jobs=8)]: Done 210 tasks      | elapsed: 56.5min\n",
      "[Parallel(n_jobs=8)]: Done 211 tasks      | elapsed: 56.7min\n",
      "[Parallel(n_jobs=8)]: Done 212 tasks      | elapsed: 56.7min\n",
      "[Parallel(n_jobs=8)]: Done 213 tasks      | elapsed: 56.9min\n",
      "[Parallel(n_jobs=8)]: Done 214 tasks      | elapsed: 57.1min\n",
      "[Parallel(n_jobs=8)]: Done 215 tasks      | elapsed: 57.9min\n",
      "[Parallel(n_jobs=8)]: Done 216 tasks      | elapsed: 58.1min\n",
      "[Parallel(n_jobs=8)]: Done 217 tasks      | elapsed: 59.2min\n",
      "[Parallel(n_jobs=8)]: Done 218 tasks      | elapsed: 59.4min\n",
      "[Parallel(n_jobs=8)]: Done 219 tasks      | elapsed: 60.6min\n",
      "[Parallel(n_jobs=8)]: Done 220 tasks      | elapsed: 60.8min\n",
      "[Parallel(n_jobs=8)]: Done 221 tasks      | elapsed: 60.8min\n",
      "[Parallel(n_jobs=8)]: Done 222 tasks      | elapsed: 60.9min\n",
      "[Parallel(n_jobs=8)]: Done 223 tasks      | elapsed: 61.2min\n",
      "[Parallel(n_jobs=8)]: Done 224 tasks      | elapsed: 61.9min\n",
      "[Parallel(n_jobs=8)]: Done 225 tasks      | elapsed: 62.1min\n",
      "[Parallel(n_jobs=8)]: Done 226 tasks      | elapsed: 63.1min\n",
      "[Parallel(n_jobs=8)]: Done 227 tasks      | elapsed: 63.6min\n",
      "[Parallel(n_jobs=8)]: Done 228 tasks      | elapsed: 64.3min\n",
      "[Parallel(n_jobs=8)]: Done 229 tasks      | elapsed: 64.6min\n",
      "[Parallel(n_jobs=8)]: Done 230 tasks      | elapsed: 64.8min\n",
      "[Parallel(n_jobs=8)]: Done 231 tasks      | elapsed: 64.9min\n",
      "[Parallel(n_jobs=8)]: Done 232 tasks      | elapsed: 65.2min\n",
      "[Parallel(n_jobs=8)]: Done 233 tasks      | elapsed: 66.0min\n",
      "[Parallel(n_jobs=8)]: Done 234 tasks      | elapsed: 66.3min\n",
      "[Parallel(n_jobs=8)]: Done 235 tasks      | elapsed: 67.0min\n",
      "[Parallel(n_jobs=8)]: Done 236 tasks      | elapsed: 67.6min\n",
      "[Parallel(n_jobs=8)]: Done 237 tasks      | elapsed: 67.8min\n",
      "[Parallel(n_jobs=8)]: Done 238 tasks      | elapsed: 68.6min\n",
      "[Parallel(n_jobs=8)]: Done 239 tasks      | elapsed: 68.8min\n",
      "[Parallel(n_jobs=8)]: Done 240 tasks      | elapsed: 68.8min\n",
      "[Parallel(n_jobs=8)]: Done 241 tasks      | elapsed: 69.0min\n",
      "[Parallel(n_jobs=8)]: Done 242 tasks      | elapsed: 69.9min\n",
      "[Parallel(n_jobs=8)]: Done 243 tasks      | elapsed: 70.6min\n",
      "[Parallel(n_jobs=8)]: Done 244 tasks      | elapsed: 71.8min\n",
      "[Parallel(n_jobs=8)]: Done 245 tasks      | elapsed: 72.6min\n",
      "[Parallel(n_jobs=8)]: Done 246 tasks      | elapsed: 72.6min\n",
      "[Parallel(n_jobs=8)]: Done 247 tasks      | elapsed: 73.4min\n",
      "[Parallel(n_jobs=8)]: Done 248 tasks      | elapsed: 74.2min\n",
      "[Parallel(n_jobs=8)]: Done 249 tasks      | elapsed: 74.3min\n",
      "[Parallel(n_jobs=8)]: Done 250 tasks      | elapsed: 74.5min\n",
      "[Parallel(n_jobs=8)]: Done 251 tasks      | elapsed: 75.8min\n",
      "[Parallel(n_jobs=8)]: Done 252 tasks      | elapsed: 75.9min\n",
      "[Parallel(n_jobs=8)]: Done 253 tasks      | elapsed: 77.2min\n",
      "[Parallel(n_jobs=8)]: Done 254 tasks      | elapsed: 77.9min\n",
      "[Parallel(n_jobs=8)]: Done 255 tasks      | elapsed: 78.0min\n",
      "[Parallel(n_jobs=8)]: Done 265 out of 270 | elapsed: 83.6min remaining:  1.6min\n",
      "[Parallel(n_jobs=8)]: Done 270 out of 270 | elapsed: 84.8min finished\n"
     ]
    },
    {
     "name": "stdout",
     "output_type": "stream",
     "text": [
      "[0]\tvalidation_0-mae:40.524\n",
      "Will train until validation_0-mae hasn't improved in 50 rounds.\n",
      "[1]\tvalidation_0-mae:36.1721\n",
      "[2]\tvalidation_0-mae:32.2473\n",
      "[3]\tvalidation_0-mae:28.7213\n",
      "[4]\tvalidation_0-mae:25.5823\n",
      "[5]\tvalidation_0-mae:22.7058\n",
      "[6]\tvalidation_0-mae:20.1798\n",
      "[7]\tvalidation_0-mae:17.9916\n",
      "[8]\tvalidation_0-mae:15.9889\n",
      "[9]\tvalidation_0-mae:14.2558\n",
      "[10]\tvalidation_0-mae:12.7256\n",
      "[11]\tvalidation_0-mae:11.4146\n",
      "[12]\tvalidation_0-mae:10.3287\n",
      "[13]\tvalidation_0-mae:9.38572\n",
      "[14]\tvalidation_0-mae:8.58973\n",
      "[15]\tvalidation_0-mae:7.92707\n",
      "[16]\tvalidation_0-mae:7.38957\n",
      "[17]\tvalidation_0-mae:6.96254\n",
      "[18]\tvalidation_0-mae:6.61195\n",
      "[19]\tvalidation_0-mae:6.33682\n",
      "[20]\tvalidation_0-mae:6.11907\n",
      "[21]\tvalidation_0-mae:5.9473\n",
      "[22]\tvalidation_0-mae:5.8181\n",
      "[23]\tvalidation_0-mae:5.7175\n",
      "[24]\tvalidation_0-mae:5.64256\n",
      "[25]\tvalidation_0-mae:5.58735\n",
      "[26]\tvalidation_0-mae:5.54644\n",
      "[27]\tvalidation_0-mae:5.51849\n",
      "[28]\tvalidation_0-mae:5.4985\n",
      "[29]\tvalidation_0-mae:5.48571\n",
      "[30]\tvalidation_0-mae:5.47692\n",
      "[31]\tvalidation_0-mae:5.47204\n",
      "[32]\tvalidation_0-mae:5.46947\n",
      "[33]\tvalidation_0-mae:5.46762\n",
      "[34]\tvalidation_0-mae:5.46727\n",
      "[35]\tvalidation_0-mae:5.46565\n",
      "[36]\tvalidation_0-mae:5.46816\n",
      "[37]\tvalidation_0-mae:5.46944\n",
      "[38]\tvalidation_0-mae:5.46821\n",
      "[39]\tvalidation_0-mae:5.46996\n",
      "[40]\tvalidation_0-mae:5.47114\n",
      "[41]\tvalidation_0-mae:5.47192\n",
      "[42]\tvalidation_0-mae:5.47127\n",
      "[43]\tvalidation_0-mae:5.4718\n",
      "[44]\tvalidation_0-mae:5.46823\n",
      "[45]\tvalidation_0-mae:5.46606\n",
      "[46]\tvalidation_0-mae:5.46454\n",
      "[47]\tvalidation_0-mae:5.46132\n",
      "[48]\tvalidation_0-mae:5.45957\n",
      "[49]\tvalidation_0-mae:5.45809\n",
      "Wall time: 1h 25min 22s\n"
     ]
    },
    {
     "data": {
      "text/plain": [
       "GridSearchCV(cv=PredefinedSplit(test_fold=array([-1, -1, ...,  0,  0])),\n",
       "       error_score='raise',\n",
       "       estimator=XGBRegressor(base_score=0.5, booster='gbtree', colsample_bylevel=1,\n",
       "       colsample_bytree=1, gamma=0, learning_rate=0.1, max_delta_step=0,\n",
       "       max_depth=3, min_child_weight=1, missing=None, n_estimators=100,\n",
       "       n_jobs=8, nthread=None, objective='reg:linear', random_state=0,\n",
       "       reg_alpha=0, reg_lambda=1, scale_pos_weight=1, seed=None,\n",
       "       silent=True, subsample=1),\n",
       "       fit_params={'early_stopping_rounds': 50, 'eval_metric': 'mae', 'eval_set': [[array([[ 27.,  26., ..., 161.,   1.],\n",
       "       [ 17.,  27., ..., 130.,   0.],\n",
       "       ...,\n",
       "       [ 56.,  64., ..., 736.,   0.],\n",
       "       [ 64.,  56., ..., 790.,   0.]]), array([19., 15., ..., 68., 69.], dtype=float32)]]},\n",
       "       iid=True, n_jobs=8,\n",
       "       param_grid={'n_estimators': array([ 50, 100, 150]), 'min_child_weight': array([10, 20, 30, 40, 50, 60, 70, 80, 90]), 'learning_rate': [0.1], 'colsample_bytree': array([0.8, 0.9]), 'max_depth': array([1, 3, 5, 7, 9]), 'subsample': [0.9], 'reg_lambda': [1.0]},\n",
       "       pre_dispatch='2*n_jobs', refit=True, return_train_score='warn',\n",
       "       scoring=None, verbose=30)"
      ]
     },
     "execution_count": 40,
     "metadata": {},
     "output_type": "execute_result"
    }
   ],
   "source": [
    "%time grid_xgb.fit(X_training.values,y_training.values)"
   ]
  },
  {
   "cell_type": "code",
   "execution_count": 44,
   "metadata": {},
   "outputs": [],
   "source": [
    "# PB score = 15.29464\n",
    "xgb_best = grid_xgb.best_estimator_\n",
    "# rf_best.fit(X_training_full, y_training_full)\n",
    "pred_xgb_best = xgb_best.predict(X_testing.values)\n",
    "submission_xgb = pd.DataFrame({'Id': sample_submission.id, 'sales': pred_xgb_best})\n",
    "submission_xgb.to_csv('../output/submission_xgb.csv', index=False)"
   ]
  },
  {
   "cell_type": "code",
   "execution_count": 54,
   "metadata": {},
   "outputs": [
    {
     "name": "stdout",
     "output_type": "stream",
     "text": [
      "13.823542751736111\n"
     ]
    }
   ],
   "source": [
    "pred_validation_xgb = xgb_best.predict(X_validation.values)\n",
    "print(smape(pred_validation_xgb, y_validation.values))"
   ]
  },
  {
   "cell_type": "markdown",
   "metadata": {},
   "source": [
    "#### Stacking\n",
    "Using ridge regression with validation data"
   ]
  },
  {
   "cell_type": "code",
   "execution_count": 57,
   "metadata": {},
   "outputs": [
    {
     "name": "stdout",
     "output_type": "stream",
     "text": [
      "(45000, 2)\n"
     ]
    }
   ],
   "source": [
    "X_stack = np.stack((pred_validation_lasso, pred_validation_xgb), axis=-1)\n",
    "y_stack = y_validation.values\n",
    "print(X_stack.shape)"
   ]
  },
  {
   "cell_type": "code",
   "execution_count": 59,
   "metadata": {},
   "outputs": [
    {
     "data": {
      "text/plain": [
       "Ridge(alpha=0.1, copy_X=True, fit_intercept=True, max_iter=None,\n",
       "   normalize=False, random_state=71, solver='auto', tol=0.001)"
      ]
     },
     "execution_count": 59,
     "metadata": {},
     "output_type": "execute_result"
    }
   ],
   "source": [
    "reg_stack = Ridge(random_state=RANDOM_STATE, alpha=0.1)\n",
    "reg_stack.fit(X_stack, y_stack)"
   ]
  },
  {
   "cell_type": "code",
   "execution_count": 61,
   "metadata": {},
   "outputs": [
    {
     "name": "stdout",
     "output_type": "stream",
     "text": [
      "13.503561026036206\n"
     ]
    }
   ],
   "source": [
    "pred_validation_stack = reg_stack.predict(X_stack)\n",
    "print(smape(pred_validation_stack, y_validation.values))"
   ]
  },
  {
   "cell_type": "code",
   "execution_count": 64,
   "metadata": {},
   "outputs": [],
   "source": [
    "# Prediction using the combined predictor\n",
    "X_stack_test = np.stack((pred_reg_best, pred_xgb_best), axis=-1)\n",
    "pred_test_stack = reg_stack.predict(X_stack_test)\n",
    "submission_stack = pd.DataFrame({'Id': sample_submission.id, 'sales': pred_test_stack})\n",
    "submission_stack.to_csv('../output/submission_stack.csv', index=False)"
   ]
  },
  {
   "cell_type": "code",
   "execution_count": null,
   "metadata": {},
   "outputs": [],
   "source": []
  }
 ],
 "metadata": {
  "kernelspec": {
   "display_name": "Python 3",
   "language": "python",
   "name": "python3"
  },
  "language_info": {
   "codemirror_mode": {
    "name": "ipython",
    "version": 3
   },
   "file_extension": ".py",
   "mimetype": "text/x-python",
   "name": "python",
   "nbconvert_exporter": "python",
   "pygments_lexer": "ipython3",
   "version": "3.6.5"
  }
 },
 "nbformat": 4,
 "nbformat_minor": 1
}
