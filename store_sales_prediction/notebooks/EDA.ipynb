{
 "cells": [
  {
   "cell_type": "markdown",
   "metadata": {
    "_uuid": "a089bfe751ea9a3ca72f66544f72f8c9353ad3ca"
   },
   "source": [
    "The objective of this competition is to predict 3 months of item-level sales data at different store locations.\n",
    "\n",
    "**File descriptions**\n",
    "\n",
    "train.csv - Training data\n",
    "test.csv - Test data (Note: the Public/Private split is time based)\n",
    "sample_submission.csv - a sample submission file in the correct format\n",
    "\n",
    "**Data fields**\n",
    "\n",
    "date - Date of the sale data. There are no holiday effects or store closures.\n",
    "store - Store ID\n",
    "item - Item ID\n",
    "sales - Number of items sold at a particular store on a particular date.\n",
    "\n",
    "Symmetric mean absolute percentage error (SMAPE or sMAPE) is an accuracy measure based on percentage (or relative) errors.\n",
    "\n",
    "https://en.wikipedia.org/wiki/Symmetric_mean_absolute_percentage_error\n"
   ]
  },
  {
   "cell_type": "code",
   "execution_count": 3,
   "metadata": {
    "_cell_guid": "b1076dfc-b9ad-4769-8c92-a6c4dae69d19",
    "_uuid": "8f2839f25d086af736a60e9eeb907d3b93b6e0e5"
   },
   "outputs": [],
   "source": [
    "# This Python 3 environment comes with many helpful analytics libraries installed\n",
    "# It is defined by the kaggle/python docker image: https://github.com/kaggle/docker-python\n",
    "# For example, here's several helpful packages to load in \n",
    "\n",
    "import numpy as np # linear algebra\n",
    "import pandas as pd # data processing, CSV file I/O (e.g. pd.read_csv)\n",
    "\n",
    "import matplotlib.pyplot as plt\n",
    "import matplotlib as mpl\n",
    "import seaborn as sns\n",
    "\n",
    "mpl.rcParams['figure.figsize'] = [12, 8]\n",
    "%matplotlib inline\n",
    "\n"
   ]
  },
  {
   "cell_type": "code",
   "execution_count": 4,
   "metadata": {
    "_uuid": "a7bf470fad20c411c2666bff979452484763104d"
   },
   "outputs": [
    {
     "name": "stdout",
     "output_type": "stream",
     "text": [
      "0.9.0\n"
     ]
    }
   ],
   "source": [
    "print(sns.__version__)"
   ]
  },
  {
   "cell_type": "code",
   "execution_count": 5,
   "metadata": {
    "_uuid": "8cb0350a2fe5532bc6512e257aa2dfaffc422182"
   },
   "outputs": [],
   "source": [
    "train = pd.read_csv(\"../data/train.csv.zip\")\n",
    "test = pd.read_csv(\"../data/test.csv.zip\")"
   ]
  },
  {
   "cell_type": "code",
   "execution_count": 6,
   "metadata": {
    "_uuid": "bf1f3eb9151f274f355cb92a723e247e52e01006"
   },
   "outputs": [
    {
     "name": "stdout",
     "output_type": "stream",
     "text": [
      "<class 'pandas.core.frame.DataFrame'>\n",
      "RangeIndex: 913000 entries, 0 to 912999\n",
      "Data columns (total 4 columns):\n",
      "date     913000 non-null object\n",
      "store    913000 non-null int64\n",
      "item     913000 non-null int64\n",
      "sales    913000 non-null int64\n",
      "dtypes: int64(3), object(1)\n",
      "memory usage: 27.9+ MB\n"
     ]
    }
   ],
   "source": [
    "train.info()"
   ]
  },
  {
   "cell_type": "code",
   "execution_count": 7,
   "metadata": {
    "_uuid": "eab42bf45e1e9be571448e6b534be4ba4d32cc2e"
   },
   "outputs": [
    {
     "name": "stdout",
     "output_type": "stream",
     "text": [
      "<class 'pandas.core.frame.DataFrame'>\n",
      "RangeIndex: 45000 entries, 0 to 44999\n",
      "Data columns (total 4 columns):\n",
      "id       45000 non-null int64\n",
      "date     45000 non-null object\n",
      "store    45000 non-null int64\n",
      "item     45000 non-null int64\n",
      "dtypes: int64(3), object(1)\n",
      "memory usage: 1.4+ MB\n"
     ]
    }
   ],
   "source": [
    "test.info()"
   ]
  },
  {
   "cell_type": "markdown",
   "metadata": {
    "_uuid": "ef904ccd04e07f2fa0e604ec1d9984d2e8b9384c"
   },
   "source": [
    "OBSERVATIONS:\n",
    "\n",
    "1.  It is fairly small dataset with only about 900K training instances and 45K test instances. \n",
    "2. There are only 3 initial features, date, store, and item. "
   ]
  },
  {
   "cell_type": "code",
   "execution_count": 10,
   "metadata": {
    "_uuid": "df81bd71b4d28b24b18aadb3b0cb54e23309eeed"
   },
   "outputs": [],
   "source": [
    "# Convert the date field\n",
    "train.loc[:,'date'] = pd.to_datetime(train.date)\n",
    "test.loc[:,'date'] = pd.to_datetime(test.date)"
   ]
  },
  {
   "cell_type": "code",
   "execution_count": 11,
   "metadata": {
    "_uuid": "4decb08c7abe730aa1454390ed136914152fe2d8"
   },
   "outputs": [
    {
     "name": "stdout",
     "output_type": "stream",
     "text": [
      "The time range of the training data\n",
      "2013-01-01 00:00:00 2017-12-31 00:00:00 1826\n",
      "The time range of the test data\n",
      "2018-01-01 00:00:00 2018-03-31 00:00:00 90\n"
     ]
    }
   ],
   "source": [
    "# the time range of the training data\n",
    "print(\"The time range of the training data\")\n",
    "print(train.date.min(), train.date.max(), (train.date.max()-train.date.min()).days+1)\n",
    "print(\"The time range of the test data\")\n",
    "print(test.date.min(), test.date.max(), (test.date.max()-test.date.min()).days+1)"
   ]
  },
  {
   "cell_type": "code",
   "execution_count": 12,
   "metadata": {
    "_uuid": "840827bf51fc9a179ea4706fc5962e51e63676b4"
   },
   "outputs": [
    {
     "name": "stdout",
     "output_type": "stream",
     "text": [
      "Number of unique stores in train data = 10\n",
      "Number of unique stores in test data  = 10\n"
     ]
    }
   ],
   "source": [
    "# number of unique stores\n",
    "print(\"Number of unique stores in train data = {0:d}\".format(train.store.nunique()))\n",
    "print(\"Number of unique stores in test data  = {0:d}\".format(test.store.nunique()))"
   ]
  },
  {
   "cell_type": "code",
   "execution_count": 13,
   "metadata": {
    "_uuid": "7e29a509f6b12c36fafdbef34cc1f920154e0d89"
   },
   "outputs": [
    {
     "data": {
      "text/plain": [
       "1     91300\n",
       "2     91300\n",
       "3     91300\n",
       "4     91300\n",
       "5     91300\n",
       "6     91300\n",
       "7     91300\n",
       "8     91300\n",
       "9     91300\n",
       "10    91300\n",
       "Name: store, dtype: int64"
      ]
     },
     "execution_count": 13,
     "metadata": {},
     "output_type": "execute_result"
    }
   ],
   "source": [
    "train.store.value_counts().sort_index()"
   ]
  },
  {
   "cell_type": "code",
   "execution_count": 14,
   "metadata": {
    "_uuid": "72cc0f723bbae4b886f036a08c09afdfa73f5cf8"
   },
   "outputs": [
    {
     "data": {
      "text/plain": [
       "1     4500\n",
       "2     4500\n",
       "3     4500\n",
       "4     4500\n",
       "5     4500\n",
       "6     4500\n",
       "7     4500\n",
       "8     4500\n",
       "9     4500\n",
       "10    4500\n",
       "Name: store, dtype: int64"
      ]
     },
     "execution_count": 14,
     "metadata": {},
     "output_type": "execute_result"
    }
   ],
   "source": [
    "test.store.value_counts().sort_index()"
   ]
  },
  {
   "cell_type": "code",
   "execution_count": 15,
   "metadata": {
    "_uuid": "539de58ba3581c1163b35530152ee0a945b845f2"
   },
   "outputs": [
    {
     "name": "stdout",
     "output_type": "stream",
     "text": [
      "Number of unique items in train data = 50\n",
      "Number of unique items in test data  = 50\n"
     ]
    }
   ],
   "source": [
    "# number of unique items\n",
    "print(\"Number of unique items in train data = {0:d}\".format(train.item.nunique()))\n",
    "print(\"Number of unique items in test data  = {0:d}\".format(test.item.nunique()))"
   ]
  },
  {
   "cell_type": "code",
   "execution_count": 16,
   "metadata": {
    "_uuid": "0d99892a3b8cde0d1767b3dabc7c8e193dd8a8ca"
   },
   "outputs": [
    {
     "data": {
      "text/plain": [
       "1     18260\n",
       "2     18260\n",
       "3     18260\n",
       "4     18260\n",
       "5     18260\n",
       "6     18260\n",
       "7     18260\n",
       "8     18260\n",
       "9     18260\n",
       "10    18260\n",
       "11    18260\n",
       "12    18260\n",
       "13    18260\n",
       "14    18260\n",
       "15    18260\n",
       "16    18260\n",
       "17    18260\n",
       "18    18260\n",
       "19    18260\n",
       "20    18260\n",
       "21    18260\n",
       "22    18260\n",
       "23    18260\n",
       "24    18260\n",
       "25    18260\n",
       "26    18260\n",
       "27    18260\n",
       "28    18260\n",
       "29    18260\n",
       "30    18260\n",
       "31    18260\n",
       "32    18260\n",
       "33    18260\n",
       "34    18260\n",
       "35    18260\n",
       "36    18260\n",
       "37    18260\n",
       "38    18260\n",
       "39    18260\n",
       "40    18260\n",
       "41    18260\n",
       "42    18260\n",
       "43    18260\n",
       "44    18260\n",
       "45    18260\n",
       "46    18260\n",
       "47    18260\n",
       "48    18260\n",
       "49    18260\n",
       "50    18260\n",
       "Name: item, dtype: int64"
      ]
     },
     "execution_count": 16,
     "metadata": {},
     "output_type": "execute_result"
    }
   ],
   "source": [
    "train.item.value_counts().sort_index()"
   ]
  },
  {
   "cell_type": "code",
   "execution_count": 17,
   "metadata": {
    "_uuid": "19d0113a6e83656ee84879f59e59139b66854e25"
   },
   "outputs": [
    {
     "data": {
      "text/plain": [
       "1     900\n",
       "2     900\n",
       "3     900\n",
       "4     900\n",
       "5     900\n",
       "6     900\n",
       "7     900\n",
       "8     900\n",
       "9     900\n",
       "10    900\n",
       "11    900\n",
       "12    900\n",
       "13    900\n",
       "14    900\n",
       "15    900\n",
       "16    900\n",
       "17    900\n",
       "18    900\n",
       "19    900\n",
       "20    900\n",
       "21    900\n",
       "22    900\n",
       "23    900\n",
       "24    900\n",
       "25    900\n",
       "26    900\n",
       "27    900\n",
       "28    900\n",
       "29    900\n",
       "30    900\n",
       "31    900\n",
       "32    900\n",
       "33    900\n",
       "34    900\n",
       "35    900\n",
       "36    900\n",
       "37    900\n",
       "38    900\n",
       "39    900\n",
       "40    900\n",
       "41    900\n",
       "42    900\n",
       "43    900\n",
       "44    900\n",
       "45    900\n",
       "46    900\n",
       "47    900\n",
       "48    900\n",
       "49    900\n",
       "50    900\n",
       "Name: item, dtype: int64"
      ]
     },
     "execution_count": 17,
     "metadata": {},
     "output_type": "execute_result"
    }
   ],
   "source": [
    "test.item.value_counts().sort_index()"
   ]
  },
  {
   "cell_type": "markdown",
   "metadata": {
    "_uuid": "ea67203ef62e00300fdd2d4692b45fcc4c19bad1"
   },
   "source": [
    "**OBSERVATIONS**\n",
    "\n",
    "1.  The stores present in the training data are present in the test data. \n",
    "2.  The same items are present in both data. \n",
    "3. The number of observations per store and per item is the same. "
   ]
  },
  {
   "cell_type": "markdown",
   "metadata": {
    "_uuid": "fcafa7a055a95ca98221e15f9c12e6fb2e51cd1a"
   },
   "source": [
    "## EDA"
   ]
  },
  {
   "cell_type": "code",
   "execution_count": 18,
   "metadata": {
    "_uuid": "ba22e3094d24e72b6a7ea083592441b21a75877c"
   },
   "outputs": [
    {
     "data": {
      "text/plain": [
       "[<matplotlib.lines.Line2D at 0xb18cdd8>]"
      ]
     },
     "execution_count": 18,
     "metadata": {},
     "output_type": "execute_result"
    },
    {
     "data": {
      "image/png": "[encoded data removed]",
      "text/plain": [
       "<Figure size 432x288 with 1 Axes>"
      ]
     },
     "metadata": {},
     "output_type": "display_data"
    }
   ],
   "source": [
    "# Plot the daily total sales\n",
    "# The trend clearly shows seasonality and the total annual sales increases steadily\n",
    "daily_sales = train.groupby('date')['sales'].sum()\n",
    "plt.plot(daily_sales)"
   ]
  },
  {
   "cell_type": "code",
   "execution_count": 19,
   "metadata": {
    "_uuid": "205a725147b2fbc4c899c890e1fac85ac9c9e36e"
   },
   "outputs": [
    {
     "data": {
      "text/plain": [
       "date\n",
       "2013-07-28    33216\n",
       "2014-07-27    38318\n",
       "2015-07-12    39794\n",
       "2016-07-10    43427\n",
       "2017-07-02    44936\n",
       "Name: sales, dtype: int64"
      ]
     },
     "execution_count": 19,
     "metadata": {},
     "output_type": "execute_result"
    }
   ],
   "source": [
    "# find the cycle length, yearly cycle, July is the highest\n",
    "daily_sales.loc[daily_sales.groupby(daily_sales.index.year).idxmax()]"
   ]
  },
  {
   "cell_type": "code",
   "execution_count": 20,
   "metadata": {
    "_uuid": "f39924e99f96d0e23a1d033c0585999e41df032b"
   },
   "outputs": [
    {
     "data": {
      "text/html": [
       "<div>\n",
       "<style scoped>\n",
       "    .dataframe tbody tr th:only-of-type {\n",
       "        vertical-align: middle;\n",
       "    }\n",
       "\n",
       "    .dataframe tbody tr th {\n",
       "        vertical-align: top;\n",
       "    }\n",
       "\n",
       "    .dataframe thead th {\n",
       "        text-align: right;\n",
       "    }\n",
       "</style>\n",
       "<table border=\"1\" class=\"dataframe\">\n",
       "  <thead>\n",
       "    <tr style=\"text-align: right;\">\n",
       "      <th></th>\n",
       "      <th>date</th>\n",
       "      <th>store</th>\n",
       "      <th>item</th>\n",
       "      <th>sales</th>\n",
       "    </tr>\n",
       "  </thead>\n",
       "  <tbody>\n",
       "    <tr>\n",
       "      <th>0</th>\n",
       "      <td>2014-01-01</td>\n",
       "      <td>1</td>\n",
       "      <td>1</td>\n",
       "      <td>13</td>\n",
       "    </tr>\n",
       "    <tr>\n",
       "      <th>1</th>\n",
       "      <td>2014-01-02</td>\n",
       "      <td>1</td>\n",
       "      <td>1</td>\n",
       "      <td>11</td>\n",
       "    </tr>\n",
       "    <tr>\n",
       "      <th>2</th>\n",
       "      <td>2014-01-03</td>\n",
       "      <td>1</td>\n",
       "      <td>1</td>\n",
       "      <td>14</td>\n",
       "    </tr>\n",
       "    <tr>\n",
       "      <th>3</th>\n",
       "      <td>2014-01-04</td>\n",
       "      <td>1</td>\n",
       "      <td>1</td>\n",
       "      <td>13</td>\n",
       "    </tr>\n",
       "    <tr>\n",
       "      <th>4</th>\n",
       "      <td>2014-01-05</td>\n",
       "      <td>1</td>\n",
       "      <td>1</td>\n",
       "      <td>10</td>\n",
       "    </tr>\n",
       "  </tbody>\n",
       "</table>\n",
       "</div>"
      ],
      "text/plain": [
       "        date  store  item  sales\n",
       "0 2014-01-01      1     1     13\n",
       "1 2014-01-02      1     1     11\n",
       "2 2014-01-03      1     1     14\n",
       "3 2014-01-04      1     1     13\n",
       "4 2014-01-05      1     1     10"
      ]
     },
     "execution_count": 20,
     "metadata": {},
     "output_type": "execute_result"
    }
   ],
   "source": [
    "# Compute annual growth for each store and item combination\n",
    "train2 = train.set_index('date')\n",
    "train2.index = train2.index + pd.DateOffset(years=1)\n",
    "train2 = train2.reset_index()\n",
    "train2.head()"
   ]
  },
  {
   "cell_type": "code",
   "execution_count": 21,
   "metadata": {
    "_uuid": "f949c6a2c88a2d5ba95975fce5ced1a9e1ffb146"
   },
   "outputs": [],
   "source": [
    "train_yearly_diff = pd.merge(train, train2, on=['date','store','item'], how='left', suffixes=('_1','_2')).dropna()"
   ]
  },
  {
   "cell_type": "code",
   "execution_count": 22,
   "metadata": {
    "_uuid": "06d70fc2539ce7d4c1fbb5ce90fbe60e1bea2b4d"
   },
   "outputs": [],
   "source": [
    "train_yearly_diff.loc[:,'yearly_growth'] = (train_yearly_diff.sales_1 - train_yearly_diff.sales_2) / (train_yearly_diff.sales_2)\n",
    "train_yearly_diff = train_yearly_diff.replace([np.inf, -np.inf], np.nan).dropna()"
   ]
  },
  {
   "cell_type": "code",
   "execution_count": 23,
   "metadata": {
    "_uuid": "a0d3d25c70f283074009628aa3a3ac1dc016fb99"
   },
   "outputs": [
    {
     "data": {
      "text/plain": [
       "(array([2.75000e+02, 2.43230e+04, 1.51158e+05, 2.80907e+05, 1.90000e+05,\n",
       "        5.96410e+04, 1.58930e+04, 4.87200e+03, 1.79600e+03, 6.58000e+02,\n",
       "        4.80000e+02, 1.88000e+02, 1.14000e+02, 6.80000e+01, 3.80000e+01,\n",
       "        2.30000e+01, 1.90000e+01, 6.00000e+00, 1.50000e+01, 1.00000e+00,\n",
       "        1.20000e+01, 2.00000e+00, 1.00000e+00, 1.00000e+00, 0.00000e+00,\n",
       "        2.00000e+00, 1.00000e+00, 1.00000e+00, 0.00000e+00, 0.00000e+00,\n",
       "        1.00000e+00, 0.00000e+00, 0.00000e+00, 0.00000e+00, 0.00000e+00,\n",
       "        0.00000e+00, 0.00000e+00, 0.00000e+00, 0.00000e+00, 0.00000e+00,\n",
       "        1.00000e+00, 0.00000e+00, 0.00000e+00, 0.00000e+00, 0.00000e+00,\n",
       "        0.00000e+00, 1.00000e+00, 0.00000e+00, 0.00000e+00, 1.00000e+00]),\n",
       " array([-1. , -0.7, -0.4, -0.1,  0.2,  0.5,  0.8,  1.1,  1.4,  1.7,  2. ,\n",
       "         2.3,  2.6,  2.9,  3.2,  3.5,  3.8,  4.1,  4.4,  4.7,  5. ,  5.3,\n",
       "         5.6,  5.9,  6.2,  6.5,  6.8,  7.1,  7.4,  7.7,  8. ,  8.3,  8.6,\n",
       "         8.9,  9.2,  9.5,  9.8, 10.1, 10.4, 10.7, 11. , 11.3, 11.6, 11.9,\n",
       "        12.2, 12.5, 12.8, 13.1, 13.4, 13.7, 14. ]),\n",
       " <a list of 50 Patch objects>)"
      ]
     },
     "execution_count": 23,
     "metadata": {},
     "output_type": "execute_result"
    },
    {
     "data": {
      "image/png": "[encoded data removed]",
      "text/plain": [
       "<Figure size 432x288 with 1 Axes>"
      ]
     },
     "metadata": {},
     "output_type": "display_data"
    }
   ],
   "source": [
    "plt.hist(train_yearly_diff.yearly_growth, bins=50)"
   ]
  },
  {
   "cell_type": "code",
   "execution_count": 24,
   "metadata": {
    "_uuid": "6718349f8502de3124b8c42451bcc1ac7f957be4"
   },
   "outputs": [
    {
     "data": {
      "text/plain": [
       "count    730499.000000\n",
       "mean          0.127495\n",
       "std           0.338269\n",
       "min          -1.000000\n",
       "25%          -0.090909\n",
       "50%           0.105263\n",
       "75%           0.306122\n",
       "max          14.000000\n",
       "Name: yearly_growth, dtype: float64"
      ]
     },
     "execution_count": 24,
     "metadata": {},
     "output_type": "execute_result"
    }
   ],
   "source": [
    "# For each item at a store, the sales does not always increase from year to year\n",
    "train_yearly_diff.yearly_growth.describe()"
   ]
  },
  {
   "cell_type": "code",
   "execution_count": 26,
   "metadata": {
    "_uuid": "c218e42940ecb6754c8af1ec72e94196fb50ca0d"
   },
   "outputs": [
    {
     "data": {
      "text/html": [
       "<div>\n",
       "<style scoped>\n",
       "    .dataframe tbody tr th:only-of-type {\n",
       "        vertical-align: middle;\n",
       "    }\n",
       "\n",
       "    .dataframe tbody tr th {\n",
       "        vertical-align: top;\n",
       "    }\n",
       "\n",
       "    .dataframe thead th {\n",
       "        text-align: right;\n",
       "    }\n",
       "</style>\n",
       "<table border=\"1\" class=\"dataframe\">\n",
       "  <thead>\n",
       "    <tr style=\"text-align: right;\">\n",
       "      <th></th>\n",
       "      <th>date</th>\n",
       "      <th>store</th>\n",
       "      <th>sales</th>\n",
       "    </tr>\n",
       "  </thead>\n",
       "  <tbody>\n",
       "    <tr>\n",
       "      <th>0</th>\n",
       "      <td>2013-01-01</td>\n",
       "      <td>1</td>\n",
       "      <td>1316</td>\n",
       "    </tr>\n",
       "    <tr>\n",
       "      <th>1</th>\n",
       "      <td>2013-01-01</td>\n",
       "      <td>2</td>\n",
       "      <td>1742</td>\n",
       "    </tr>\n",
       "    <tr>\n",
       "      <th>2</th>\n",
       "      <td>2013-01-01</td>\n",
       "      <td>3</td>\n",
       "      <td>1588</td>\n",
       "    </tr>\n",
       "    <tr>\n",
       "      <th>3</th>\n",
       "      <td>2013-01-01</td>\n",
       "      <td>4</td>\n",
       "      <td>1423</td>\n",
       "    </tr>\n",
       "    <tr>\n",
       "      <th>4</th>\n",
       "      <td>2013-01-01</td>\n",
       "      <td>5</td>\n",
       "      <td>1032</td>\n",
       "    </tr>\n",
       "  </tbody>\n",
       "</table>\n",
       "</div>"
      ],
      "text/plain": [
       "        date  store  sales\n",
       "0 2013-01-01      1   1316\n",
       "1 2013-01-01      2   1742\n",
       "2 2013-01-01      3   1588\n",
       "3 2013-01-01      4   1423\n",
       "4 2013-01-01      5   1032"
      ]
     },
     "execution_count": 26,
     "metadata": {},
     "output_type": "execute_result"
    }
   ],
   "source": [
    "# Sales change per store\n",
    "train_sales_by_store = train.groupby(['date','store'])['sales'].sum().reset_index()\n",
    "train_sales_by_store.head()"
   ]
  },
  {
   "cell_type": "code",
   "execution_count": 27,
   "metadata": {},
   "outputs": [],
   "source": [
    "train_sales_by_store2 = train_sales_by_store.set_index('date')\n",
    "train_sales_by_store2.index = train_sales_by_store2.index + pd.DateOffset(years=1)\n",
    "train_sales_by_store2 = train_sales_by_store2.reset_index()\n",
    "\n",
    "train_sales_by_store_growth = pd.merge(train_sales_by_store, train_sales_by_store2, on=['date','store'], how='left', suffixes=('_1','_2')).dropna()\n",
    "train_sales_by_store_growth.loc[:,'yearly_growth'] = (train_sales_by_store_growth.sales_1 - train_sales_by_store_growth.sales_2) / (train_sales_by_store_growth.sales_2)\n",
    "train_sales_by_store_growth = train_sales_by_store_growth.replace([np.inf, -np.inf], np.nan).dropna()"
   ]
  },
  {
   "cell_type": "code",
   "execution_count": 28,
   "metadata": {},
   "outputs": [
    {
     "data": {
      "text/plain": [
       "(array([6.000e+00, 2.700e+01, 1.210e+02, 3.070e+02, 3.180e+02, 2.320e+02,\n",
       "        1.940e+02, 3.060e+02, 2.820e+02, 2.210e+02, 1.120e+02, 1.370e+02,\n",
       "        1.760e+02, 1.100e+02, 4.100e+01, 9.000e+00, 1.000e+00, 0.000e+00,\n",
       "        1.000e+00, 2.000e+00, 2.400e+01, 5.000e+01, 1.310e+02, 2.280e+02,\n",
       "        3.460e+02, 4.680e+02, 7.080e+02, 9.100e+02, 1.034e+03, 9.370e+02,\n",
       "        7.690e+02, 6.600e+02, 7.490e+02, 8.940e+02, 1.012e+03, 9.000e+02,\n",
       "        6.760e+02, 4.900e+02, 3.340e+02, 1.830e+02, 1.320e+02, 1.090e+02,\n",
       "        9.400e+01, 5.900e+01, 4.900e+01, 3.100e+01, 1.600e+01, 9.000e+00,\n",
       "        4.000e+00, 1.000e+00]),\n",
       " array([-0.3760407 , -0.35885546, -0.34167022, -0.32448497, -0.30729973,\n",
       "        -0.29011449, -0.27292924, -0.255744  , -0.23855875, -0.22137351,\n",
       "        -0.20418827, -0.18700302, -0.16981778, -0.15263254, -0.13544729,\n",
       "        -0.11826205, -0.10107681, -0.08389156, -0.06670632, -0.04952107,\n",
       "        -0.03233583, -0.01515059,  0.00203466,  0.0192199 ,  0.03640514,\n",
       "         0.05359039,  0.07077563,  0.08796087,  0.10514612,  0.12233136,\n",
       "         0.1395166 ,  0.15670185,  0.17388709,  0.19107234,  0.20825758,\n",
       "         0.22544282,  0.24262807,  0.25981331,  0.27699855,  0.2941838 ,\n",
       "         0.31136904,  0.32855428,  0.34573953,  0.36292477,  0.38011001,\n",
       "         0.39729526,  0.4144805 ,  0.43166575,  0.44885099,  0.46603623,\n",
       "         0.48322148]),\n",
       " <a list of 50 Patch objects>)"
      ]
     },
     "execution_count": 28,
     "metadata": {},
     "output_type": "execute_result"
    },
    {
     "data": {
      "image/png": "[encoded data removed]",
      "text/plain": [
       "<Figure size 432x288 with 1 Axes>"
      ]
     },
     "metadata": {},
     "output_type": "display_data"
    }
   ],
   "source": [
    "plt.hist(train_sales_by_store_growth.yearly_growth, bins=50)"
   ]
  },
  {
   "cell_type": "code",
   "execution_count": 29,
   "metadata": {},
   "outputs": [
    {
     "data": {
      "text/plain": [
       "count    14610.000000\n",
       "mean         0.095179\n",
       "std          0.177327\n",
       "min         -0.376041\n",
       "25%          0.064863\n",
       "50%          0.136955\n",
       "75%          0.215951\n",
       "max          0.483221\n",
       "Name: yearly_growth, dtype: float64"
      ]
     },
     "execution_count": 29,
     "metadata": {},
     "output_type": "execute_result"
    }
   ],
   "source": [
    "train_sales_by_store_growth.yearly_growth.describe()"
   ]
  },
  {
   "cell_type": "code",
   "execution_count": 33,
   "metadata": {},
   "outputs": [
    {
     "data": {
      "text/plain": [
       "1     265\n",
       "2     266\n",
       "3     266\n",
       "4     267\n",
       "5     275\n",
       "6     267\n",
       "7     272\n",
       "8     263\n",
       "9     266\n",
       "10    263\n",
       "Name: store, dtype: int64"
      ]
     },
     "execution_count": 33,
     "metadata": {},
     "output_type": "execute_result"
    }
   ],
   "source": [
    "# Find the stores with at least one day of decreasing yearly change\n",
    "train_sales_by_store_growth.loc[train_sales_by_store_growth.yearly_growth < 0, 'store'].value_counts().sort_index()"
   ]
  },
  {
   "cell_type": "code",
   "execution_count": 42,
   "metadata": {},
   "outputs": [
    {
     "data": {
      "text/plain": [
       "6    208\n",
       "5     52\n",
       "dtype: int64"
      ]
     },
     "execution_count": 42,
     "metadata": {},
     "output_type": "execute_result"
    }
   ],
   "source": [
    "# Weekend sales higher, pd.Timestamp('2013-01-06').weekday() = 6, Monday=0, Sunday=6\n",
    "df = train_sales_by_store_growth.loc[train_sales_by_store_growth.yearly_growth < 0, 'date'].value_counts().sort_index()\n",
    "(df.loc[df == 10].index + pd.DateOffset(years=-1)).weekday.value_counts()"
   ]
  },
  {
   "cell_type": "code",
   "execution_count": 43,
   "metadata": {},
   "outputs": [
    {
     "data": {
      "text/plain": [
       "pandas.core.indexes.numeric.Int64Index"
      ]
     },
     "execution_count": 43,
     "metadata": {},
     "output_type": "execute_result"
    }
   ],
   "source": [
    "type((df.loc[df == 10].index + pd.DateOffset(years=-1)).weekday)"
   ]
  },
  {
   "cell_type": "code",
   "execution_count": 31,
   "metadata": {},
   "outputs": [
    {
     "data": {
      "text/plain": [
       "(array([1.100e+01, 4.100e+01, 9.300e+01, 2.680e+02, 6.560e+02, 1.266e+03,\n",
       "        1.680e+03, 1.735e+03, 1.691e+03, 1.523e+03, 1.312e+03, 1.031e+03,\n",
       "        7.990e+02, 5.890e+02, 4.270e+02, 5.070e+02, 7.890e+02, 1.237e+03,\n",
       "        2.118e+03, 3.053e+03, 4.126e+03, 5.086e+03, 5.576e+03, 5.742e+03,\n",
       "        5.733e+03, 5.349e+03, 4.798e+03, 4.046e+03, 3.254e+03, 2.522e+03,\n",
       "        1.860e+03, 1.290e+03, 9.380e+02, 6.460e+02, 4.160e+02, 2.800e+02,\n",
       "        2.000e+02, 1.300e+02, 8.000e+01, 6.100e+01, 2.900e+01, 1.700e+01,\n",
       "        1.100e+01, 8.000e+00, 1.200e+01, 4.000e+00, 4.000e+00, 4.000e+00,\n",
       "        1.000e+00, 1.000e+00]),\n",
       " array([-4.74916388e-01, -4.48563221e-01, -4.22210055e-01, -3.95856889e-01,\n",
       "        -3.69503722e-01, -3.43150556e-01, -3.16797389e-01, -2.90444223e-01,\n",
       "        -2.64091056e-01, -2.37737890e-01, -2.11384723e-01, -1.85031557e-01,\n",
       "        -1.58678390e-01, -1.32325224e-01, -1.05972057e-01, -7.96188909e-02,\n",
       "        -5.32657245e-02, -2.69125580e-02, -5.59391520e-04,  2.57937749e-02,\n",
       "         5.21469414e-02,  7.85001079e-02,  1.04853274e-01,  1.31206441e-01,\n",
       "         1.57559607e-01,  1.83912774e-01,  2.10265940e-01,  2.36619107e-01,\n",
       "         2.62972273e-01,  2.89325440e-01,  3.15678606e-01,  3.42031773e-01,\n",
       "         3.68384939e-01,  3.94738106e-01,  4.21091272e-01,  4.47444438e-01,\n",
       "         4.73797605e-01,  5.00150771e-01,  5.26503938e-01,  5.52857104e-01,\n",
       "         5.79210271e-01,  6.05563437e-01,  6.31916604e-01,  6.58269770e-01,\n",
       "         6.84622937e-01,  7.10976103e-01,  7.37329270e-01,  7.63682436e-01,\n",
       "         7.90035603e-01,  8.16388769e-01,  8.42741935e-01]),\n",
       " <a list of 50 Patch objects>)"
      ]
     },
     "execution_count": 31,
     "metadata": {},
     "output_type": "execute_result"
    },
    {
     "data": {
      "image/png": "[encoded data removed]",
      "text/plain": [
       "<Figure size 432x288 with 1 Axes>"
      ]
     },
     "metadata": {},
     "output_type": "display_data"
    }
   ],
   "source": [
    "# Sales change per item\n",
    "train_sales_by_item = train.groupby(['date','item'])['sales'].sum().reset_index()\n",
    "\n",
    "train_sales_by_item2 = train_sales_by_item.set_index('date')\n",
    "train_sales_by_item2.index = train_sales_by_item2.index + pd.DateOffset(years=1)\n",
    "train_sales_by_item2 = train_sales_by_item2.reset_index()\n",
    "\n",
    "train_sales_by_item_growth = pd.merge(train_sales_by_item, train_sales_by_item2, on=['date','item'], how='left', suffixes=('_1','_2')).dropna()\n",
    "train_sales_by_item_growth.loc[:,'yearly_growth'] = (train_sales_by_item_growth.sales_1 - train_sales_by_item_growth.sales_2) / (train_sales_by_item_growth.sales_2)\n",
    "train_sales_by_item_growth = train_sales_by_item_growth.replace([np.inf, -np.inf], np.nan).dropna()\n",
    "\n",
    "plt.hist(train_sales_by_item_growth.yearly_growth, bins=50)"
   ]
  },
  {
   "cell_type": "code",
   "execution_count": null,
   "metadata": {},
   "outputs": [],
   "source": [
    "# potential features: "
   ]
  }
 ],
 "metadata": {
  "kernelspec": {
   "display_name": "Python 3",
   "language": "python",
   "name": "python3"
  },
  "language_info": {
   "codemirror_mode": {
    "name": "ipython",
    "version": 3
   },
   "file_extension": ".py",
   "mimetype": "text/x-python",
   "name": "python",
   "nbconvert_exporter": "python",
   "pygments_lexer": "ipython3",
   "version": "3.6.5"
  }
 },
 "nbformat": 4,
 "nbformat_minor": 1
}
