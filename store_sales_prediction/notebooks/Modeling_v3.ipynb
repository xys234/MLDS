{
 "cells": [
  {
   "cell_type": "code",
   "execution_count": 2,
   "metadata": {
    "_cell_guid": "b1076dfc-b9ad-4769-8c92-a6c4dae69d19",
    "_uuid": "8f2839f25d086af736a60e9eeb907d3b93b6e0e5"
   },
   "outputs": [
    {
     "name": "stdout",
     "output_type": "stream",
     "text": [
      "numpy 1.14.3\n",
      "pandas 0.23.0\n",
      "xgboost 0.72\n",
      "sklearn 0.19.1\n"
     ]
    }
   ],
   "source": [
    "import numpy as np\n",
    "import pandas as pd \n",
    "import xgboost as xgb\n",
    "import sklearn\n",
    "\n",
    "import matplotlib.pyplot as plt\n",
    "\n",
    "for p in [np, pd, xgb, sklearn]:\n",
    "    print (p.__name__, p.__version__)"
   ]
  },
  {
   "cell_type": "code",
   "execution_count": 3,
   "metadata": {
    "_cell_guid": "79c7e3d0-c299-4dcb-8224-4455121ee9b0",
    "_uuid": "d629ff2d2480ee46fbb7e2d37f6b5fab8052498a"
   },
   "outputs": [],
   "source": [
    "from sklearn.base import TransformerMixin\n",
    "from sklearn.pipeline import Pipeline\n",
    "from sklearn.model_selection import PredefinedSplit, cross_val_score, GridSearchCV\n",
    "\n",
    "from sklearn.linear_model import Lasso, Ridge\n",
    "from sklearn.ensemble import RandomForestRegressor\n",
    "from sklearn.metrics import mean_absolute_error, make_scorer"
   ]
  },
  {
   "cell_type": "code",
   "execution_count": 4,
   "metadata": {
    "_uuid": "61252fda3dc0f9da853960bb3ea85954d11097b3"
   },
   "outputs": [],
   "source": [
    "RANDOM_STATE = 71"
   ]
  },
  {
   "cell_type": "code",
   "execution_count": 5,
   "metadata": {
    "_uuid": "00cb3e0e90b2028f8bcbdae97cb02761f5eedbe5"
   },
   "outputs": [],
   "source": [
    "# Evaluation criterion\n",
    "def smape(pred, actual):\n",
    "    \"\"\"\n",
    "    pred: a numpy array of predictions\n",
    "    actual: a numpy array of actual values\n",
    "    \n",
    "    for a perfectly predicted zero observation, the smape is defined to be 0. \n",
    "    \n",
    "    \"\"\"\n",
    "    \n",
    "    selector = ~((pred == 0) & (actual == 0))\n",
    "    numerator = np.abs(pred-actual)\n",
    "    denom = (np.abs(pred) + np.abs(actual)) / 2\n",
    "    return 100*np.sum((numerator[selector] / denom[selector])) / pred.shape[0]\n",
    "\n",
    "smape_scorer = make_scorer(smape, greater_is_better=False)"
   ]
  },
  {
   "cell_type": "code",
   "execution_count": 6,
   "metadata": {
    "_uuid": "602f4c8732d84447cd31d111767cf22850bbb4c7"
   },
   "outputs": [],
   "source": [
    "train = pd.read_csv(\"../input/train.csv.zip\")\n",
    "test = pd.read_csv(\"../input/test.csv.zip\")\n",
    "sample_submission = pd.read_csv(\"../input/sample_submission.csv.zip\")"
   ]
  },
  {
   "cell_type": "code",
   "execution_count": 29,
   "metadata": {},
   "outputs": [],
   "source": [
    "TRAINING_END_DATE = '2017-12-31'"
   ]
  },
  {
   "cell_type": "code",
   "execution_count": 30,
   "metadata": {
    "_uuid": "89f4ceea57b94303b9f1cf40da1ad07dbaa780b4"
   },
   "outputs": [],
   "source": [
    "# Convert the date field\n",
    "train.loc[:,'date'] = pd.to_datetime(train.date)\n",
    "test.loc[:,'date'] = pd.to_datetime(test.date)"
   ]
  },
  {
   "cell_type": "code",
   "execution_count": 41,
   "metadata": {
    "_uuid": "6a0feb728d049552f79c8619256f998419bd4db1"
   },
   "outputs": [],
   "source": [
    "data = pd.concat([train, test], sort=False)   # test data has id column"
   ]
  },
  {
   "cell_type": "code",
   "execution_count": 42,
   "metadata": {
    "_uuid": "9afeb53e1b99486eb03691c5b29067302b2a6e3b"
   },
   "outputs": [],
   "source": [
    "def downcast_dtypes(df):\n",
    "    '''\n",
    "        Changes column types in the dataframe: \n",
    "                \n",
    "                `float64` type to `float32`\n",
    "                `int64`   type to `int32`\n",
    "    '''\n",
    "    \n",
    "    # Select columns to downcast\n",
    "    float_cols = [c for c in df if df[c].dtype == \"float64\"]\n",
    "    int_cols =   [c for c in df if df[c].dtype == \"int64\"]\n",
    "    \n",
    "    # Downcast\n",
    "    df[float_cols] = df[float_cols].astype(np.float32)\n",
    "    df[int_cols]   = df[int_cols].astype(np.int32)\n",
    "    \n",
    "    return df"
   ]
  },
  {
   "cell_type": "code",
   "execution_count": 43,
   "metadata": {
    "_uuid": "5dd99d8242f016adccfc241858774b60baf71bfa"
   },
   "outputs": [],
   "source": [
    "data = downcast_dtypes(data)"
   ]
  },
  {
   "cell_type": "code",
   "execution_count": 44,
   "metadata": {
    "_uuid": "0add3eed85dbdd45a1ad38e968c9868a3f8c19bf"
   },
   "outputs": [],
   "source": [
    "# Lag featurizer\n",
    "class Lag_Featurizer(TransformerMixin):\n",
    "    def __init__(self, index_col, time_col, value_col, output_col, output_time_index=False, shift=0, freq='1D'):\n",
    "        self.index_col = index_col\n",
    "        self.time_col = time_col\n",
    "        self.value_col = value_col\n",
    "        self.output_col = output_col\n",
    "        self.output_time_index=output_time_index\n",
    "        self.shift = shift\n",
    "        self.freq = freq\n",
    "        \n",
    "    def fit(self, X):                \n",
    "        pass\n",
    "    \n",
    "    def transform(self, X):\n",
    "        assert isinstance(self.index_col, list)\n",
    "        \n",
    "        time_key = pd.Grouper(freq=self.freq)      \n",
    "        time_index = self.index_col + [time_key]\n",
    "        resampled = X.groupby(time_index)[self.value_col].sum().reset_index().set_index(self.time_col)\n",
    "        shifted= resampled.groupby(self.index_col).shift(self.shift, freq=self.freq).drop(self.index_col, axis=1).reset_index().rename(columns={self.value_col:self.output_col})\n",
    "        merged = pd.merge(X, shifted, how='left',left_on=self.index_col + [self.time_col], right_on=self.index_col + [self.time_col])\n",
    "        if self.output_time_index:\n",
    "            return merged.set_index(self.time_col)\n",
    "        else:\n",
    "            return merged"
   ]
  },
  {
   "cell_type": "markdown",
   "metadata": {},
   "source": [
    "#### Add Mean encodings for weekday and month"
   ]
  },
  {
   "cell_type": "code",
   "execution_count": 45,
   "metadata": {},
   "outputs": [],
   "source": [
    "data.set_index('date', inplace=True)"
   ]
  },
  {
   "cell_type": "code",
   "execution_count": 46,
   "metadata": {},
   "outputs": [],
   "source": [
    "data['weekday'] = data.index.weekday\n",
    "data['week'] = data.index.week\n",
    "data['month'] = data.index.month"
   ]
  },
  {
   "cell_type": "code",
   "execution_count": 47,
   "metadata": {},
   "outputs": [],
   "source": [
    "sales_monthly_avg = data.loc[:TRAINING_END_DATE].reset_index().groupby(['store', 'item','month'])['sales'].mean().reset_index().rename(columns={'sales':'avg_monthly_sales'})\n",
    "sales_weekly_avg = data.loc[:TRAINING_END_DATE].reset_index().groupby(['store', 'item','week'])['sales'].mean().reset_index().rename(columns={'sales':'avg_weekly_sales'})\n",
    "sales_weekday_avg = data.loc[:TRAINING_END_DATE].reset_index().groupby(['store', 'item','weekday'])['sales'].mean().reset_index().rename(columns={'sales':'avg_weekday_sales'})"
   ]
  },
  {
   "cell_type": "code",
   "execution_count": 49,
   "metadata": {},
   "outputs": [],
   "source": [
    "# join to the data\n",
    "data = pd.merge(data.reset_index(), sales_monthly_avg, how='left', \n",
    "                                    left_on=['store', 'item','month'], right_on=['store', 'item','month'])\n",
    "data = pd.merge(data.reset_index(), sales_weekly_avg, how='left', \n",
    "                                    left_on=['store', 'item','week'], right_on=['store', 'item','week'])\n",
    "data = pd.merge(data.reset_index(), sales_weekday_avg, how='left', \n",
    "                                    left_on=['store', 'item','weekday'], right_on=['store', 'item','weekday'])"
   ]
  },
  {
   "cell_type": "code",
   "execution_count": 51,
   "metadata": {},
   "outputs": [],
   "source": [
    "data.drop(['level_0', 'index'], axis=1, inplace=True)"
   ]
  },
  {
   "cell_type": "markdown",
   "metadata": {
    "_uuid": "2d835b173562a5bef8510cb55f96ccfb9df752a7",
    "collapsed": true
   },
   "source": [
    "#### Add lag features\n",
    "Store-item lag sales\n",
    "\n",
    "store lag sales\n",
    "\n",
    "item lag sales\n",
    "\n",
    "lag periods (days): 1, 2, 3, 4, 7, 14, 21, 28,  84, 168, 336"
   ]
  },
  {
   "cell_type": "markdown",
   "metadata": {
    "_uuid": "5837183b6b5ded61904711f333c448b6238011cd",
    "collapsed": true
   },
   "source": [
    "#### Add lag features"
   ]
  },
  {
   "cell_type": "code",
   "execution_count": 56,
   "metadata": {},
   "outputs": [],
   "source": [
    "data.set_index('date', inplace=True)"
   ]
  },
  {
   "cell_type": "code",
   "execution_count": 57,
   "metadata": {
    "_uuid": "4e2faa663393437cf13a0daab21c98fd2a410e2b"
   },
   "outputs": [],
   "source": [
    "# 2018-01 ~ 2018-03, a total of 92 days\n",
    "lag_feature_pipeline = Pipeline(\n",
    "[\n",
    "    # lag store, item sales\n",
    "    \n",
    "    ('store_item_lag_3m',   Lag_Featurizer(index_col=['store', 'item'],time_col='date',value_col='sales',output_col='sales_3m',   output_time_index=True, shift=98)),\n",
    "    ('store_item_lag_3m_1', Lag_Featurizer(index_col=['store', 'item'],time_col='date',value_col='sales',output_col='sales_3m_1', output_time_index=True, shift=99)),\n",
    "    ('store_item_lag_3m_2', Lag_Featurizer(index_col=['store', 'item'],time_col='date',value_col='sales',output_col='sales_3m_2', output_time_index=True, shift=100)),\n",
    "    ('store_item_lag_3m_3', Lag_Featurizer(index_col=['store', 'item'],time_col='date',value_col='sales',output_col='sales_3m_3', output_time_index=True, shift=101)),\n",
    "    ('store_item_lag_3m_4', Lag_Featurizer(index_col=['store', 'item'],time_col='date',value_col='sales',output_col='sales_3m_4', output_time_index=True, shift=102)),\n",
    "    ('store_item_lag_3m_5', Lag_Featurizer(index_col=['store', 'item'],time_col='date',value_col='sales',output_col='sales_3m_5', output_time_index=True, shift=103)),\n",
    "    ('store_item_lag_3m_6', Lag_Featurizer(index_col=['store', 'item'],time_col='date',value_col='sales',output_col='sales_3m_6', output_time_index=True, shift=104)),   \n",
    "    ('store_item_lag_4m', Lag_Featurizer(index_col=['store', 'item'],time_col='date',value_col='sales',  output_col='sales_4m',     output_time_index=True, shift=112)),\n",
    "    ('store_item_lag_5m', Lag_Featurizer(index_col=['store', 'item'],time_col='date',value_col='sales',  output_col='sales_5m',     output_time_index=True, shift=140)),\n",
    "    ('store_item_lag_6m', Lag_Featurizer(index_col=['store', 'item'],time_col='date',value_col='sales',  output_col='sales_6m',     output_time_index=True, shift=168)),\n",
    "    ('store_item_lag_9m', Lag_Featurizer(index_col=['store', 'item'],time_col='date',value_col='sales',  output_col='sales_9m',     output_time_index=True, shift=252)),\n",
    "    ('store_item_lag_1y', Lag_Featurizer(index_col=['store', 'item'],time_col='date',value_col='sales',  output_col='sales_1y',     output_time_index=True, shift=336)),\n",
    "    \n",
    "    #lag store sales\n",
    "    ('store_lag_3m',   Lag_Featurizer(index_col=['store'],time_col='date',value_col='sales',output_col='store_sales_3m',   output_time_index=True, shift=98)),\n",
    "    ('store_lag_3m_1', Lag_Featurizer(index_col=['store'],time_col='date',value_col='sales',output_col='store_sales_3m_1', output_time_index=True, shift=99)),\n",
    "    ('store_lag_3m_2', Lag_Featurizer(index_col=['store'],time_col='date',value_col='sales',output_col='store_sales_3m_2', output_time_index=True, shift=100)),\n",
    "    ('store_lag_3m_3', Lag_Featurizer(index_col=['store'],time_col='date',value_col='sales',output_col='store_sales_3m_3', output_time_index=True, shift=101)),\n",
    "    ('store_lag_3m_4', Lag_Featurizer(index_col=['store'],time_col='date',value_col='sales',output_col='store_sales_3m_4', output_time_index=True, shift=102)),\n",
    "    ('store_lag_3m_5', Lag_Featurizer(index_col=['store'],time_col='date',value_col='sales',output_col='store_sales_3m_5', output_time_index=True, shift=103)),\n",
    "    ('store_lag_3m_6', Lag_Featurizer(index_col=['store'],time_col='date',value_col='sales',output_col='store_sales_3m_6', output_time_index=True, shift=104)),   \n",
    "    ('store_lag_4m', Lag_Featurizer(index_col=['store'],time_col='date',value_col='sales', output_col='store_sales_4m',    output_time_index=True, shift=112)),\n",
    "    ('store_lag_5m', Lag_Featurizer(index_col=['store'],time_col='date',value_col='sales', output_col='store_sales_5m',    output_time_index=True, shift=140)),\n",
    "    ('store_lag_6m', Lag_Featurizer(index_col=['store'],time_col='date',value_col='sales', output_col='store_sales_6m',    output_time_index=True, shift=168)),\n",
    "    ('store_lag_9m', Lag_Featurizer(index_col=['store'],time_col='date',value_col='sales', output_col='store_sales_9m',    output_time_index=True, shift=252)),\n",
    "    ('store_lag_1y', Lag_Featurizer(index_col=['store'],time_col='date',value_col='sales', output_col='store_sales_1y',    output_time_index=True, shift=336)),\n",
    "    \n",
    "    # lag item sales\n",
    "    ('item_lag_3m',   Lag_Featurizer(index_col=['item'],time_col='date',value_col='sales',output_col='item_sales_3m',   output_time_index=True, shift=98)),\n",
    "    ('item_lag_3m_1', Lag_Featurizer(index_col=['item'],time_col='date',value_col='sales',output_col='item_sales_3m_1', output_time_index=True, shift=99)),\n",
    "    ('item_lag_3m_2', Lag_Featurizer(index_col=['item'],time_col='date',value_col='sales',output_col='item_sales_3m_2', output_time_index=True, shift=100)),\n",
    "    ('item_lag_3m_3', Lag_Featurizer(index_col=['item'],time_col='date',value_col='sales',output_col='item_sales_3m_3', output_time_index=True, shift=101)),\n",
    "    ('item_lag_3m_4', Lag_Featurizer(index_col=['item'],time_col='date',value_col='sales',output_col='item_sales_3m_4', output_time_index=True, shift=102)),\n",
    "    ('item_lag_3m_5', Lag_Featurizer(index_col=['item'],time_col='date',value_col='sales',output_col='item_sales_3m_5', output_time_index=True, shift=103)),\n",
    "    ('item_lag_3m_6', Lag_Featurizer(index_col=['item'],time_col='date',value_col='sales',output_col='item_sales_3m_6', output_time_index=True, shift=104)),   \n",
    "    ('item_lag_4m', Lag_Featurizer(index_col=['item'],time_col='date',value_col='sales',  output_col='item_sales_4m',   output_time_index=True, shift=112)),\n",
    "    ('item_lag_5m', Lag_Featurizer(index_col=['item'],time_col='date',value_col='sales',  output_col='item_sales_5m',   output_time_index=True, shift=140)),\n",
    "    ('item_lag_6m', Lag_Featurizer(index_col=['item'],time_col='date',value_col='sales',  output_col='item_sales_6m',   output_time_index=True, shift=168)),\n",
    "    ('item_lag_9m', Lag_Featurizer(index_col=['item'],time_col='date',value_col='sales',  output_col='item_sales_9m',   output_time_index=True, shift=252)),\n",
    "    ('item_lag_1y', Lag_Featurizer(index_col=['item'],time_col='date',value_col='sales',  output_col='item_sales_1y',   output_time_index=True, shift=336)),\n",
    "\n",
    "]\n",
    ")"
   ]
  },
  {
   "cell_type": "code",
   "execution_count": 58,
   "metadata": {
    "_uuid": "a3639a5c941fcf30092b88e36fc5753c70c276fd"
   },
   "outputs": [
    {
     "name": "stdout",
     "output_type": "stream",
     "text": [
      "Wall time: 54.3 s\n"
     ]
    }
   ],
   "source": [
    "%time data = lag_feature_pipeline.transform(data)"
   ]
  },
  {
   "cell_type": "code",
   "execution_count": 59,
   "metadata": {
    "_uuid": "54898dc541df267606d7b51b2fac1d67cd3692e8"
   },
   "outputs": [],
   "source": [
    "cols = [\n",
    "    \n",
    "    'sales',\n",
    "\n",
    "    'sales_3m',  \n",
    "    'sales_3m_1',\n",
    "    'sales_3m_2',\n",
    "    'sales_3m_3',\n",
    "    'sales_3m_4',\n",
    "    'sales_3m_5',\n",
    "    'sales_3m_6',\n",
    "    'sales_4m',  \n",
    "    'sales_5m',  \n",
    "    'sales_6m',  \n",
    "    'sales_9m',  \n",
    "    'sales_1y',  \n",
    "\n",
    "    'store_sales_3m',  \n",
    "    'store_sales_3m_1',\n",
    "    'store_sales_3m_2',\n",
    "    'store_sales_3m_3',\n",
    "    'store_sales_3m_4',\n",
    "    'store_sales_3m_5',\n",
    "    'store_sales_3m_6',\n",
    "    'store_sales_4m',\n",
    "    'store_sales_5m',\n",
    "    'store_sales_6m',\n",
    "    'store_sales_9m',\n",
    "    'store_sales_1y',\n",
    "\n",
    "    'item_sales_3m',  \n",
    "    'item_sales_3m_1',\n",
    "    'item_sales_3m_2',\n",
    "    'item_sales_3m_3',\n",
    "    'item_sales_3m_4',\n",
    "    'item_sales_3m_5',\n",
    "    'item_sales_3m_6',\n",
    "    'item_sales_4m',  \n",
    "    'item_sales_5m',  \n",
    "    'item_sales_6m',  \n",
    "    'item_sales_9m',  \n",
    "    'item_sales_1y',  \n",
    "\n",
    "    'avg_monthly_sales',\n",
    "    'avg_weekly_sales',\n",
    "    'avg_weekday_sales'\n",
    "]"
   ]
  },
  {
   "cell_type": "code",
   "execution_count": 70,
   "metadata": {
    "_uuid": "377610ab8c61f6ffde84ae89a6c842ca3172a64e"
   },
   "outputs": [],
   "source": [
    "training = data.loc['2015-01':'2017-12',cols] # 2017-10 to 2017-12 as validation set\n",
    "validation_split = np.where((training.index >= pd.Timestamp(2017,9,1)) & (training.index <= pd.Timestamp(2017,12,31)), 0, -1)"
   ]
  },
  {
   "cell_type": "code",
   "execution_count": 71,
   "metadata": {
    "_uuid": "4b18946c6a48b81cce5d16ba02441859919adbc3"
   },
   "outputs": [
    {
     "name": "stdout",
     "output_type": "stream",
     "text": [
      "Number of training instances = 61000\n",
      "Number of features           = 39\n",
      "Date range = 2017-09-01 to 2017-12-31\n"
     ]
    }
   ],
   "source": [
    "# Validation data\n",
    "X_validation = training.loc[validation_split == 0, cols[1:]]\n",
    "y_validation = training.loc[validation_split == 0, 'sales']\n",
    "print('Number of training instances = {0:d}'.format(X_validation.shape[0]))\n",
    "print('Number of features           = {0:d}'.format(X_validation.shape[1]))\n",
    "print('Date range = {0} to {1}'.format(X_validation.index[0].strftime('%Y-%m-%d'), X_validation.index[-1].strftime('%Y-%m-%d')))"
   ]
  },
  {
   "cell_type": "code",
   "execution_count": 72,
   "metadata": {
    "_uuid": "22bbb7470d0f6240e469f2e96482aa9eff35d9f3"
   },
   "outputs": [
    {
     "name": "stdout",
     "output_type": "stream",
     "text": [
      "Number of training instances = 548000\n",
      "Number of features           = 39\n",
      "Date range = 2015-01-01 to 2017-12-31\n"
     ]
    }
   ],
   "source": [
    "# training matrices\n",
    "X_training = training.loc[:,cols[1:]]\n",
    "y_training = training.loc[:,'sales']\n",
    "print('Number of training instances = {0:d}'.format(X_training.shape[0]))\n",
    "print('Number of features           = {0:d}'.format(X_training.shape[1]))\n",
    "print('Date range = {0} to {1}'.format(training.index[0].strftime('%Y-%m-%d'), training.index[-1].strftime('%Y-%m-%d')))"
   ]
  },
  {
   "cell_type": "code",
   "execution_count": 73,
   "metadata": {
    "_uuid": "0d82bc77f7b6c34e08a6d46735297b7d72e34e38"
   },
   "outputs": [
    {
     "name": "stdout",
     "output_type": "stream",
     "text": [
      "Number of test instances = 45000\n",
      "Number of features       = 39\n",
      "Date range = 2018-01-01 to 2018-03-31\n"
     ]
    }
   ],
   "source": [
    "testing = data.loc['2018-01':,cols]\n",
    "X_testing = testing.loc[:,cols[1:]]\n",
    "y_testing = testing.loc[:,'sales']\n",
    "print('Number of test instances = {0:d}'.format(X_testing.shape[0]))\n",
    "print('Number of features       = {0:d}'.format(X_testing.shape[1]))\n",
    "print('Date range = {0} to {1}'.format(testing.index[0].strftime('%Y-%m-%d'), testing.index[-1].strftime('%Y-%m-%d')))"
   ]
  },
  {
   "cell_type": "code",
   "execution_count": 74,
   "metadata": {
    "_uuid": "9e17ed0f3480b7a84e2363285ea08bfc9f971694"
   },
   "outputs": [
    {
     "name": "stdout",
     "output_type": "stream",
     "text": [
      "Number of training instances = 913000\n",
      "Number of features           = 39\n",
      "Date range = 2013-01-01 to 2017-12-31\n"
     ]
    }
   ],
   "source": [
    "training_full = data.loc[:'2017-12',cols]\n",
    "X_training_full = training_full.loc[:,cols[1:]]\n",
    "y_training_full = training_full.loc[:,'sales']\n",
    "print('Number of training instances = {0:d}'.format(X_training_full.shape[0]))\n",
    "print('Number of features           = {0:d}'.format(X_training_full.shape[1]))\n",
    "print('Date range = {0} to {1}'.format(training_full.index[0].strftime('%Y-%m-%d'), training_full.index[-1].strftime('%Y-%m-%d')))"
   ]
  },
  {
   "cell_type": "code",
   "execution_count": 75,
   "metadata": {
    "_uuid": "52ec46c84777b28a8fc38416049aeed376cb8c58"
   },
   "outputs": [],
   "source": [
    "# Lasso\n",
    "lasso = Lasso(random_state=RANDOM_STATE, max_iter=2000)\n",
    "lasso_params = {'alpha': np.logspace(-3,3,7)}"
   ]
  },
  {
   "cell_type": "code",
   "execution_count": 76,
   "metadata": {
    "_uuid": "eb31ba69aaf25fb758faf8f8c0f3f30dfd1b56db"
   },
   "outputs": [],
   "source": [
    "reg = GridSearchCV(lasso, lasso_params, scoring='neg_mean_absolute_error', n_jobs=8, cv=PredefinedSplit(validation_split), verbose=20)"
   ]
  },
  {
   "cell_type": "code",
   "execution_count": 77,
   "metadata": {
    "_uuid": "81a70ee23ebca2caaee0574b003d5379fdbfa4f9"
   },
   "outputs": [
    {
     "name": "stdout",
     "output_type": "stream",
     "text": [
      "Fitting 1 folds for each of 7 candidates, totalling 7 fits\n"
     ]
    },
    {
     "name": "stderr",
     "output_type": "stream",
     "text": [
      "[Parallel(n_jobs=8)]: Done   1 tasks      | elapsed:   28.2s\n",
      "[Parallel(n_jobs=8)]: Done   2 out of   7 | elapsed:   54.6s remaining:  2.3min\n",
      "[Parallel(n_jobs=8)]: Done   3 out of   7 | elapsed:  1.3min remaining:  1.7min\n",
      "[Parallel(n_jobs=8)]: Done   4 out of   7 | elapsed:  2.5min remaining:  1.8min\n",
      "[Parallel(n_jobs=8)]: Done   5 out of   7 | elapsed:  3.2min remaining:  1.3min\n",
      "[Parallel(n_jobs=8)]: Done   7 out of   7 | elapsed:  3.6min remaining:    0.0s\n",
      "[Parallel(n_jobs=8)]: Done   7 out of   7 | elapsed:  3.6min finished\n",
      "C:\\Anaconda3\\lib\\site-packages\\sklearn\\linear_model\\coordinate_descent.py:491: ConvergenceWarning: Objective did not converge. You might want to increase the number of iterations. Fitting data with very small alpha may cause precision problems.\n",
      "  ConvergenceWarning)\n"
     ]
    },
    {
     "data": {
      "text/plain": [
       "GridSearchCV(cv=PredefinedSplit(test_fold=array([-1, -1, ...,  0,  0])),\n",
       "       error_score='raise',\n",
       "       estimator=Lasso(alpha=1.0, copy_X=True, fit_intercept=True, max_iter=2000,\n",
       "   normalize=False, positive=False, precompute=False, random_state=71,\n",
       "   selection='cyclic', tol=0.0001, warm_start=False),\n",
       "       fit_params=None, iid=True, n_jobs=8,\n",
       "       param_grid={'alpha': array([1.e-03, 1.e-02, 1.e-01, 1.e+00, 1.e+01, 1.e+02, 1.e+03])},\n",
       "       pre_dispatch='2*n_jobs', refit=True, return_train_score='warn',\n",
       "       scoring='neg_mean_absolute_error', verbose=20)"
      ]
     },
     "execution_count": 77,
     "metadata": {},
     "output_type": "execute_result"
    }
   ],
   "source": [
    "reg.fit(X_training,y_training)"
   ]
  },
  {
   "cell_type": "code",
   "execution_count": 78,
   "metadata": {
    "_uuid": "30f6af1f528fabba450473c2c8296f0f0adfd952"
   },
   "outputs": [
    {
     "name": "stdout",
     "output_type": "stream",
     "text": [
      "Best score = 6.5443; Best Parameter = {'alpha': 0.001}\n"
     ]
    }
   ],
   "source": [
    "print('Best score = {0:.4f}; Best Parameter = {1}'.format(-reg.best_score_, reg.best_params_)) # Score is the negative because large score indicates better fit"
   ]
  },
  {
   "cell_type": "code",
   "execution_count": 79,
   "metadata": {
    "_uuid": "7b82b2df06269bd41b6dd95b6fba95d970e9fec8"
   },
   "outputs": [
    {
     "name": "stdout",
     "output_type": "stream",
     "text": [
      "13.516891494863843\n"
     ]
    }
   ],
   "source": [
    "pred_validation_lasso = reg.predict(X_validation)\n",
    "print(smape(pred_validation_lasso, y_validation.values))"
   ]
  },
  {
   "cell_type": "code",
   "execution_count": 80,
   "metadata": {},
   "outputs": [],
   "source": [
    "reg_best = reg.best_estimator_"
   ]
  },
  {
   "cell_type": "code",
   "execution_count": 81,
   "metadata": {
    "_uuid": "05603c273dd138b66acd72131012271d5eddc369"
   },
   "outputs": [],
   "source": [
    "pred_reg_best = reg_best.predict(X_testing)"
   ]
  },
  {
   "cell_type": "code",
   "execution_count": 82,
   "metadata": {
    "_uuid": "4b6ca3a13f58c44aa11abb457fff0cba5b1be462"
   },
   "outputs": [],
   "source": [
    "# Make predictions and a submission: 18.15; Use smape_scorer = 18.65; somehow best score = 19.39\n",
    "submission_lasso = pd.DataFrame({'Id': sample_submission.id, 'sales': pred_reg_best})\n",
    "submission_lasso.to_csv('../output/submission_lasso.csv', index=False)"
   ]
  },
  {
   "cell_type": "markdown",
   "metadata": {
    "_uuid": "58ce745cf8aaaf3f56e7acbbd2622a9fb7f3c1fb"
   },
   "source": [
    "#### xgboost Model"
   ]
  },
  {
   "cell_type": "code",
   "execution_count": 83,
   "metadata": {},
   "outputs": [],
   "source": [
    "reg_xgb = xgb.XGBRegressor(objective='reg:linear', booster='gbtree', n_jobs=8)"
   ]
  },
  {
   "cell_type": "code",
   "execution_count": 84,
   "metadata": {},
   "outputs": [],
   "source": [
    "xgb_params = {\n",
    "                'n_estimators': np.arange(50,200,50),\n",
    "                'min_child_weight': np.arange(10,100,10), \n",
    "                'learning_rate': [0.1], \n",
    "                'colsample_bytree': np.arange(0.8,1.0,0.1), \n",
    "                'max_depth': np.arange(1,10,2),\n",
    "                'subsample': [0.9], \n",
    "                'reg_lambda': [1.]\n",
    "}\n",
    "\n",
    "fit_params={\"early_stopping_rounds\":50, \n",
    "            \"eval_metric\" : \"mae\", \n",
    "            \"eval_set\" : [[X_validation.values, y_validation.values]]}\n"
   ]
  },
  {
   "cell_type": "code",
   "execution_count": 88,
   "metadata": {},
   "outputs": [],
   "source": [
    "grid_xgb = GridSearchCV(reg_xgb, xgb_params, scoring=None, n_jobs=8, cv=PredefinedSplit(validation_split), verbose=50, fit_params=fit_params)"
   ]
  },
  {
   "cell_type": "code",
   "execution_count": 89,
   "metadata": {},
   "outputs": [
    {
     "name": "stderr",
     "output_type": "stream",
     "text": [
      "C:\\Anaconda3\\lib\\site-packages\\sklearn\\model_selection\\_search.py:584: DeprecationWarning: \"fit_params\" as a constructor argument was deprecated in version 0.19 and will be removed in version 0.21. Pass fit parameters to the \"fit\" method instead.\n",
      "  '\"fit\" method instead.', DeprecationWarning)\n"
     ]
    },
    {
     "name": "stdout",
     "output_type": "stream",
     "text": [
      "Fitting 1 folds for each of 270 candidates, totalling 270 fits\n",
      "[Parallel(n_jobs=8)]: Done   1 tasks      | elapsed:   37.1s\n",
      "[Parallel(n_jobs=8)]: Done   2 tasks      | elapsed:   43.1s\n",
      "[Parallel(n_jobs=8)]: Done   3 tasks      | elapsed:   50.0s\n",
      "[Parallel(n_jobs=8)]: Done   4 tasks      | elapsed:  1.3min\n",
      "[Parallel(n_jobs=8)]: Done   5 tasks      | elapsed:  1.5min\n",
      "[Parallel(n_jobs=8)]: Done   6 tasks      | elapsed:  1.5min\n",
      "[Parallel(n_jobs=8)]: Done   7 tasks      | elapsed:  1.5min\n",
      "[Parallel(n_jobs=8)]: Done   8 tasks      | elapsed:  1.6min\n",
      "[Parallel(n_jobs=8)]: Done   9 tasks      | elapsed:  2.1min\n",
      "[Parallel(n_jobs=8)]: Done  10 tasks      | elapsed:  2.7min\n",
      "[Parallel(n_jobs=8)]: Done  11 tasks      | elapsed:  2.9min\n",
      "[Parallel(n_jobs=8)]: Done  12 tasks      | elapsed:  2.9min\n",
      "[Parallel(n_jobs=8)]: Done  13 tasks      | elapsed:  3.7min\n",
      "[Parallel(n_jobs=8)]: Done  14 tasks      | elapsed:  4.0min\n",
      "[Parallel(n_jobs=8)]: Done  15 tasks      | elapsed:  4.2min\n",
      "[Parallel(n_jobs=8)]: Done  16 tasks      | elapsed:  4.6min\n",
      "[Parallel(n_jobs=8)]: Done  17 tasks      | elapsed:  4.9min\n",
      "[Parallel(n_jobs=8)]: Done  18 tasks      | elapsed:  5.1min\n",
      "[Parallel(n_jobs=8)]: Done  19 tasks      | elapsed:  5.3min\n",
      "[Parallel(n_jobs=8)]: Done  20 tasks      | elapsed:  5.4min\n",
      "[Parallel(n_jobs=8)]: Done  21 tasks      | elapsed:  6.2min\n",
      "[Parallel(n_jobs=8)]: Done  22 tasks      | elapsed:  6.4min\n",
      "[Parallel(n_jobs=8)]: Done  23 tasks      | elapsed:  6.7min\n",
      "[Parallel(n_jobs=8)]: Done  24 tasks      | elapsed:  7.3min\n",
      "[Parallel(n_jobs=8)]: Done  25 tasks      | elapsed:  7.4min\n",
      "[Parallel(n_jobs=8)]: Done  26 tasks      | elapsed:  8.1min\n",
      "[Parallel(n_jobs=8)]: Done  27 tasks      | elapsed:  8.4min\n",
      "[Parallel(n_jobs=8)]: Done  28 tasks      | elapsed:  9.2min\n",
      "[Parallel(n_jobs=8)]: Done  29 tasks      | elapsed:  9.6min\n",
      "[Parallel(n_jobs=8)]: Done  30 tasks      | elapsed: 11.0min\n",
      "[Parallel(n_jobs=8)]: Done  31 tasks      | elapsed: 11.2min\n",
      "[Parallel(n_jobs=8)]: Done  32 tasks      | elapsed: 11.7min\n",
      "[Parallel(n_jobs=8)]: Done  33 tasks      | elapsed: 12.4min\n",
      "[Parallel(n_jobs=8)]: Done  34 tasks      | elapsed: 14.0min\n",
      "[Parallel(n_jobs=8)]: Done  35 tasks      | elapsed: 14.6min\n",
      "[Parallel(n_jobs=8)]: Done  36 tasks      | elapsed: 14.7min\n",
      "[Parallel(n_jobs=8)]: Done  37 tasks      | elapsed: 15.9min\n",
      "[Parallel(n_jobs=8)]: Done  38 tasks      | elapsed: 16.6min\n",
      "[Parallel(n_jobs=8)]: Done  39 tasks      | elapsed: 17.1min\n",
      "[Parallel(n_jobs=8)]: Done  40 tasks      | elapsed: 17.4min\n",
      "[Parallel(n_jobs=8)]: Done  41 tasks      | elapsed: 17.4min\n",
      "[Parallel(n_jobs=8)]: Done  42 tasks      | elapsed: 18.1min\n",
      "[Parallel(n_jobs=8)]: Done  43 tasks      | elapsed: 19.4min\n",
      "[Parallel(n_jobs=8)]: Done  44 tasks      | elapsed: 20.2min\n",
      "[Parallel(n_jobs=8)]: Done  45 tasks      | elapsed: 20.3min\n",
      "[Parallel(n_jobs=8)]: Done  46 tasks      | elapsed: 21.1min\n",
      "[Parallel(n_jobs=8)]: Done  47 tasks      | elapsed: 22.4min\n",
      "[Parallel(n_jobs=8)]: Done  48 tasks      | elapsed: 23.1min\n",
      "[Parallel(n_jobs=8)]: Done  49 tasks      | elapsed: 23.7min\n",
      "[Parallel(n_jobs=8)]: Done  50 tasks      | elapsed: 24.3min\n",
      "[Parallel(n_jobs=8)]: Done  51 tasks      | elapsed: 25.7min\n",
      "[Parallel(n_jobs=8)]: Done  52 tasks      | elapsed: 25.8min\n",
      "[Parallel(n_jobs=8)]: Done  53 tasks      | elapsed: 26.8min\n",
      "[Parallel(n_jobs=8)]: Done  54 tasks      | elapsed: 27.5min\n",
      "[Parallel(n_jobs=8)]: Done  55 tasks      | elapsed: 27.5min\n",
      "[Parallel(n_jobs=8)]: Done  56 tasks      | elapsed: 29.1min\n",
      "[Parallel(n_jobs=8)]: Done  57 tasks      | elapsed: 29.7min\n",
      "[Parallel(n_jobs=8)]: Done  58 tasks      | elapsed: 33.0min\n",
      "[Parallel(n_jobs=8)]: Done  59 tasks      | elapsed: 33.8min\n",
      "[Parallel(n_jobs=8)]: Done  60 tasks      | elapsed: 35.3min\n",
      "[Parallel(n_jobs=8)]: Done  61 tasks      | elapsed: 35.7min\n",
      "[Parallel(n_jobs=8)]: Done  62 tasks      | elapsed: 37.0min\n",
      "[Parallel(n_jobs=8)]: Done  63 tasks      | elapsed: 38.3min\n",
      "[Parallel(n_jobs=8)]: Done  64 tasks      | elapsed: 38.5min\n",
      "[Parallel(n_jobs=8)]: Done  65 tasks      | elapsed: 40.1min\n",
      "[Parallel(n_jobs=8)]: Done  66 tasks      | elapsed: 41.6min\n",
      "[Parallel(n_jobs=8)]: Done  67 tasks      | elapsed: 41.9min\n",
      "[Parallel(n_jobs=8)]: Done  68 tasks      | elapsed: 43.9min\n",
      "[Parallel(n_jobs=8)]: Done  69 tasks      | elapsed: 44.6min\n",
      "[Parallel(n_jobs=8)]: Done  70 tasks      | elapsed: 44.8min\n",
      "[Parallel(n_jobs=8)]: Done  71 tasks      | elapsed: 47.0min\n",
      "[Parallel(n_jobs=8)]: Done  72 tasks      | elapsed: 47.1min\n",
      "[Parallel(n_jobs=8)]: Done  73 tasks      | elapsed: 47.8min\n",
      "[Parallel(n_jobs=8)]: Done  74 tasks      | elapsed: 51.0min\n",
      "[Parallel(n_jobs=8)]: Done  75 tasks      | elapsed: 51.7min\n",
      "[Parallel(n_jobs=8)]: Done  76 tasks      | elapsed: 52.6min\n",
      "[Parallel(n_jobs=8)]: Done  77 tasks      | elapsed: 53.1min\n",
      "[Parallel(n_jobs=8)]: Done  78 tasks      | elapsed: 53.9min\n",
      "[Parallel(n_jobs=8)]: Done  79 tasks      | elapsed: 55.7min\n",
      "[Parallel(n_jobs=8)]: Done  80 tasks      | elapsed: 57.8min\n",
      "[Parallel(n_jobs=8)]: Done  81 tasks      | elapsed: 58.1min\n",
      "[Parallel(n_jobs=8)]: Done  82 tasks      | elapsed: 58.8min\n",
      "[Parallel(n_jobs=8)]: Done  83 tasks      | elapsed: 60.6min\n",
      "[Parallel(n_jobs=8)]: Done  84 tasks      | elapsed: 62.2min\n",
      "[Parallel(n_jobs=8)]: Done  85 tasks      | elapsed: 66.6min\n",
      "[Parallel(n_jobs=8)]: Done  86 tasks      | elapsed: 67.4min\n",
      "[Parallel(n_jobs=8)]: Done  87 tasks      | elapsed: 67.6min\n",
      "[Parallel(n_jobs=8)]: Done  88 tasks      | elapsed: 72.0min\n",
      "[Parallel(n_jobs=8)]: Done  89 tasks      | elapsed: 72.5min\n",
      "[Parallel(n_jobs=8)]: Done  90 tasks      | elapsed: 74.2min\n",
      "[Parallel(n_jobs=8)]: Done  91 tasks      | elapsed: 74.9min\n",
      "[Parallel(n_jobs=8)]: Done  92 tasks      | elapsed: 76.5min\n",
      "[Parallel(n_jobs=8)]: Done  93 tasks      | elapsed: 77.5min\n",
      "[Parallel(n_jobs=8)]: Done  94 tasks      | elapsed: 79.4min\n",
      "[Parallel(n_jobs=8)]: Done  95 tasks      | elapsed: 81.6min\n",
      "[Parallel(n_jobs=8)]: Done  96 tasks      | elapsed: 83.2min\n",
      "[Parallel(n_jobs=8)]: Done  97 tasks      | elapsed: 86.9min\n",
      "[Parallel(n_jobs=8)]: Done  98 tasks      | elapsed: 87.0min\n",
      "[Parallel(n_jobs=8)]: Done  99 tasks      | elapsed: 88.0min\n",
      "[Parallel(n_jobs=8)]: Done 100 tasks      | elapsed: 88.7min\n",
      "[Parallel(n_jobs=8)]: Done 101 tasks      | elapsed: 92.7min\n",
      "[Parallel(n_jobs=8)]: Done 102 tasks      | elapsed: 93.7min\n",
      "[Parallel(n_jobs=8)]: Done 103 tasks      | elapsed: 95.0min\n",
      "[Parallel(n_jobs=8)]: Done 104 tasks      | elapsed: 97.0min\n",
      "[Parallel(n_jobs=8)]: Done 105 tasks      | elapsed: 99.2min\n",
      "[Parallel(n_jobs=8)]: Done 106 tasks      | elapsed: 101.2min\n",
      "[Parallel(n_jobs=8)]: Done 107 tasks      | elapsed: 101.4min\n",
      "[Parallel(n_jobs=8)]: Done 108 tasks      | elapsed: 103.7min\n",
      "[Parallel(n_jobs=8)]: Done 109 tasks      | elapsed: 106.7min\n",
      "[Parallel(n_jobs=8)]: Done 110 tasks      | elapsed: 107.1min\n",
      "[Parallel(n_jobs=8)]: Done 111 tasks      | elapsed: 110.8min\n",
      "[Parallel(n_jobs=8)]: Done 112 tasks      | elapsed: 113.3min\n",
      "[Parallel(n_jobs=8)]: Done 113 tasks      | elapsed: 116.4min\n",
      "[Parallel(n_jobs=8)]: Done 114 tasks      | elapsed: 117.9min\n",
      "[Parallel(n_jobs=8)]: Done 115 tasks      | elapsed: 121.3min\n",
      "[Parallel(n_jobs=8)]: Done 116 tasks      | elapsed: 122.3min\n",
      "[Parallel(n_jobs=8)]: Done 117 tasks      | elapsed: 124.1min\n",
      "[Parallel(n_jobs=8)]: Done 118 tasks      | elapsed: 126.0min\n",
      "[Parallel(n_jobs=8)]: Done 119 tasks      | elapsed: 129.2min\n",
      "[Parallel(n_jobs=8)]: Done 120 tasks      | elapsed: 132.1min\n",
      "[Parallel(n_jobs=8)]: Done 121 tasks      | elapsed: 133.5min\n",
      "[Parallel(n_jobs=8)]: Done 122 tasks      | elapsed: 136.3min\n",
      "[Parallel(n_jobs=8)]: Done 123 tasks      | elapsed: 139.2min\n",
      "[Parallel(n_jobs=8)]: Done 124 tasks      | elapsed: 139.2min\n",
      "[Parallel(n_jobs=8)]: Done 125 tasks      | elapsed: 140.5min\n",
      "[Parallel(n_jobs=8)]: Done 126 tasks      | elapsed: 142.6min\n",
      "[Parallel(n_jobs=8)]: Done 127 tasks      | elapsed: 146.2min\n",
      "[Parallel(n_jobs=8)]: Done 128 tasks      | elapsed: 147.6min\n",
      "[Parallel(n_jobs=8)]: Done 129 tasks      | elapsed: 148.5min\n",
      "[Parallel(n_jobs=8)]: Done 130 tasks      | elapsed: 150.2min\n",
      "[Parallel(n_jobs=8)]: Done 131 tasks      | elapsed: 150.9min\n",
      "[Parallel(n_jobs=8)]: Done 132 tasks      | elapsed: 151.9min\n",
      "[Parallel(n_jobs=8)]: Done 133 tasks      | elapsed: 152.2min\n"
     ]
    },
    {
     "name": "stdout",
     "output_type": "stream",
     "text": [
      "[Parallel(n_jobs=8)]: Done 134 tasks      | elapsed: 153.0min\n",
      "[Parallel(n_jobs=8)]: Done 135 tasks      | elapsed: 153.8min\n",
      "[Parallel(n_jobs=8)]: Done 136 tasks      | elapsed: 154.1min\n",
      "[Parallel(n_jobs=8)]: Done 137 tasks      | elapsed: 155.2min\n",
      "[Parallel(n_jobs=8)]: Done 138 tasks      | elapsed: 155.9min\n",
      "[Parallel(n_jobs=8)]: Done 139 tasks      | elapsed: 156.3min\n",
      "[Parallel(n_jobs=8)]: Done 140 tasks      | elapsed: 157.1min\n",
      "[Parallel(n_jobs=8)]: Done 141 tasks      | elapsed: 157.9min\n",
      "[Parallel(n_jobs=8)]: Done 142 tasks      | elapsed: 158.1min\n",
      "[Parallel(n_jobs=8)]: Done 143 tasks      | elapsed: 159.1min\n",
      "[Parallel(n_jobs=8)]: Done 144 tasks      | elapsed: 159.3min\n",
      "[Parallel(n_jobs=8)]: Done 145 tasks      | elapsed: 160.1min\n",
      "[Parallel(n_jobs=8)]: Done 146 tasks      | elapsed: 160.2min\n",
      "[Parallel(n_jobs=8)]: Done 147 tasks      | elapsed: 161.2min\n",
      "[Parallel(n_jobs=8)]: Done 148 tasks      | elapsed: 161.3min\n",
      "[Parallel(n_jobs=8)]: Done 149 tasks      | elapsed: 161.5min\n",
      "[Parallel(n_jobs=8)]: Done 150 tasks      | elapsed: 161.6min\n",
      "[Parallel(n_jobs=8)]: Done 151 tasks      | elapsed: 162.7min\n",
      "[Parallel(n_jobs=8)]: Done 152 tasks      | elapsed: 163.3min\n",
      "[Parallel(n_jobs=8)]: Done 153 tasks      | elapsed: 163.4min\n",
      "[Parallel(n_jobs=8)]: Done 154 tasks      | elapsed: 163.7min\n",
      "[Parallel(n_jobs=8)]: Done 155 tasks      | elapsed: 163.9min\n",
      "[Parallel(n_jobs=8)]: Done 156 tasks      | elapsed: 164.4min\n",
      "[Parallel(n_jobs=8)]: Done 157 tasks      | elapsed: 164.7min\n",
      "[Parallel(n_jobs=8)]: Done 158 tasks      | elapsed: 165.8min\n",
      "[Parallel(n_jobs=8)]: Done 159 tasks      | elapsed: 166.2min\n",
      "[Parallel(n_jobs=8)]: Done 160 tasks      | elapsed: 166.5min\n",
      "[Parallel(n_jobs=8)]: Done 161 tasks      | elapsed: 167.3min\n",
      "[Parallel(n_jobs=8)]: Done 162 tasks      | elapsed: 168.5min\n",
      "[Parallel(n_jobs=8)]: Done 163 tasks      | elapsed: 168.5min\n",
      "[Parallel(n_jobs=8)]: Done 164 tasks      | elapsed: 169.5min\n",
      "[Parallel(n_jobs=8)]: Done 165 tasks      | elapsed: 170.1min\n",
      "[Parallel(n_jobs=8)]: Done 166 tasks      | elapsed: 171.6min\n",
      "[Parallel(n_jobs=8)]: Done 167 tasks      | elapsed: 172.3min\n",
      "[Parallel(n_jobs=8)]: Done 168 tasks      | elapsed: 172.8min\n",
      "[Parallel(n_jobs=8)]: Done 169 tasks      | elapsed: 172.8min\n",
      "[Parallel(n_jobs=8)]: Done 170 tasks      | elapsed: 174.5min\n",
      "[Parallel(n_jobs=8)]: Done 171 tasks      | elapsed: 175.0min\n",
      "[Parallel(n_jobs=8)]: Done 172 tasks      | elapsed: 175.5min\n",
      "[Parallel(n_jobs=8)]: Done 173 tasks      | elapsed: 176.6min\n",
      "[Parallel(n_jobs=8)]: Done 174 tasks      | elapsed: 177.3min\n",
      "[Parallel(n_jobs=8)]: Done 175 tasks      | elapsed: 178.2min\n",
      "[Parallel(n_jobs=8)]: Done 176 tasks      | elapsed: 178.7min\n",
      "[Parallel(n_jobs=8)]: Done 177 tasks      | elapsed: 179.5min\n",
      "[Parallel(n_jobs=8)]: Done 178 tasks      | elapsed: 179.8min\n",
      "[Parallel(n_jobs=8)]: Done 179 tasks      | elapsed: 180.5min\n",
      "[Parallel(n_jobs=8)]: Done 180 tasks      | elapsed: 180.5min\n",
      "[Parallel(n_jobs=8)]: Done 181 tasks      | elapsed: 180.8min\n",
      "[Parallel(n_jobs=8)]: Done 182 tasks      | elapsed: 183.0min\n",
      "[Parallel(n_jobs=8)]: Done 183 tasks      | elapsed: 183.4min\n",
      "[Parallel(n_jobs=8)]: Done 184 tasks      | elapsed: 184.0min\n",
      "[Parallel(n_jobs=8)]: Done 185 tasks      | elapsed: 185.3min\n",
      "[Parallel(n_jobs=8)]: Done 186 tasks      | elapsed: 186.2min\n",
      "[Parallel(n_jobs=8)]: Done 187 tasks      | elapsed: 186.7min\n",
      "[Parallel(n_jobs=8)]: Done 188 tasks      | elapsed: 186.8min\n",
      "[Parallel(n_jobs=8)]: Done 189 tasks      | elapsed: 188.3min\n",
      "[Parallel(n_jobs=8)]: Done 190 tasks      | elapsed: 188.3min\n",
      "[Parallel(n_jobs=8)]: Done 191 tasks      | elapsed: 189.9min\n",
      "[Parallel(n_jobs=8)]: Done 192 tasks      | elapsed: 190.3min\n",
      "[Parallel(n_jobs=8)]: Done 193 tasks      | elapsed: 193.2min\n",
      "[Parallel(n_jobs=8)]: Done 194 tasks      | elapsed: 193.7min\n",
      "[Parallel(n_jobs=8)]: Done 195 tasks      | elapsed: 196.0min\n",
      "[Parallel(n_jobs=8)]: Done 196 tasks      | elapsed: 197.9min\n",
      "[Parallel(n_jobs=8)]: Done 197 tasks      | elapsed: 198.4min\n",
      "[Parallel(n_jobs=8)]: Done 198 tasks      | elapsed: 199.0min\n",
      "[Parallel(n_jobs=8)]: Done 199 tasks      | elapsed: 199.9min\n",
      "[Parallel(n_jobs=8)]: Done 200 tasks      | elapsed: 201.5min\n",
      "[Parallel(n_jobs=8)]: Done 201 tasks      | elapsed: 202.9min\n",
      "[Parallel(n_jobs=8)]: Done 202 tasks      | elapsed: 203.2min\n",
      "[Parallel(n_jobs=8)]: Done 203 tasks      | elapsed: 203.4min\n",
      "[Parallel(n_jobs=8)]: Done 204 tasks      | elapsed: 205.6min\n",
      "[Parallel(n_jobs=8)]: Done 205 tasks      | elapsed: 206.3min\n",
      "[Parallel(n_jobs=8)]: Done 206 tasks      | elapsed: 206.6min\n",
      "[Parallel(n_jobs=8)]: Done 207 tasks      | elapsed: 208.8min\n",
      "[Parallel(n_jobs=8)]: Done 208 tasks      | elapsed: 209.7min\n",
      "[Parallel(n_jobs=8)]: Done 209 tasks      | elapsed: 212.5min\n",
      "[Parallel(n_jobs=8)]: Done 210 tasks      | elapsed: 212.6min\n",
      "[Parallel(n_jobs=8)]: Done 211 tasks      | elapsed: 214.5min\n",
      "[Parallel(n_jobs=8)]: Done 212 tasks      | elapsed: 215.1min\n",
      "[Parallel(n_jobs=8)]: Done 213 tasks      | elapsed: 217.1min\n",
      "[Parallel(n_jobs=8)]: Done 214 tasks      | elapsed: 217.9min\n",
      "[Parallel(n_jobs=8)]: Done 215 tasks      | elapsed: 219.3min\n",
      "[Parallel(n_jobs=8)]: Done 216 tasks      | elapsed: 219.8min\n",
      "[Parallel(n_jobs=8)]: Done 217 tasks      | elapsed: 220.7min\n",
      "[Parallel(n_jobs=8)]: Done 218 tasks      | elapsed: 222.7min\n",
      "[Parallel(n_jobs=8)]: Done 219 tasks      | elapsed: 224.1min\n",
      "[Parallel(n_jobs=8)]: Done 220 tasks      | elapsed: 228.1min\n",
      "[Parallel(n_jobs=8)]: Done 221 tasks      | elapsed: 229.4min\n",
      "[Parallel(n_jobs=8)]: Done 222 tasks      | elapsed: 231.6min\n",
      "[Parallel(n_jobs=8)]: Done 223 tasks      | elapsed: 233.9min\n",
      "[Parallel(n_jobs=8)]: Done 224 tasks      | elapsed: 234.6min\n",
      "[Parallel(n_jobs=8)]: Done 225 tasks      | elapsed: 236.4min\n",
      "[Parallel(n_jobs=8)]: Done 226 tasks      | elapsed: 237.0min\n",
      "[Parallel(n_jobs=8)]: Done 227 tasks      | elapsed: 239.2min\n",
      "[Parallel(n_jobs=8)]: Done 228 tasks      | elapsed: 239.4min\n",
      "[Parallel(n_jobs=8)]: Done 229 tasks      | elapsed: 241.5min\n",
      "[Parallel(n_jobs=8)]: Done 230 tasks      | elapsed: 244.5min\n",
      "[Parallel(n_jobs=8)]: Done 231 tasks      | elapsed: 245.9min\n",
      "[Parallel(n_jobs=8)]: Done 232 tasks      | elapsed: 249.2min\n",
      "[Parallel(n_jobs=8)]: Done 233 tasks      | elapsed: 249.8min\n",
      "[Parallel(n_jobs=8)]: Done 234 tasks      | elapsed: 250.6min\n",
      "[Parallel(n_jobs=8)]: Done 235 tasks      | elapsed: 253.6min\n",
      "[Parallel(n_jobs=8)]: Done 236 tasks      | elapsed: 255.0min\n",
      "[Parallel(n_jobs=8)]: Done 237 tasks      | elapsed: 255.2min\n",
      "[Parallel(n_jobs=8)]: Done 238 tasks      | elapsed: 258.2min\n",
      "[Parallel(n_jobs=8)]: Done 239 tasks      | elapsed: 260.0min\n",
      "[Parallel(n_jobs=8)]: Done 240 tasks      | elapsed: 261.8min\n",
      "[Parallel(n_jobs=8)]: Done 241 tasks      | elapsed: 264.1min\n",
      "[Parallel(n_jobs=8)]: Done 242 tasks      | elapsed: 266.8min\n",
      "[Parallel(n_jobs=8)]: Done 243 tasks      | elapsed: 268.4min\n",
      "[Parallel(n_jobs=8)]: Done 244 tasks      | elapsed: 270.8min\n",
      "[Parallel(n_jobs=8)]: Done 245 tasks      | elapsed: 271.0min\n",
      "[Parallel(n_jobs=8)]: Done 246 tasks      | elapsed: 271.9min\n",
      "[Parallel(n_jobs=8)]: Done 247 tasks      | elapsed: 276.8min\n",
      "[Parallel(n_jobs=8)]: Done 248 tasks      | elapsed: 280.7min\n",
      "[Parallel(n_jobs=8)]: Done 249 tasks      | elapsed: 281.3min\n",
      "[Parallel(n_jobs=8)]: Done 250 tasks      | elapsed: 287.1min\n",
      "[Parallel(n_jobs=8)]: Done 251 tasks      | elapsed: 289.0min\n",
      "[Parallel(n_jobs=8)]: Done 252 tasks      | elapsed: 290.3min\n",
      "[Parallel(n_jobs=8)]: Done 253 tasks      | elapsed: 291.0min\n",
      "[Parallel(n_jobs=8)]: Done 254 tasks      | elapsed: 291.1min\n",
      "[Parallel(n_jobs=8)]: Done 255 tasks      | elapsed: 292.0min\n",
      "[Parallel(n_jobs=8)]: Done 261 out of 270 | elapsed: 309.3min remaining: 10.7min\n",
      "[Parallel(n_jobs=8)]: Done 267 out of 270 | elapsed: 321.5min remaining:  3.6min\n",
      "[Parallel(n_jobs=8)]: Done 270 out of 270 | elapsed: 323.7min finished\n",
      "[0]\tvalidation_0-mae:50.6124\n",
      "Will train until validation_0-mae hasn't improved in 50 rounds.\n",
      "[1]\tvalidation_0-mae:45.6932\n",
      "[2]\tvalidation_0-mae:41.239\n",
      "[3]\tvalidation_0-mae:37.2304\n",
      "[4]\tvalidation_0-mae:33.6245\n",
      "[5]\tvalidation_0-mae:30.3997\n",
      "[6]\tvalidation_0-mae:27.4923\n",
      "[7]\tvalidation_0-mae:24.8556\n",
      "[8]\tvalidation_0-mae:22.4962\n",
      "[9]\tvalidation_0-mae:20.3782\n",
      "[10]\tvalidation_0-mae:18.4947\n",
      "[11]\tvalidation_0-mae:16.7978\n"
     ]
    },
    {
     "name": "stdout",
     "output_type": "stream",
     "text": [
      "[12]\tvalidation_0-mae:15.2923\n",
      "[13]\tvalidation_0-mae:13.973\n",
      "[14]\tvalidation_0-mae:12.8128\n",
      "[15]\tvalidation_0-mae:11.7837\n",
      "[16]\tvalidation_0-mae:10.8893\n",
      "[17]\tvalidation_0-mae:10.117\n",
      "[18]\tvalidation_0-mae:9.45354\n",
      "[19]\tvalidation_0-mae:8.88722\n",
      "[20]\tvalidation_0-mae:8.40548\n",
      "[21]\tvalidation_0-mae:7.99694\n",
      "[22]\tvalidation_0-mae:7.65801\n",
      "[23]\tvalidation_0-mae:7.3671\n",
      "[24]\tvalidation_0-mae:7.11682\n",
      "[25]\tvalidation_0-mae:6.90746\n",
      "[26]\tvalidation_0-mae:6.73296\n",
      "[27]\tvalidation_0-mae:6.59137\n",
      "[28]\tvalidation_0-mae:6.46491\n",
      "[29]\tvalidation_0-mae:6.36373\n",
      "[30]\tvalidation_0-mae:6.27198\n",
      "[31]\tvalidation_0-mae:6.196\n",
      "[32]\tvalidation_0-mae:6.13186\n",
      "[33]\tvalidation_0-mae:6.07471\n",
      "[34]\tvalidation_0-mae:6.02799\n",
      "[35]\tvalidation_0-mae:5.99042\n",
      "[36]\tvalidation_0-mae:5.95782\n",
      "[37]\tvalidation_0-mae:5.92792\n",
      "[38]\tvalidation_0-mae:5.9025\n",
      "[39]\tvalidation_0-mae:5.88025\n",
      "[40]\tvalidation_0-mae:5.8609\n",
      "[41]\tvalidation_0-mae:5.8447\n",
      "[42]\tvalidation_0-mae:5.83024\n",
      "[43]\tvalidation_0-mae:5.81706\n",
      "[44]\tvalidation_0-mae:5.80586\n",
      "[45]\tvalidation_0-mae:5.7942\n",
      "[46]\tvalidation_0-mae:5.78346\n",
      "[47]\tvalidation_0-mae:5.77537\n",
      "[48]\tvalidation_0-mae:5.76772\n",
      "[49]\tvalidation_0-mae:5.75663\n",
      "[50]\tvalidation_0-mae:5.74912\n",
      "[51]\tvalidation_0-mae:5.74322\n",
      "[52]\tvalidation_0-mae:5.7371\n",
      "[53]\tvalidation_0-mae:5.73146\n",
      "[54]\tvalidation_0-mae:5.72573\n",
      "[55]\tvalidation_0-mae:5.72031\n",
      "[56]\tvalidation_0-mae:5.71639\n",
      "[57]\tvalidation_0-mae:5.71297\n",
      "[58]\tvalidation_0-mae:5.70891\n",
      "[59]\tvalidation_0-mae:5.70583\n",
      "[60]\tvalidation_0-mae:5.70235\n",
      "[61]\tvalidation_0-mae:5.69678\n",
      "[62]\tvalidation_0-mae:5.69266\n",
      "[63]\tvalidation_0-mae:5.68916\n",
      "[64]\tvalidation_0-mae:5.6862\n",
      "[65]\tvalidation_0-mae:5.68355\n",
      "[66]\tvalidation_0-mae:5.68188\n",
      "[67]\tvalidation_0-mae:5.67795\n",
      "[68]\tvalidation_0-mae:5.6769\n",
      "[69]\tvalidation_0-mae:5.67477\n",
      "[70]\tvalidation_0-mae:5.67111\n",
      "[71]\tvalidation_0-mae:5.66702\n",
      "[72]\tvalidation_0-mae:5.66414\n",
      "[73]\tvalidation_0-mae:5.66105\n",
      "[74]\tvalidation_0-mae:5.65863\n",
      "[75]\tvalidation_0-mae:5.65712\n",
      "[76]\tvalidation_0-mae:5.65458\n",
      "[77]\tvalidation_0-mae:5.65084\n",
      "[78]\tvalidation_0-mae:5.6497\n",
      "[79]\tvalidation_0-mae:5.64898\n",
      "[80]\tvalidation_0-mae:5.64785\n",
      "[81]\tvalidation_0-mae:5.64481\n",
      "[82]\tvalidation_0-mae:5.64339\n",
      "[83]\tvalidation_0-mae:5.64278\n",
      "[84]\tvalidation_0-mae:5.64087\n",
      "[85]\tvalidation_0-mae:5.63904\n",
      "[86]\tvalidation_0-mae:5.63655\n",
      "[87]\tvalidation_0-mae:5.63544\n",
      "[88]\tvalidation_0-mae:5.63364\n",
      "[89]\tvalidation_0-mae:5.63046\n",
      "[90]\tvalidation_0-mae:5.63004\n",
      "[91]\tvalidation_0-mae:5.62809\n",
      "[92]\tvalidation_0-mae:5.6258\n",
      "[93]\tvalidation_0-mae:5.62547\n",
      "[94]\tvalidation_0-mae:5.62371\n",
      "[95]\tvalidation_0-mae:5.62298\n",
      "[96]\tvalidation_0-mae:5.62085\n",
      "[97]\tvalidation_0-mae:5.61997\n",
      "[98]\tvalidation_0-mae:5.61944\n",
      "[99]\tvalidation_0-mae:5.61814\n",
      "[100]\tvalidation_0-mae:5.61553\n",
      "[101]\tvalidation_0-mae:5.61424\n",
      "[102]\tvalidation_0-mae:5.613\n",
      "[103]\tvalidation_0-mae:5.61236\n",
      "[104]\tvalidation_0-mae:5.61051\n",
      "[105]\tvalidation_0-mae:5.60927\n",
      "[106]\tvalidation_0-mae:5.6079\n",
      "[107]\tvalidation_0-mae:5.60651\n",
      "[108]\tvalidation_0-mae:5.60534\n",
      "[109]\tvalidation_0-mae:5.60401\n",
      "[110]\tvalidation_0-mae:5.60221\n",
      "[111]\tvalidation_0-mae:5.60119\n",
      "[112]\tvalidation_0-mae:5.5993\n",
      "[113]\tvalidation_0-mae:5.59792\n",
      "[114]\tvalidation_0-mae:5.59699\n",
      "[115]\tvalidation_0-mae:5.59562\n",
      "[116]\tvalidation_0-mae:5.59481\n",
      "[117]\tvalidation_0-mae:5.59341\n",
      "[118]\tvalidation_0-mae:5.59266\n",
      "[119]\tvalidation_0-mae:5.58973\n",
      "[120]\tvalidation_0-mae:5.58796\n",
      "[121]\tvalidation_0-mae:5.58752\n",
      "[122]\tvalidation_0-mae:5.58581\n",
      "[123]\tvalidation_0-mae:5.58473\n",
      "[124]\tvalidation_0-mae:5.58348\n",
      "[125]\tvalidation_0-mae:5.5818\n",
      "[126]\tvalidation_0-mae:5.58026\n",
      "[127]\tvalidation_0-mae:5.58009\n",
      "[128]\tvalidation_0-mae:5.57936\n",
      "[129]\tvalidation_0-mae:5.57908\n",
      "[130]\tvalidation_0-mae:5.57844\n",
      "[131]\tvalidation_0-mae:5.57789\n",
      "[132]\tvalidation_0-mae:5.57754\n",
      "[133]\tvalidation_0-mae:5.57727\n",
      "[134]\tvalidation_0-mae:5.5766\n",
      "[135]\tvalidation_0-mae:5.57613\n",
      "[136]\tvalidation_0-mae:5.5741\n",
      "[137]\tvalidation_0-mae:5.57387\n",
      "[138]\tvalidation_0-mae:5.57244\n",
      "[139]\tvalidation_0-mae:5.57053\n",
      "[140]\tvalidation_0-mae:5.56948\n",
      "[141]\tvalidation_0-mae:5.56803\n",
      "[142]\tvalidation_0-mae:5.56773\n",
      "[143]\tvalidation_0-mae:5.56551\n",
      "[144]\tvalidation_0-mae:5.56471\n",
      "[145]\tvalidation_0-mae:5.56285\n",
      "[146]\tvalidation_0-mae:5.56239\n",
      "[147]\tvalidation_0-mae:5.56169\n",
      "[148]\tvalidation_0-mae:5.56013\n",
      "[149]\tvalidation_0-mae:5.55887\n",
      "Wall time: 5h 27min 22s\n"
     ]
    },
    {
     "data": {
      "text/plain": [
       "GridSearchCV(cv=PredefinedSplit(test_fold=array([-1, -1, ...,  0,  0])),\n",
       "       error_score='raise',\n",
       "       estimator=XGBRegressor(base_score=0.5, booster='gbtree', colsample_bylevel=1,\n",
       "       colsample_bytree=1, gamma=0, learning_rate=0.1, max_delta_step=0,\n",
       "       max_depth=3, min_child_weight=1, missing=None, n_estimators=100,\n",
       "       n_jobs=8, nthread=None, objective='reg:linear', random_state=0,\n",
       "       reg_alpha=0, reg_lambda=1, scale_pos_weight=1, seed=None,\n",
       "       silent=True, subsample=1),\n",
       "       fit_params={'early_stopping_rounds': 50, 'eval_metric': 'mae', 'eval_set': [[array([[24.     , 22.     , ..., 21.97143, 21.01533],\n",
       "       [35.     , 24.     , ..., 21.97143, 22.97318],\n",
       "       ...,\n",
       "       [97.     , 97.     , ..., 55.97143, 82.85441],\n",
       "       [99.     , 97.     , ..., 55.97143, 87.98467]], dtype=float32), array([38., 26., ..., 62., 82.], dtype=float32)]]},\n",
       "       iid=True, n_jobs=8,\n",
       "       param_grid={'n_estimators': array([ 50, 100, 150]), 'min_child_weight': array([10, 20, 30, 40, 50, 60, 70, 80, 90]), 'learning_rate': [0.1], 'colsample_bytree': array([0.8, 0.9]), 'max_depth': array([1, 3, 5, 7, 9]), 'subsample': [0.9], 'reg_lambda': [1.0]},\n",
       "       pre_dispatch='2*n_jobs', refit=True, return_train_score='warn',\n",
       "       scoring=None, verbose=50)"
      ]
     },
     "execution_count": 89,
     "metadata": {},
     "output_type": "execute_result"
    }
   ],
   "source": [
    "%time grid_xgb.fit(X_training.values,y_training.values)"
   ]
  },
  {
   "cell_type": "code",
   "execution_count": 91,
   "metadata": {},
   "outputs": [
    {
     "name": "stdout",
     "output_type": "stream",
     "text": [
      "11.48302222079918\n"
     ]
    }
   ],
   "source": [
    "xgb_best = grid_xgb.best_estimator_\n",
    "pred_validation_xgb = xgb_best.predict(X_validation.values)\n",
    "print(smape(pred_validation_xgb, y_validation.values))"
   ]
  },
  {
   "cell_type": "code",
   "execution_count": 92,
   "metadata": {},
   "outputs": [],
   "source": [
    "# PB score = 14.09\n",
    "pred_xgb_best = xgb_best.predict(X_testing.values)\n",
    "submission_xgb = pd.DataFrame({'Id': sample_submission.id, 'sales': pred_xgb_best})\n",
    "submission_xgb.to_csv('../output/submission_xgb.csv', index=False)"
   ]
  },
  {
   "cell_type": "code",
   "execution_count": 106,
   "metadata": {},
   "outputs": [
    {
     "data": {
      "text/html": [
       "<div>\n",
       "<style scoped>\n",
       "    .dataframe tbody tr th:only-of-type {\n",
       "        vertical-align: middle;\n",
       "    }\n",
       "\n",
       "    .dataframe tbody tr th {\n",
       "        vertical-align: top;\n",
       "    }\n",
       "\n",
       "    .dataframe thead th {\n",
       "        text-align: right;\n",
       "    }\n",
       "</style>\n",
       "<table border=\"1\" class=\"dataframe\">\n",
       "  <thead>\n",
       "    <tr style=\"text-align: right;\">\n",
       "      <th></th>\n",
       "      <th>feature</th>\n",
       "      <th>weight</th>\n",
       "    </tr>\n",
       "  </thead>\n",
       "  <tbody>\n",
       "    <tr>\n",
       "      <th>23</th>\n",
       "      <td>store_sales_1y</td>\n",
       "      <td>0.073849</td>\n",
       "    </tr>\n",
       "    <tr>\n",
       "      <th>37</th>\n",
       "      <td>avg_weekly_sales</td>\n",
       "      <td>0.050204</td>\n",
       "    </tr>\n",
       "    <tr>\n",
       "      <th>35</th>\n",
       "      <td>item_sales_1y</td>\n",
       "      <td>0.049792</td>\n",
       "    </tr>\n",
       "    <tr>\n",
       "      <th>38</th>\n",
       "      <td>avg_weekday_sales</td>\n",
       "      <td>0.047701</td>\n",
       "    </tr>\n",
       "    <tr>\n",
       "      <th>36</th>\n",
       "      <td>avg_monthly_sales</td>\n",
       "      <td>0.045926</td>\n",
       "    </tr>\n",
       "    <tr>\n",
       "      <th>12</th>\n",
       "      <td>store_sales_3m</td>\n",
       "      <td>0.042883</td>\n",
       "    </tr>\n",
       "    <tr>\n",
       "      <th>22</th>\n",
       "      <td>store_sales_9m</td>\n",
       "      <td>0.037780</td>\n",
       "    </tr>\n",
       "    <tr>\n",
       "      <th>34</th>\n",
       "      <td>item_sales_9m</td>\n",
       "      <td>0.036164</td>\n",
       "    </tr>\n",
       "    <tr>\n",
       "      <th>19</th>\n",
       "      <td>store_sales_4m</td>\n",
       "      <td>0.031473</td>\n",
       "    </tr>\n",
       "    <tr>\n",
       "      <th>31</th>\n",
       "      <td>item_sales_4m</td>\n",
       "      <td>0.030237</td>\n",
       "    </tr>\n",
       "    <tr>\n",
       "      <th>24</th>\n",
       "      <td>item_sales_3m</td>\n",
       "      <td>0.029603</td>\n",
       "    </tr>\n",
       "    <tr>\n",
       "      <th>21</th>\n",
       "      <td>store_sales_6m</td>\n",
       "      <td>0.029508</td>\n",
       "    </tr>\n",
       "    <tr>\n",
       "      <th>20</th>\n",
       "      <td>store_sales_5m</td>\n",
       "      <td>0.028335</td>\n",
       "    </tr>\n",
       "    <tr>\n",
       "      <th>11</th>\n",
       "      <td>sales_1y</td>\n",
       "      <td>0.027004</td>\n",
       "    </tr>\n",
       "    <tr>\n",
       "      <th>33</th>\n",
       "      <td>item_sales_6m</td>\n",
       "      <td>0.026909</td>\n",
       "    </tr>\n",
       "    <tr>\n",
       "      <th>13</th>\n",
       "      <td>store_sales_3m_1</td>\n",
       "      <td>0.025578</td>\n",
       "    </tr>\n",
       "    <tr>\n",
       "      <th>32</th>\n",
       "      <td>item_sales_5m</td>\n",
       "      <td>0.025071</td>\n",
       "    </tr>\n",
       "    <tr>\n",
       "      <th>17</th>\n",
       "      <td>store_sales_3m_5</td>\n",
       "      <td>0.024215</td>\n",
       "    </tr>\n",
       "    <tr>\n",
       "      <th>25</th>\n",
       "      <td>item_sales_3m_1</td>\n",
       "      <td>0.021616</td>\n",
       "    </tr>\n",
       "    <tr>\n",
       "      <th>18</th>\n",
       "      <td>store_sales_3m_6</td>\n",
       "      <td>0.020411</td>\n",
       "    </tr>\n",
       "    <tr>\n",
       "      <th>16</th>\n",
       "      <td>store_sales_3m_4</td>\n",
       "      <td>0.020316</td>\n",
       "    </tr>\n",
       "    <tr>\n",
       "      <th>30</th>\n",
       "      <td>item_sales_3m_6</td>\n",
       "      <td>0.018732</td>\n",
       "    </tr>\n",
       "    <tr>\n",
       "      <th>15</th>\n",
       "      <td>store_sales_3m_3</td>\n",
       "      <td>0.018256</td>\n",
       "    </tr>\n",
       "    <tr>\n",
       "      <th>28</th>\n",
       "      <td>item_sales_3m_4</td>\n",
       "      <td>0.017527</td>\n",
       "    </tr>\n",
       "    <tr>\n",
       "      <th>14</th>\n",
       "      <td>store_sales_3m_2</td>\n",
       "      <td>0.017274</td>\n",
       "    </tr>\n",
       "    <tr>\n",
       "      <th>6</th>\n",
       "      <td>sales_3m_6</td>\n",
       "      <td>0.015752</td>\n",
       "    </tr>\n",
       "    <tr>\n",
       "      <th>27</th>\n",
       "      <td>item_sales_3m_3</td>\n",
       "      <td>0.015625</td>\n",
       "    </tr>\n",
       "    <tr>\n",
       "      <th>29</th>\n",
       "      <td>item_sales_3m_5</td>\n",
       "      <td>0.015435</td>\n",
       "    </tr>\n",
       "    <tr>\n",
       "      <th>26</th>\n",
       "      <td>item_sales_3m_2</td>\n",
       "      <td>0.015340</td>\n",
       "    </tr>\n",
       "    <tr>\n",
       "      <th>10</th>\n",
       "      <td>sales_9m</td>\n",
       "      <td>0.015150</td>\n",
       "    </tr>\n",
       "    <tr>\n",
       "      <th>1</th>\n",
       "      <td>sales_3m_1</td>\n",
       "      <td>0.015087</td>\n",
       "    </tr>\n",
       "    <tr>\n",
       "      <th>4</th>\n",
       "      <td>sales_3m_4</td>\n",
       "      <td>0.015055</td>\n",
       "    </tr>\n",
       "    <tr>\n",
       "      <th>2</th>\n",
       "      <td>sales_3m_2</td>\n",
       "      <td>0.015023</td>\n",
       "    </tr>\n",
       "    <tr>\n",
       "      <th>5</th>\n",
       "      <td>sales_3m_5</td>\n",
       "      <td>0.014548</td>\n",
       "    </tr>\n",
       "    <tr>\n",
       "      <th>3</th>\n",
       "      <td>sales_3m_3</td>\n",
       "      <td>0.013756</td>\n",
       "    </tr>\n",
       "    <tr>\n",
       "      <th>0</th>\n",
       "      <td>sales_3m</td>\n",
       "      <td>0.013660</td>\n",
       "    </tr>\n",
       "    <tr>\n",
       "      <th>8</th>\n",
       "      <td>sales_5m</td>\n",
       "      <td>0.013407</td>\n",
       "    </tr>\n",
       "    <tr>\n",
       "      <th>7</th>\n",
       "      <td>sales_4m</td>\n",
       "      <td>0.013058</td>\n",
       "    </tr>\n",
       "    <tr>\n",
       "      <th>9</th>\n",
       "      <td>sales_6m</td>\n",
       "      <td>0.012741</td>\n",
       "    </tr>\n",
       "  </tbody>\n",
       "</table>\n",
       "</div>"
      ],
      "text/plain": [
       "              feature    weight\n",
       "23     store_sales_1y  0.073849\n",
       "37   avg_weekly_sales  0.050204\n",
       "35      item_sales_1y  0.049792\n",
       "38  avg_weekday_sales  0.047701\n",
       "36  avg_monthly_sales  0.045926\n",
       "12     store_sales_3m  0.042883\n",
       "22     store_sales_9m  0.037780\n",
       "34      item_sales_9m  0.036164\n",
       "19     store_sales_4m  0.031473\n",
       "31      item_sales_4m  0.030237\n",
       "24      item_sales_3m  0.029603\n",
       "21     store_sales_6m  0.029508\n",
       "20     store_sales_5m  0.028335\n",
       "11           sales_1y  0.027004\n",
       "33      item_sales_6m  0.026909\n",
       "13   store_sales_3m_1  0.025578\n",
       "32      item_sales_5m  0.025071\n",
       "17   store_sales_3m_5  0.024215\n",
       "25    item_sales_3m_1  0.021616\n",
       "18   store_sales_3m_6  0.020411\n",
       "16   store_sales_3m_4  0.020316\n",
       "30    item_sales_3m_6  0.018732\n",
       "15   store_sales_3m_3  0.018256\n",
       "28    item_sales_3m_4  0.017527\n",
       "14   store_sales_3m_2  0.017274\n",
       "6          sales_3m_6  0.015752\n",
       "27    item_sales_3m_3  0.015625\n",
       "29    item_sales_3m_5  0.015435\n",
       "26    item_sales_3m_2  0.015340\n",
       "10           sales_9m  0.015150\n",
       "1          sales_3m_1  0.015087\n",
       "4          sales_3m_4  0.015055\n",
       "2          sales_3m_2  0.015023\n",
       "5          sales_3m_5  0.014548\n",
       "3          sales_3m_3  0.013756\n",
       "0            sales_3m  0.013660\n",
       "8            sales_5m  0.013407\n",
       "7            sales_4m  0.013058\n",
       "9            sales_6m  0.012741"
      ]
     },
     "execution_count": 106,
     "metadata": {},
     "output_type": "execute_result"
    }
   ],
   "source": [
    "# Feature importance\n",
    "feature_importance = pd.DataFrame(data=cols[1:],columns=['feature'])\n",
    "feature_importance['weight'] = xgb_best.feature_importances_\n",
    "feature_importance = feature_importance.sort_values('weight',ascending=False)\n",
    "feature_importance.to_csv('../output/feature_importance.csv', index=False)\n",
    "feature_importance"
   ]
  },
  {
   "cell_type": "markdown",
   "metadata": {},
   "source": [
    "#### Xgboost with select features"
   ]
  },
  {
   "cell_type": "code",
   "execution_count": null,
   "metadata": {},
   "outputs": [],
   "source": [
    "feature_importance"
   ]
  },
  {
   "cell_type": "code",
   "execution_count": null,
   "metadata": {},
   "outputs": [],
   "source": []
  },
  {
   "cell_type": "markdown",
   "metadata": {},
   "source": [
    "#### Stacking\n",
    "Using ridge regression with validation data"
   ]
  },
  {
   "cell_type": "code",
   "execution_count": 93,
   "metadata": {},
   "outputs": [
    {
     "name": "stdout",
     "output_type": "stream",
     "text": [
      "(61000, 2)\n"
     ]
    }
   ],
   "source": [
    "X_stack = np.stack((pred_validation_lasso, pred_validation_xgb), axis=-1)\n",
    "y_stack = y_validation.values\n",
    "print(X_stack.shape)"
   ]
  },
  {
   "cell_type": "code",
   "execution_count": 94,
   "metadata": {},
   "outputs": [
    {
     "data": {
      "text/plain": [
       "Ridge(alpha=0.1, copy_X=True, fit_intercept=True, max_iter=None,\n",
       "   normalize=False, random_state=71, solver='auto', tol=0.001)"
      ]
     },
     "execution_count": 94,
     "metadata": {},
     "output_type": "execute_result"
    }
   ],
   "source": [
    "reg_stack = Ridge(random_state=RANDOM_STATE, alpha=0.1)\n",
    "reg_stack.fit(X_stack, y_stack)"
   ]
  },
  {
   "cell_type": "code",
   "execution_count": 95,
   "metadata": {},
   "outputs": [
    {
     "name": "stdout",
     "output_type": "stream",
     "text": [
      "11.458029038385781\n"
     ]
    }
   ],
   "source": [
    "pred_validation_stack = reg_stack.predict(X_stack)\n",
    "print(smape(pred_validation_stack, y_validation.values))"
   ]
  },
  {
   "cell_type": "code",
   "execution_count": 96,
   "metadata": {},
   "outputs": [],
   "source": [
    "# Prediction using the combined predictor\n",
    "X_stack_test = np.stack((pred_reg_best, pred_xgb_best), axis=-1)\n",
    "pred_test_stack = reg_stack.predict(X_stack_test)\n",
    "submission_stack = pd.DataFrame({'Id': sample_submission.id, 'sales': pred_test_stack})\n",
    "submission_stack.to_csv('../output/submission_stack.csv', index=False)"
   ]
  },
  {
   "cell_type": "code",
   "execution_count": null,
   "metadata": {},
   "outputs": [],
   "source": []
  }
 ],
 "metadata": {
  "kernelspec": {
   "display_name": "Python 3",
   "language": "python",
   "name": "python3"
  },
  "language_info": {
   "codemirror_mode": {
    "name": "ipython",
    "version": 3
   },
   "file_extension": ".py",
   "mimetype": "text/x-python",
   "name": "python",
   "nbconvert_exporter": "python",
   "pygments_lexer": "ipython3",
   "version": "3.6.5"
  }
 },
 "nbformat": 4,
 "nbformat_minor": 1
}
